{
 "cells": [
  {
   "cell_type": "markdown",
   "metadata": {},
   "source": [
    "# How can we control the increasing number of accidents in New York?"
   ]
  },
  {
   "cell_type": "code",
   "execution_count": 1,
   "metadata": {},
   "outputs": [],
   "source": [
    "import json\n",
    "import requests\n",
    "from bs4 import BeautifulSoup\n",
    "import pandas as pd\n",
    "import matplotlib.pyplot as plt\n",
    "import seaborn as sns\n",
    "import numpy\n",
    "%matplotlib inline"
   ]
  },
  {
   "cell_type": "markdown",
   "metadata": {},
   "source": [
    "## Introduction"
   ]
  },
  {
   "cell_type": "markdown",
   "metadata": {},
   "source": [
    "**Business Context.** The city of New York has seen a rise in the number of accidents on the roads in the city. They would like to know if the number of accidents have increased in the last few weeks. For all the reported accidents, they have collected details for each accident and have been maintaining records for the past year and a half (from January 2018 to August 2019). \n",
    "\n",
    "The city has contracted you to build visualizations that would help them identify patterns in accidents, which would help them take preventive actions to reduce the number of accidents in the future. They have certain parameters like borough, time of day, reason for accident, etc. Which they care about and which they would like to get specific information on."
   ]
  },
  {
   "cell_type": "markdown",
   "metadata": {},
   "source": [
    "**Business Problem.** Your task is to format the given data and provide visualizations that would answer the specific questions the client has, which are mentioned below."
   ]
  },
  {
   "cell_type": "markdown",
   "metadata": {},
   "source": [
    "**Analytical Context.** You are given a CSV file (stored in the already created ```data``` folder) containing details about each accident like date, time, location of the accident, reason for the accident, types of vehicles involved, injury and death count, etc. The delimiter in the given CSV file is `;` instead of the default `,`. You will be performing the following tasks on the data:\n",
    "\n",
    "1. Extract additional borough data stored in a JSON file\n",
    "2. Read, transform, and prepare data for visualization\n",
    "3. Perform analytics and construct visualizations of the data to identify patterns in the dataset\n",
    "        \n",
    "The client has a specific set of questions they would like to get answers to. You will need to provide visualizations to accompany these:\n",
    "\n",
    "1. How have the number of accidents fluctuated over the past year and a half? Have they increased over the time?\n",
    "2. For any particular day, during which hours are accidents most likely to occur?\n",
    "3. Are there more accidents on weekdays than weekends?\n",
    "4. What are the accidents count-to-area ratio per borough? Which boroughs have disproportionately large numbers of accidents for their size?\n",
    "5. For each borough, during which hours are accidents most likely to occur?\n",
    "6. What are the top 5 causes of accidents in the city? \n",
    "7. What types of vehicles are most involved in accidents per borough?\n",
    "8. What types of vehicles are most involved in deaths?"
   ]
  },
  {
   "cell_type": "markdown",
   "metadata": {},
   "source": [
    "## Fetching the relevant data"
   ]
  },
  {
   "cell_type": "markdown",
   "metadata": {},
   "source": [
    "The client has requested analysis of the accidents-to-area ratio for boroughs. Borough data is stored in a JSON file in the ```data``` folder."
   ]
  },
  {
   "cell_type": "markdown",
   "metadata": {},
   "source": [
    "### Question (5 min):\n",
    "\n",
    "Use the function ```json.load()``` to load the file ```borough_data.json``` as a dictionary."
   ]
  },
  {
   "cell_type": "markdown",
   "metadata": {},
   "source": [
    "**Answer**"
   ]
  },
  {
   "cell_type": "code",
   "execution_count": 2,
   "metadata": {},
   "outputs": [
    {
     "name": "stdout",
     "output_type": "stream",
     "text": [
      "/Users/ggoni/Google Drive/DS4A/W1/extended_case_1_student\r\n"
     ]
    }
   ],
   "source": [
    "!pwd"
   ]
  },
  {
   "cell_type": "code",
   "execution_count": 3,
   "metadata": {},
   "outputs": [],
   "source": [
    "json_file_path = \"data/borough_data.json\"\n",
    "\n",
    "with open(json_file_path, 'r') as j:\n",
    "     contents = json.loads(j.read())"
   ]
  },
  {
   "cell_type": "code",
   "execution_count": 4,
   "metadata": {},
   "outputs": [
    {
     "data": {
      "text/plain": [
       "{'the bronx': {'name': 'the bronx', 'population': 1471160.0, 'area': 42.1},\n",
       " 'brooklyn': {'name': 'brooklyn', 'population': 2648771.0, 'area': 70.82},\n",
       " 'manhattan': {'name': 'manhattan', 'population': 1664727.0, 'area': 22.83},\n",
       " 'queens': {'name': 'queens', 'population': 2358582.0, 'area': 108.53},\n",
       " 'staten island': {'name': 'staten island',\n",
       "  'population': 479458.0,\n",
       "  'area': 58.37}}"
      ]
     },
     "execution_count": 4,
     "metadata": {},
     "output_type": "execute_result"
    }
   ],
   "source": [
    "contents"
   ]
  },
  {
   "cell_type": "markdown",
   "metadata": {},
   "source": [
    "_I am \"old school guy\", so usually is easier for me to see this a DataFrame_"
   ]
  },
  {
   "cell_type": "code",
   "execution_count": 5,
   "metadata": {},
   "outputs": [
    {
     "data": {
      "text/html": [
       "<div>\n",
       "<style scoped>\n",
       "    .dataframe tbody tr th:only-of-type {\n",
       "        vertical-align: middle;\n",
       "    }\n",
       "\n",
       "    .dataframe tbody tr th {\n",
       "        vertical-align: top;\n",
       "    }\n",
       "\n",
       "    .dataframe thead th {\n",
       "        text-align: right;\n",
       "    }\n",
       "</style>\n",
       "<table border=\"1\" class=\"dataframe\">\n",
       "  <thead>\n",
       "    <tr style=\"text-align: right;\">\n",
       "      <th></th>\n",
       "      <th>the bronx</th>\n",
       "      <th>brooklyn</th>\n",
       "      <th>manhattan</th>\n",
       "      <th>queens</th>\n",
       "      <th>staten island</th>\n",
       "    </tr>\n",
       "  </thead>\n",
       "  <tbody>\n",
       "    <tr>\n",
       "      <th>area</th>\n",
       "      <td>42.1</td>\n",
       "      <td>70.82</td>\n",
       "      <td>22.83</td>\n",
       "      <td>108.53</td>\n",
       "      <td>58.37</td>\n",
       "    </tr>\n",
       "    <tr>\n",
       "      <th>name</th>\n",
       "      <td>the bronx</td>\n",
       "      <td>brooklyn</td>\n",
       "      <td>manhattan</td>\n",
       "      <td>queens</td>\n",
       "      <td>staten island</td>\n",
       "    </tr>\n",
       "    <tr>\n",
       "      <th>population</th>\n",
       "      <td>1.47116e+06</td>\n",
       "      <td>2.64877e+06</td>\n",
       "      <td>1.66473e+06</td>\n",
       "      <td>2.35858e+06</td>\n",
       "      <td>479458</td>\n",
       "    </tr>\n",
       "  </tbody>\n",
       "</table>\n",
       "</div>"
      ],
      "text/plain": [
       "              the bronx     brooklyn    manhattan       queens  staten island\n",
       "area               42.1        70.82        22.83       108.53          58.37\n",
       "name          the bronx     brooklyn    manhattan       queens  staten island\n",
       "population  1.47116e+06  2.64877e+06  1.66473e+06  2.35858e+06         479458"
      ]
     },
     "execution_count": 5,
     "metadata": {},
     "output_type": "execute_result"
    }
   ],
   "source": [
    "df_contents=pd.DataFrame(contents)\n",
    "df_contents"
   ]
  },
  {
   "cell_type": "markdown",
   "metadata": {},
   "source": [
    "### Question (5 min):\n",
    "\n",
    "Similarly, use the pandas function ```read_csv()``` to load the file ```accidents.csv``` as a DataFrame. Name this DataFrame ```df```. "
   ]
  },
  {
   "cell_type": "markdown",
   "metadata": {},
   "source": [
    "**Answer**"
   ]
  },
  {
   "cell_type": "code",
   "execution_count": 6,
   "metadata": {},
   "outputs": [],
   "source": [
    "df=pd.read_csv('data/accidents.csv',sep=\";\")"
   ]
  },
  {
   "cell_type": "code",
   "execution_count": 7,
   "metadata": {},
   "outputs": [
    {
     "data": {
      "text/html": [
       "<div>\n",
       "<style scoped>\n",
       "    .dataframe tbody tr th:only-of-type {\n",
       "        vertical-align: middle;\n",
       "    }\n",
       "\n",
       "    .dataframe tbody tr th {\n",
       "        vertical-align: top;\n",
       "    }\n",
       "\n",
       "    .dataframe thead th {\n",
       "        text-align: right;\n",
       "    }\n",
       "</style>\n",
       "<table border=\"1\" class=\"dataframe\">\n",
       "  <thead>\n",
       "    <tr style=\"text-align: right;\">\n",
       "      <th></th>\n",
       "      <th>DATE</th>\n",
       "      <th>TIME</th>\n",
       "      <th>BOROUGH</th>\n",
       "      <th>ZIP CODE</th>\n",
       "      <th>LATITUDE</th>\n",
       "      <th>LONGITUDE</th>\n",
       "      <th>ON STREET NAME</th>\n",
       "      <th>NUMBER OF PEDESTRIANS INJURED</th>\n",
       "      <th>NUMBER OF PEDESTRIANS KILLED</th>\n",
       "      <th>NUMBER OF CYCLIST INJURED</th>\n",
       "      <th>...</th>\n",
       "      <th>CONTRIBUTING FACTOR VEHICLE 2</th>\n",
       "      <th>CONTRIBUTING FACTOR VEHICLE 3</th>\n",
       "      <th>CONTRIBUTING FACTOR VEHICLE 4</th>\n",
       "      <th>CONTRIBUTING FACTOR VEHICLE 5</th>\n",
       "      <th>COLLISION_ID</th>\n",
       "      <th>VEHICLE TYPE CODE 1</th>\n",
       "      <th>VEHICLE TYPE CODE 2</th>\n",
       "      <th>VEHICLE TYPE CODE 3</th>\n",
       "      <th>VEHICLE TYPE CODE 4</th>\n",
       "      <th>VEHICLE TYPE CODE 5</th>\n",
       "    </tr>\n",
       "  </thead>\n",
       "  <tbody>\n",
       "    <tr>\n",
       "      <th>210255</th>\n",
       "      <td>03/12/2018</td>\n",
       "      <td>17:25</td>\n",
       "      <td>QUEENS</td>\n",
       "      <td>11434.0</td>\n",
       "      <td>40.667522</td>\n",
       "      <td>-73.78063</td>\n",
       "      <td>ROCKAWAY BOULEVARD</td>\n",
       "      <td>0</td>\n",
       "      <td>0</td>\n",
       "      <td>0</td>\n",
       "      <td>...</td>\n",
       "      <td>Unspecified</td>\n",
       "      <td>NaN</td>\n",
       "      <td>NaN</td>\n",
       "      <td>NaN</td>\n",
       "      <td>3862239</td>\n",
       "      <td>PASSENGER VEHICLE</td>\n",
       "      <td>PASSENGER VEHICLE</td>\n",
       "      <td>NaN</td>\n",
       "      <td>NaN</td>\n",
       "      <td>NaN</td>\n",
       "    </tr>\n",
       "    <tr>\n",
       "      <th>107847</th>\n",
       "      <td>02/05/2019</td>\n",
       "      <td>8:00</td>\n",
       "      <td>BROOKLYN</td>\n",
       "      <td>11211.0</td>\n",
       "      <td>40.715400</td>\n",
       "      <td>-73.92693</td>\n",
       "      <td>GRAND STREET</td>\n",
       "      <td>0</td>\n",
       "      <td>0</td>\n",
       "      <td>0</td>\n",
       "      <td>...</td>\n",
       "      <td>Unspecified</td>\n",
       "      <td>NaN</td>\n",
       "      <td>NaN</td>\n",
       "      <td>NaN</td>\n",
       "      <td>4075136</td>\n",
       "      <td>Pick-up Truck</td>\n",
       "      <td>NaN</td>\n",
       "      <td>NaN</td>\n",
       "      <td>NaN</td>\n",
       "      <td>NaN</td>\n",
       "    </tr>\n",
       "    <tr>\n",
       "      <th>58112</th>\n",
       "      <td>08/01/2018</td>\n",
       "      <td>16:20</td>\n",
       "      <td>QUEENS</td>\n",
       "      <td>11434.0</td>\n",
       "      <td>40.667430</td>\n",
       "      <td>-73.76676</td>\n",
       "      <td>FARMERS BOULEVARD</td>\n",
       "      <td>0</td>\n",
       "      <td>0</td>\n",
       "      <td>0</td>\n",
       "      <td>...</td>\n",
       "      <td>Unspecified</td>\n",
       "      <td>NaN</td>\n",
       "      <td>NaN</td>\n",
       "      <td>NaN</td>\n",
       "      <td>3952830</td>\n",
       "      <td>Sedan</td>\n",
       "      <td>Station Wagon/Sport Utility Vehicle</td>\n",
       "      <td>NaN</td>\n",
       "      <td>NaN</td>\n",
       "      <td>NaN</td>\n",
       "    </tr>\n",
       "    <tr>\n",
       "      <th>72223</th>\n",
       "      <td>05/19/2019</td>\n",
       "      <td>22:48</td>\n",
       "      <td>BROOKLYN</td>\n",
       "      <td>11206.0</td>\n",
       "      <td>40.702675</td>\n",
       "      <td>-73.93396</td>\n",
       "      <td>FLUSHING AVENUE</td>\n",
       "      <td>0</td>\n",
       "      <td>0</td>\n",
       "      <td>0</td>\n",
       "      <td>...</td>\n",
       "      <td>Unspecified</td>\n",
       "      <td>NaN</td>\n",
       "      <td>NaN</td>\n",
       "      <td>NaN</td>\n",
       "      <td>4135057</td>\n",
       "      <td>Sedan</td>\n",
       "      <td>Station Wagon/Sport Utility Vehicle</td>\n",
       "      <td>NaN</td>\n",
       "      <td>NaN</td>\n",
       "      <td>NaN</td>\n",
       "    </tr>\n",
       "    <tr>\n",
       "      <th>178225</th>\n",
       "      <td>05/28/2018</td>\n",
       "      <td>21:29</td>\n",
       "      <td>BRONX</td>\n",
       "      <td>10453.0</td>\n",
       "      <td>40.855920</td>\n",
       "      <td>-73.91720</td>\n",
       "      <td>CEDAR AVENUE</td>\n",
       "      <td>0</td>\n",
       "      <td>0</td>\n",
       "      <td>0</td>\n",
       "      <td>...</td>\n",
       "      <td>Unsafe Lane Changing</td>\n",
       "      <td>NaN</td>\n",
       "      <td>NaN</td>\n",
       "      <td>NaN</td>\n",
       "      <td>3910000</td>\n",
       "      <td>Sedan</td>\n",
       "      <td>Sedan</td>\n",
       "      <td>NaN</td>\n",
       "      <td>NaN</td>\n",
       "      <td>NaN</td>\n",
       "    </tr>\n",
       "  </tbody>\n",
       "</table>\n",
       "<p>5 rows × 24 columns</p>\n",
       "</div>"
      ],
      "text/plain": [
       "              DATE   TIME   BOROUGH  ZIP CODE   LATITUDE  LONGITUDE  \\\n",
       "210255  03/12/2018  17:25    QUEENS   11434.0  40.667522  -73.78063   \n",
       "107847  02/05/2019   8:00  BROOKLYN   11211.0  40.715400  -73.92693   \n",
       "58112   08/01/2018  16:20    QUEENS   11434.0  40.667430  -73.76676   \n",
       "72223   05/19/2019  22:48  BROOKLYN   11206.0  40.702675  -73.93396   \n",
       "178225  05/28/2018  21:29     BRONX   10453.0  40.855920  -73.91720   \n",
       "\n",
       "                          ON STREET NAME  NUMBER OF PEDESTRIANS INJURED  \\\n",
       "210255  ROCKAWAY BOULEVARD                                            0   \n",
       "107847  GRAND STREET                                                  0   \n",
       "58112   FARMERS BOULEVARD                                             0   \n",
       "72223   FLUSHING AVENUE                                               0   \n",
       "178225  CEDAR AVENUE                                                  0   \n",
       "\n",
       "        NUMBER OF PEDESTRIANS KILLED  NUMBER OF CYCLIST INJURED  ...  \\\n",
       "210255                             0                          0  ...   \n",
       "107847                             0                          0  ...   \n",
       "58112                              0                          0  ...   \n",
       "72223                              0                          0  ...   \n",
       "178225                             0                          0  ...   \n",
       "\n",
       "        CONTRIBUTING FACTOR VEHICLE 2  CONTRIBUTING FACTOR VEHICLE 3  \\\n",
       "210255                    Unspecified                            NaN   \n",
       "107847                    Unspecified                            NaN   \n",
       "58112                     Unspecified                            NaN   \n",
       "72223                     Unspecified                            NaN   \n",
       "178225           Unsafe Lane Changing                            NaN   \n",
       "\n",
       "        CONTRIBUTING FACTOR VEHICLE 4 CONTRIBUTING FACTOR VEHICLE 5  \\\n",
       "210255                            NaN                           NaN   \n",
       "107847                            NaN                           NaN   \n",
       "58112                             NaN                           NaN   \n",
       "72223                             NaN                           NaN   \n",
       "178225                            NaN                           NaN   \n",
       "\n",
       "       COLLISION_ID VEHICLE TYPE CODE 1                  VEHICLE TYPE CODE 2  \\\n",
       "210255      3862239   PASSENGER VEHICLE                    PASSENGER VEHICLE   \n",
       "107847      4075136       Pick-up Truck                                  NaN   \n",
       "58112       3952830               Sedan  Station Wagon/Sport Utility Vehicle   \n",
       "72223       4135057               Sedan  Station Wagon/Sport Utility Vehicle   \n",
       "178225      3910000               Sedan                                Sedan   \n",
       "\n",
       "       VEHICLE TYPE CODE 3  VEHICLE TYPE CODE 4 VEHICLE TYPE CODE 5  \n",
       "210255                 NaN                  NaN                 NaN  \n",
       "107847                 NaN                  NaN                 NaN  \n",
       "58112                  NaN                  NaN                 NaN  \n",
       "72223                  NaN                  NaN                 NaN  \n",
       "178225                 NaN                  NaN                 NaN  \n",
       "\n",
       "[5 rows x 24 columns]"
      ]
     },
     "execution_count": 7,
     "metadata": {},
     "output_type": "execute_result"
    }
   ],
   "source": [
    "df.sample(5)"
   ]
  },
  {
   "cell_type": "code",
   "execution_count": 8,
   "metadata": {},
   "outputs": [
    {
     "data": {
      "text/html": [
       "<div>\n",
       "<style scoped>\n",
       "    .dataframe tbody tr th:only-of-type {\n",
       "        vertical-align: middle;\n",
       "    }\n",
       "\n",
       "    .dataframe tbody tr th {\n",
       "        vertical-align: top;\n",
       "    }\n",
       "\n",
       "    .dataframe thead th {\n",
       "        text-align: right;\n",
       "    }\n",
       "</style>\n",
       "<table border=\"1\" class=\"dataframe\">\n",
       "  <thead>\n",
       "    <tr style=\"text-align: right;\">\n",
       "      <th></th>\n",
       "      <th>ZIP CODE</th>\n",
       "      <th>LATITUDE</th>\n",
       "      <th>LONGITUDE</th>\n",
       "      <th>NUMBER OF PEDESTRIANS INJURED</th>\n",
       "      <th>NUMBER OF PEDESTRIANS KILLED</th>\n",
       "      <th>NUMBER OF CYCLIST INJURED</th>\n",
       "      <th>NUMBER OF CYCLIST KILLED</th>\n",
       "      <th>NUMBER OF MOTORIST INJURED</th>\n",
       "      <th>NUMBER OF MOTORIST KILLED</th>\n",
       "      <th>COLLISION_ID</th>\n",
       "    </tr>\n",
       "  </thead>\n",
       "  <tbody>\n",
       "    <tr>\n",
       "      <th>count</th>\n",
       "      <td>238452.000000</td>\n",
       "      <td>231544.000000</td>\n",
       "      <td>231544.000000</td>\n",
       "      <td>238522.000000</td>\n",
       "      <td>238522.000000</td>\n",
       "      <td>238522.000000</td>\n",
       "      <td>238522.000000</td>\n",
       "      <td>238522.000000</td>\n",
       "      <td>238522.000000</td>\n",
       "      <td>2.385220e+05</td>\n",
       "    </tr>\n",
       "    <tr>\n",
       "      <th>mean</th>\n",
       "      <td>10865.578838</td>\n",
       "      <td>40.656873</td>\n",
       "      <td>-73.797699</td>\n",
       "      <td>0.054523</td>\n",
       "      <td>0.000532</td>\n",
       "      <td>0.023482</td>\n",
       "      <td>0.000084</td>\n",
       "      <td>0.178076</td>\n",
       "      <td>0.000310</td>\n",
       "      <td>4.008044e+06</td>\n",
       "    </tr>\n",
       "    <tr>\n",
       "      <th>std</th>\n",
       "      <td>546.056571</td>\n",
       "      <td>1.632850</td>\n",
       "      <td>2.961521</td>\n",
       "      <td>0.237834</td>\n",
       "      <td>0.023250</td>\n",
       "      <td>0.152835</td>\n",
       "      <td>0.009157</td>\n",
       "      <td>0.587479</td>\n",
       "      <td>0.017848</td>\n",
       "      <td>1.084693e+05</td>\n",
       "    </tr>\n",
       "    <tr>\n",
       "      <th>min</th>\n",
       "      <td>10000.000000</td>\n",
       "      <td>0.000000</td>\n",
       "      <td>-74.253930</td>\n",
       "      <td>0.000000</td>\n",
       "      <td>0.000000</td>\n",
       "      <td>0.000000</td>\n",
       "      <td>0.000000</td>\n",
       "      <td>0.000000</td>\n",
       "      <td>0.000000</td>\n",
       "      <td>3.511951e+06</td>\n",
       "    </tr>\n",
       "    <tr>\n",
       "      <th>25%</th>\n",
       "      <td>10452.000000</td>\n",
       "      <td>40.666750</td>\n",
       "      <td>-73.973860</td>\n",
       "      <td>0.000000</td>\n",
       "      <td>0.000000</td>\n",
       "      <td>0.000000</td>\n",
       "      <td>0.000000</td>\n",
       "      <td>0.000000</td>\n",
       "      <td>0.000000</td>\n",
       "      <td>3.913739e+06</td>\n",
       "    </tr>\n",
       "    <tr>\n",
       "      <th>50%</th>\n",
       "      <td>11208.000000</td>\n",
       "      <td>40.717007</td>\n",
       "      <td>-73.922770</td>\n",
       "      <td>0.000000</td>\n",
       "      <td>0.000000</td>\n",
       "      <td>0.000000</td>\n",
       "      <td>0.000000</td>\n",
       "      <td>0.000000</td>\n",
       "      <td>0.000000</td>\n",
       "      <td>4.006476e+06</td>\n",
       "    </tr>\n",
       "    <tr>\n",
       "      <th>75%</th>\n",
       "      <td>11354.000000</td>\n",
       "      <td>40.765715</td>\n",
       "      <td>-73.864890</td>\n",
       "      <td>0.000000</td>\n",
       "      <td>0.000000</td>\n",
       "      <td>0.000000</td>\n",
       "      <td>0.000000</td>\n",
       "      <td>0.000000</td>\n",
       "      <td>0.000000</td>\n",
       "      <td>4.102648e+06</td>\n",
       "    </tr>\n",
       "    <tr>\n",
       "      <th>max</th>\n",
       "      <td>11697.000000</td>\n",
       "      <td>40.912884</td>\n",
       "      <td>0.000000</td>\n",
       "      <td>6.000000</td>\n",
       "      <td>2.000000</td>\n",
       "      <td>3.000000</td>\n",
       "      <td>1.000000</td>\n",
       "      <td>21.000000</td>\n",
       "      <td>2.000000</td>\n",
       "      <td>4.195347e+06</td>\n",
       "    </tr>\n",
       "  </tbody>\n",
       "</table>\n",
       "</div>"
      ],
      "text/plain": [
       "            ZIP CODE       LATITUDE      LONGITUDE  \\\n",
       "count  238452.000000  231544.000000  231544.000000   \n",
       "mean    10865.578838      40.656873     -73.797699   \n",
       "std       546.056571       1.632850       2.961521   \n",
       "min     10000.000000       0.000000     -74.253930   \n",
       "25%     10452.000000      40.666750     -73.973860   \n",
       "50%     11208.000000      40.717007     -73.922770   \n",
       "75%     11354.000000      40.765715     -73.864890   \n",
       "max     11697.000000      40.912884       0.000000   \n",
       "\n",
       "       NUMBER OF PEDESTRIANS INJURED  NUMBER OF PEDESTRIANS KILLED  \\\n",
       "count                  238522.000000                 238522.000000   \n",
       "mean                        0.054523                      0.000532   \n",
       "std                         0.237834                      0.023250   \n",
       "min                         0.000000                      0.000000   \n",
       "25%                         0.000000                      0.000000   \n",
       "50%                         0.000000                      0.000000   \n",
       "75%                         0.000000                      0.000000   \n",
       "max                         6.000000                      2.000000   \n",
       "\n",
       "       NUMBER OF CYCLIST INJURED  NUMBER OF CYCLIST KILLED  \\\n",
       "count              238522.000000             238522.000000   \n",
       "mean                    0.023482                  0.000084   \n",
       "std                     0.152835                  0.009157   \n",
       "min                     0.000000                  0.000000   \n",
       "25%                     0.000000                  0.000000   \n",
       "50%                     0.000000                  0.000000   \n",
       "75%                     0.000000                  0.000000   \n",
       "max                     3.000000                  1.000000   \n",
       "\n",
       "       NUMBER OF MOTORIST INJURED  NUMBER OF MOTORIST KILLED  COLLISION_ID  \n",
       "count               238522.000000              238522.000000  2.385220e+05  \n",
       "mean                     0.178076                   0.000310  4.008044e+06  \n",
       "std                      0.587479                   0.017848  1.084693e+05  \n",
       "min                      0.000000                   0.000000  3.511951e+06  \n",
       "25%                      0.000000                   0.000000  3.913739e+06  \n",
       "50%                      0.000000                   0.000000  4.006476e+06  \n",
       "75%                      0.000000                   0.000000  4.102648e+06  \n",
       "max                     21.000000                   2.000000  4.195347e+06  "
      ]
     },
     "execution_count": 8,
     "metadata": {},
     "output_type": "execute_result"
    }
   ],
   "source": [
    "df.describe()"
   ]
  },
  {
   "cell_type": "code",
   "execution_count": 9,
   "metadata": {},
   "outputs": [
    {
     "data": {
      "text/plain": [
       "DATE                              object\n",
       "TIME                              object\n",
       "BOROUGH                           object\n",
       "ZIP CODE                         float64\n",
       "LATITUDE                         float64\n",
       "LONGITUDE                        float64\n",
       "ON STREET NAME                    object\n",
       "NUMBER OF PEDESTRIANS INJURED      int64\n",
       "NUMBER OF PEDESTRIANS KILLED       int64\n",
       "NUMBER OF CYCLIST INJURED          int64\n",
       "NUMBER OF CYCLIST KILLED           int64\n",
       "NUMBER OF MOTORIST INJURED         int64\n",
       "NUMBER OF MOTORIST KILLED          int64\n",
       "CONTRIBUTING FACTOR VEHICLE 1     object\n",
       "CONTRIBUTING FACTOR VEHICLE 2     object\n",
       "CONTRIBUTING FACTOR VEHICLE 3     object\n",
       "CONTRIBUTING FACTOR VEHICLE 4     object\n",
       "CONTRIBUTING FACTOR VEHICLE 5     object\n",
       "COLLISION_ID                       int64\n",
       "VEHICLE TYPE CODE 1               object\n",
       "VEHICLE TYPE CODE 2               object\n",
       "VEHICLE TYPE CODE 3               object\n",
       "VEHICLE TYPE CODE 4               object\n",
       "VEHICLE TYPE CODE 5               object\n",
       "dtype: object"
      ]
     },
     "execution_count": 9,
     "metadata": {},
     "output_type": "execute_result"
    }
   ],
   "source": [
    "df.dtypes"
   ]
  },
  {
   "cell_type": "code",
   "execution_count": 10,
   "metadata": {},
   "outputs": [
    {
     "data": {
      "text/plain": [
       "238522"
      ]
     },
     "execution_count": 10,
     "metadata": {},
     "output_type": "execute_result"
    }
   ],
   "source": [
    "len(df.isna())"
   ]
  },
  {
   "cell_type": "markdown",
   "metadata": {},
   "source": [
    "_I would like to check how many rows contains na for each column_"
   ]
  },
  {
   "cell_type": "code",
   "execution_count": 11,
   "metadata": {},
   "outputs": [
    {
     "data": {
      "text/plain": [
       "DATE                                  0\n",
       "TIME                                  0\n",
       "BOROUGH                               0\n",
       "ZIP CODE                             70\n",
       "LATITUDE                           6978\n",
       "LONGITUDE                          6978\n",
       "ON STREET NAME                    84604\n",
       "NUMBER OF PEDESTRIANS INJURED         0\n",
       "NUMBER OF PEDESTRIANS KILLED          0\n",
       "NUMBER OF CYCLIST INJURED             0\n",
       "NUMBER OF CYCLIST KILLED              0\n",
       "NUMBER OF MOTORIST INJURED            0\n",
       "NUMBER OF MOTORIST KILLED             0\n",
       "CONTRIBUTING FACTOR VEHICLE 1       884\n",
       "CONTRIBUTING FACTOR VEHICLE 2     40008\n",
       "CONTRIBUTING FACTOR VEHICLE 3    225450\n",
       "CONTRIBUTING FACTOR VEHICLE 4    235666\n",
       "CONTRIBUTING FACTOR VEHICLE 5    237730\n",
       "COLLISION_ID                          0\n",
       "VEHICLE TYPE CODE 1                1721\n",
       "VEHICLE TYPE CODE 2               55590\n",
       "VEHICLE TYPE CODE 3              226221\n",
       "VEHICLE TYPE CODE 4              235806\n",
       "VEHICLE TYPE CODE 5              237769\n",
       "dtype: int64"
      ]
     },
     "execution_count": 11,
     "metadata": {},
     "output_type": "execute_result"
    }
   ],
   "source": [
    "df.isna().sum()"
   ]
  },
  {
   "cell_type": "markdown",
   "metadata": {},
   "source": [
    "_I will also check for unique records_"
   ]
  },
  {
   "cell_type": "code",
   "execution_count": 12,
   "metadata": {},
   "outputs": [
    {
     "data": {
      "text/plain": [
       "DATE                                601\n",
       "TIME                               1440\n",
       "BOROUGH                               5\n",
       "ZIP CODE                            221\n",
       "LATITUDE                          51566\n",
       "LONGITUDE                         35126\n",
       "ON STREET NAME                     5221\n",
       "NUMBER OF PEDESTRIANS INJURED         7\n",
       "NUMBER OF PEDESTRIANS KILLED          3\n",
       "NUMBER OF CYCLIST INJURED             4\n",
       "NUMBER OF CYCLIST KILLED              2\n",
       "NUMBER OF MOTORIST INJURED           19\n",
       "NUMBER OF MOTORIST KILLED             3\n",
       "CONTRIBUTING FACTOR VEHICLE 1        55\n",
       "CONTRIBUTING FACTOR VEHICLE 2        54\n",
       "CONTRIBUTING FACTOR VEHICLE 3        31\n",
       "CONTRIBUTING FACTOR VEHICLE 4         9\n",
       "CONTRIBUTING FACTOR VEHICLE 5         6\n",
       "COLLISION_ID                     238522\n",
       "VEHICLE TYPE CODE 1                 447\n",
       "VEHICLE TYPE CODE 2                 459\n",
       "VEHICLE TYPE CODE 3                  84\n",
       "VEHICLE TYPE CODE 4                  38\n",
       "VEHICLE TYPE CODE 5                  21\n",
       "dtype: int64"
      ]
     },
     "execution_count": 12,
     "metadata": {},
     "output_type": "execute_result"
    }
   ],
   "source": [
    "df.nunique()"
   ]
  },
  {
   "cell_type": "markdown",
   "metadata": {},
   "source": [
    "**_Key Assumption (all mine) here: each row represent a valid accident, but not all info about them were recorded. Note that each case has a valid date and collision id, but not necessarily each feature imputed._**"
   ]
  },
  {
   "cell_type": "markdown",
   "metadata": {},
   "source": [
    "## Overview of the data"
   ]
  },
  {
   "cell_type": "markdown",
   "metadata": {},
   "source": [
    "Let's go through the columns present in the dataframe:"
   ]
  },
  {
   "cell_type": "code",
   "execution_count": 13,
   "metadata": {
    "scrolled": true
   },
   "outputs": [
    {
     "data": {
      "text/plain": [
       "Index(['DATE', 'TIME', 'BOROUGH', 'ZIP CODE', 'LATITUDE', 'LONGITUDE',\n",
       "       'ON STREET NAME', 'NUMBER OF PEDESTRIANS INJURED',\n",
       "       'NUMBER OF PEDESTRIANS KILLED', 'NUMBER OF CYCLIST INJURED',\n",
       "       'NUMBER OF CYCLIST KILLED', 'NUMBER OF MOTORIST INJURED',\n",
       "       'NUMBER OF MOTORIST KILLED', 'CONTRIBUTING FACTOR VEHICLE 1',\n",
       "       'CONTRIBUTING FACTOR VEHICLE 2', 'CONTRIBUTING FACTOR VEHICLE 3',\n",
       "       'CONTRIBUTING FACTOR VEHICLE 4', 'CONTRIBUTING FACTOR VEHICLE 5',\n",
       "       'COLLISION_ID', 'VEHICLE TYPE CODE 1', 'VEHICLE TYPE CODE 2',\n",
       "       'VEHICLE TYPE CODE 3', 'VEHICLE TYPE CODE 4', 'VEHICLE TYPE CODE 5'],\n",
       "      dtype='object')"
      ]
     },
     "execution_count": 13,
     "metadata": {},
     "output_type": "execute_result"
    }
   ],
   "source": [
    "df.columns"
   ]
  },
  {
   "cell_type": "markdown",
   "metadata": {},
   "source": [
    "We have the following columns\n",
    "\n",
    "1. **BOROUGH**: The borough in which the accident occured\n",
    "2. **COLLISION_ID**: A unique identifier for this collision\n",
    "3. **CONTRIBUTING FACTOR VEHICLE (1, 2, 3, 4, 5)**: Reasons for the accident\n",
    "4. **CROSS STREET NAME**: Nearest cross street to the place of accidents\n",
    "5. **DATE**: Date of the accident\n",
    "6. **TIME**: Time of accident\n",
    "7. **LATITUDE**: Latitude of the accident\n",
    "8. **LONGITUDE**: Longitude of the accident\n",
    "9. **NUMBER OF (CYCLISTS, MOTORISTS, PEDESTRIANS) INJURED**: Category wise injury\n",
    "10. **NUMBER OF (CYCLISTS, MOTORISTS, PEDESTRIANS) KILLED**: Category wise death\n",
    "11. **ON STREET NAME**: Street where the accident occured\n",
    "13. **VEHICLE TYPE CODE (1, 2, 3, 4, 5)**: Types of vehicles involved in the accident\n",
    "14. **ZIP CODE**: zip code of the accident location"
   ]
  },
  {
   "cell_type": "markdown",
   "metadata": {},
   "source": [
    "### Exercise 1 (30 min):\n",
    "\n",
    "Since 2014, New York City has been implementing a road safety plan named [Vision Zero](https://www1.nyc.gov/content/visionzero/pages/). It aims to reduce the number of traffic deaths to *zero* by the end of 2024. The plan is creating new and enhancing current safety measures, some of these include:\n",
    "\n",
    "- [ ] Automated pedestrian detection\n",
    "- [ ] Road safety audits at high risk locations\n",
    "- [ ] Expansion in the cycle track network\n",
    "- [ ] Targeted education and awareness initiatives\n",
    "- [ ] Creation of pedestrian refuge islands\n",
    "- [ ] Launch Integrated Data-Driven Speed Reducer Program (speed humps & speed cushions)\n",
    "\n",
    "Which of these initiatives could directly benefit from an analysis of the data provided? Check all that apply.\n",
    "\n",
    "**Note:** You can create check marks by double-clicking this cell and adding an ```[x]``` in the corresponding lines. "
   ]
  },
  {
   "cell_type": "markdown",
   "metadata": {},
   "source": [
    "**Answer.**\n",
    "\n",
    "- [ ] Automated pedestrian detection\n",
    "\n",
    "The data provided contains the exact location, the number of pedestrians injured/killed, and the contributing factor of the vehicles in each accident. We could study the accidents where pedestrians were injured or killed. This *could* help to place cameras at important spots, where the automatic detection may be needed. However, for the *implementation* of automated pedestrian detection, a data set of images of crosswalks and intersections is more crucial.\n",
    "\n",
    "- [ ] Road safety audits at high risk locations\n",
    "\n",
    "As discussed, our data can help with the recognition of problematic spots. We can check the street names where a high number of accidents have occured in the past, then inspect the area to see what extra measures should be implemented. \n",
    "\n",
    "- [X] Expansion in the cycle track network\n",
    "\n",
    "Our data contains the number of cyclists injured/killed. We could determine the spots where these are happening the most and then improve the safety measures around the area. However, we would need more data to determine if these locations have a high volume of cyclists. Thus the data may not be that beneficial for making decisions on expanding the cycle network.\n",
    "\n",
    "- [x] Targeted education and awareness initiatives\n",
    "\n",
    "The data provides the contributing factor of the accidents along with the type of vehicles that were involved in them. We can then study which types of vehicles cause the most number of accidents and organize educational initiatives around this.\n",
    "\n",
    "- [X] Creation of pedestrian refuge islands\n",
    "\n",
    "Pedestrian islands are usually created on streets that are very wide. Thus, the information provided might not be that beneficial for this initiative, as we do not have information on the width/size of streets.\n",
    "\n",
    "- [x] Launch Integrated Data-Driven Speed Reducer Program (speed humps & speed cushions)\n",
    "\n",
    "One of the contributing factors in accidents provided in the data is speeding. We can check if these accidents occur in highly transited areas. Thus, our data might be useful for the implementation of this initiative."
   ]
  },
  {
   "cell_type": "markdown",
   "metadata": {},
   "source": [
    "Let's go ahead and answer each of the client's questions."
   ]
  },
  {
   "cell_type": "markdown",
   "metadata": {},
   "source": [
    "## Answering the client's questions"
   ]
  },
  {
   "cell_type": "markdown",
   "metadata": {},
   "source": [
    "### Exercise 2 (30 min):\n",
    "\n",
    "Group the available data on a monthly basis and generate a line plot of accidents over time. Has the number of accidents increased over the past year and a half?\n",
    "\n",
    "**Hint**: You may find the pandas functions ```to_datetime()``` and ```dt.to_period()``` useful."
   ]
  },
  {
   "cell_type": "markdown",
   "metadata": {},
   "source": [
    "**Answer**"
   ]
  },
  {
   "cell_type": "code",
   "execution_count": 14,
   "metadata": {},
   "outputs": [],
   "source": [
    "df['DATE_EDIT']=pd.to_datetime(df['DATE'],infer_datetime_format=True)\n",
    "df['YYYYMM'] = df['DATE_EDIT'].dt.strftime('%Y%m')"
   ]
  },
  {
   "cell_type": "code",
   "execution_count": 15,
   "metadata": {},
   "outputs": [
    {
     "data": {
      "text/html": [
       "<div>\n",
       "<style scoped>\n",
       "    .dataframe tbody tr th:only-of-type {\n",
       "        vertical-align: middle;\n",
       "    }\n",
       "\n",
       "    .dataframe tbody tr th {\n",
       "        vertical-align: top;\n",
       "    }\n",
       "\n",
       "    .dataframe thead th {\n",
       "        text-align: right;\n",
       "    }\n",
       "</style>\n",
       "<table border=\"1\" class=\"dataframe\">\n",
       "  <thead>\n",
       "    <tr style=\"text-align: right;\">\n",
       "      <th></th>\n",
       "      <th>YYYYMM</th>\n",
       "      <th>N ACCIDENTS</th>\n",
       "    </tr>\n",
       "  </thead>\n",
       "  <tbody>\n",
       "    <tr>\n",
       "      <th>0</th>\n",
       "      <td>201801</td>\n",
       "      <td>11735</td>\n",
       "    </tr>\n",
       "    <tr>\n",
       "      <th>1</th>\n",
       "      <td>201802</td>\n",
       "      <td>10395</td>\n",
       "    </tr>\n",
       "    <tr>\n",
       "      <th>2</th>\n",
       "      <td>201803</td>\n",
       "      <td>12519</td>\n",
       "    </tr>\n",
       "    <tr>\n",
       "      <th>3</th>\n",
       "      <td>201804</td>\n",
       "      <td>11679</td>\n",
       "    </tr>\n",
       "    <tr>\n",
       "      <th>4</th>\n",
       "      <td>201805</td>\n",
       "      <td>13438</td>\n",
       "    </tr>\n",
       "    <tr>\n",
       "      <th>5</th>\n",
       "      <td>201806</td>\n",
       "      <td>13314</td>\n",
       "    </tr>\n",
       "    <tr>\n",
       "      <th>6</th>\n",
       "      <td>201807</td>\n",
       "      <td>12787</td>\n",
       "    </tr>\n",
       "    <tr>\n",
       "      <th>7</th>\n",
       "      <td>201808</td>\n",
       "      <td>12644</td>\n",
       "    </tr>\n",
       "    <tr>\n",
       "      <th>8</th>\n",
       "      <td>201809</td>\n",
       "      <td>12425</td>\n",
       "    </tr>\n",
       "    <tr>\n",
       "      <th>9</th>\n",
       "      <td>201810</td>\n",
       "      <td>13336</td>\n",
       "    </tr>\n",
       "    <tr>\n",
       "      <th>10</th>\n",
       "      <td>201811</td>\n",
       "      <td>12447</td>\n",
       "    </tr>\n",
       "    <tr>\n",
       "      <th>11</th>\n",
       "      <td>201812</td>\n",
       "      <td>12479</td>\n",
       "    </tr>\n",
       "    <tr>\n",
       "      <th>12</th>\n",
       "      <td>201901</td>\n",
       "      <td>11000</td>\n",
       "    </tr>\n",
       "    <tr>\n",
       "      <th>13</th>\n",
       "      <td>201902</td>\n",
       "      <td>10310</td>\n",
       "    </tr>\n",
       "    <tr>\n",
       "      <th>14</th>\n",
       "      <td>201903</td>\n",
       "      <td>11482</td>\n",
       "    </tr>\n",
       "    <tr>\n",
       "      <th>15</th>\n",
       "      <td>201904</td>\n",
       "      <td>10833</td>\n",
       "    </tr>\n",
       "    <tr>\n",
       "      <th>16</th>\n",
       "      <td>201905</td>\n",
       "      <td>12642</td>\n",
       "    </tr>\n",
       "    <tr>\n",
       "      <th>17</th>\n",
       "      <td>201906</td>\n",
       "      <td>12577</td>\n",
       "    </tr>\n",
       "    <tr>\n",
       "      <th>18</th>\n",
       "      <td>201907</td>\n",
       "      <td>12014</td>\n",
       "    </tr>\n",
       "    <tr>\n",
       "      <th>19</th>\n",
       "      <td>201908</td>\n",
       "      <td>8466</td>\n",
       "    </tr>\n",
       "  </tbody>\n",
       "</table>\n",
       "</div>"
      ],
      "text/plain": [
       "    YYYYMM  N ACCIDENTS\n",
       "0   201801        11735\n",
       "1   201802        10395\n",
       "2   201803        12519\n",
       "3   201804        11679\n",
       "4   201805        13438\n",
       "5   201806        13314\n",
       "6   201807        12787\n",
       "7   201808        12644\n",
       "8   201809        12425\n",
       "9   201810        13336\n",
       "10  201811        12447\n",
       "11  201812        12479\n",
       "12  201901        11000\n",
       "13  201902        10310\n",
       "14  201903        11482\n",
       "15  201904        10833\n",
       "16  201905        12642\n",
       "17  201906        12577\n",
       "18  201907        12014\n",
       "19  201908         8466"
      ]
     },
     "execution_count": 15,
     "metadata": {},
     "output_type": "execute_result"
    }
   ],
   "source": [
    "df_abm=pd.DataFrame(df.groupby(['YYYYMM'])['COLLISION_ID'].count())\n",
    "df_abm.reset_index(inplace=True)\n",
    "df_abm.columns=['YYYYMM','N ACCIDENTS']\n",
    "df_abm"
   ]
  },
  {
   "cell_type": "code",
   "execution_count": 16,
   "metadata": {},
   "outputs": [
    {
     "data": {
      "text/plain": [
       "([0, 1, 2, 3, 4, 5, 6, 7, 8, 9, 10, 11, 12, 13, 14, 15, 16, 17, 18, 19],\n",
       " <a list of 20 Text xticklabel objects>)"
      ]
     },
     "execution_count": 16,
     "metadata": {},
     "output_type": "execute_result"
    },
    {
     "data": {
      "image/png": "[encoded data removed]",
      "text/plain": [
       "<Figure size 432x288 with 1 Axes>"
      ]
     },
     "metadata": {},
     "output_type": "display_data"
    }
   ],
   "source": [
    "sns.set_style('whitegrid')\n",
    "g = sns.lineplot(x='YYYYMM',y='N ACCIDENTS',data=df_abm,color='red')\n",
    "g.set(ylim=(0, None))\n",
    "g.set_title('# of accidents by month')\n",
    "plt.xticks(rotation=90)"
   ]
  },
  {
   "cell_type": "markdown",
   "metadata": {},
   "source": [
    "_We see that the **absolute** number of accidents has not increased over the past year and a half, but have been decreasing, particularly on the last two and a half months._"
   ]
  },
  {
   "cell_type": "markdown",
   "metadata": {},
   "source": [
    "### Exercise 3 (15 min):\n",
    "\n",
    "From the plot above, which months seem to have the least number of accidents? What do you think are the reasons behind this?"
   ]
  },
  {
   "cell_type": "markdown",
   "metadata": {},
   "source": [
    "**Answer** "
   ]
  },
  {
   "cell_type": "code",
   "execution_count": 17,
   "metadata": {},
   "outputs": [
    {
     "data": {
      "text/html": [
       "<div>\n",
       "<style scoped>\n",
       "    .dataframe tbody tr th:only-of-type {\n",
       "        vertical-align: middle;\n",
       "    }\n",
       "\n",
       "    .dataframe tbody tr th {\n",
       "        vertical-align: top;\n",
       "    }\n",
       "\n",
       "    .dataframe thead th {\n",
       "        text-align: right;\n",
       "    }\n",
       "</style>\n",
       "<table border=\"1\" class=\"dataframe\">\n",
       "  <thead>\n",
       "    <tr style=\"text-align: right;\">\n",
       "      <th></th>\n",
       "      <th>YYYYMM</th>\n",
       "      <th>N ACCIDENTS</th>\n",
       "    </tr>\n",
       "  </thead>\n",
       "  <tbody>\n",
       "    <tr>\n",
       "      <th>19</th>\n",
       "      <td>201908</td>\n",
       "      <td>8466</td>\n",
       "    </tr>\n",
       "    <tr>\n",
       "      <th>13</th>\n",
       "      <td>201902</td>\n",
       "      <td>10310</td>\n",
       "    </tr>\n",
       "    <tr>\n",
       "      <th>1</th>\n",
       "      <td>201802</td>\n",
       "      <td>10395</td>\n",
       "    </tr>\n",
       "    <tr>\n",
       "      <th>15</th>\n",
       "      <td>201904</td>\n",
       "      <td>10833</td>\n",
       "    </tr>\n",
       "    <tr>\n",
       "      <th>12</th>\n",
       "      <td>201901</td>\n",
       "      <td>11000</td>\n",
       "    </tr>\n",
       "    <tr>\n",
       "      <th>14</th>\n",
       "      <td>201903</td>\n",
       "      <td>11482</td>\n",
       "    </tr>\n",
       "    <tr>\n",
       "      <th>3</th>\n",
       "      <td>201804</td>\n",
       "      <td>11679</td>\n",
       "    </tr>\n",
       "    <tr>\n",
       "      <th>0</th>\n",
       "      <td>201801</td>\n",
       "      <td>11735</td>\n",
       "    </tr>\n",
       "    <tr>\n",
       "      <th>18</th>\n",
       "      <td>201907</td>\n",
       "      <td>12014</td>\n",
       "    </tr>\n",
       "    <tr>\n",
       "      <th>8</th>\n",
       "      <td>201809</td>\n",
       "      <td>12425</td>\n",
       "    </tr>\n",
       "    <tr>\n",
       "      <th>10</th>\n",
       "      <td>201811</td>\n",
       "      <td>12447</td>\n",
       "    </tr>\n",
       "    <tr>\n",
       "      <th>11</th>\n",
       "      <td>201812</td>\n",
       "      <td>12479</td>\n",
       "    </tr>\n",
       "    <tr>\n",
       "      <th>2</th>\n",
       "      <td>201803</td>\n",
       "      <td>12519</td>\n",
       "    </tr>\n",
       "    <tr>\n",
       "      <th>17</th>\n",
       "      <td>201906</td>\n",
       "      <td>12577</td>\n",
       "    </tr>\n",
       "    <tr>\n",
       "      <th>16</th>\n",
       "      <td>201905</td>\n",
       "      <td>12642</td>\n",
       "    </tr>\n",
       "    <tr>\n",
       "      <th>7</th>\n",
       "      <td>201808</td>\n",
       "      <td>12644</td>\n",
       "    </tr>\n",
       "    <tr>\n",
       "      <th>6</th>\n",
       "      <td>201807</td>\n",
       "      <td>12787</td>\n",
       "    </tr>\n",
       "    <tr>\n",
       "      <th>5</th>\n",
       "      <td>201806</td>\n",
       "      <td>13314</td>\n",
       "    </tr>\n",
       "    <tr>\n",
       "      <th>9</th>\n",
       "      <td>201810</td>\n",
       "      <td>13336</td>\n",
       "    </tr>\n",
       "    <tr>\n",
       "      <th>4</th>\n",
       "      <td>201805</td>\n",
       "      <td>13438</td>\n",
       "    </tr>\n",
       "  </tbody>\n",
       "</table>\n",
       "</div>"
      ],
      "text/plain": [
       "    YYYYMM  N ACCIDENTS\n",
       "19  201908         8466\n",
       "13  201902        10310\n",
       "1   201802        10395\n",
       "15  201904        10833\n",
       "12  201901        11000\n",
       "14  201903        11482\n",
       "3   201804        11679\n",
       "0   201801        11735\n",
       "18  201907        12014\n",
       "8   201809        12425\n",
       "10  201811        12447\n",
       "11  201812        12479\n",
       "2   201803        12519\n",
       "17  201906        12577\n",
       "16  201905        12642\n",
       "7   201808        12644\n",
       "6   201807        12787\n",
       "5   201806        13314\n",
       "9   201810        13336\n",
       "4   201805        13438"
      ]
     },
     "execution_count": 17,
     "metadata": {},
     "output_type": "execute_result"
    }
   ],
   "source": [
    "df_abm.sort_values(by='N ACCIDENTS',ascending=True)"
   ]
  },
  {
   "cell_type": "markdown",
   "metadata": {},
   "source": [
    "_I would like to check if records relative to August 2019 implies the same days that other months have_"
   ]
  },
  {
   "cell_type": "code",
   "execution_count": 18,
   "metadata": {},
   "outputs": [],
   "source": [
    "df['DAY_N']=df['DATE_EDIT'].dt.day"
   ]
  },
  {
   "cell_type": "code",
   "execution_count": 19,
   "metadata": {},
   "outputs": [
    {
     "data": {
      "text/plain": [
       "YYYYMM\n",
       "201801    31\n",
       "201802    28\n",
       "201803    31\n",
       "201804    30\n",
       "201805    31\n",
       "201806    30\n",
       "201807    31\n",
       "201808    31\n",
       "201809    30\n",
       "201810    31\n",
       "201811    30\n",
       "201812    31\n",
       "201901    31\n",
       "201902    28\n",
       "201903    31\n",
       "201904    30\n",
       "201905    31\n",
       "201906    30\n",
       "201907    31\n",
       "201908    24\n",
       "Name: DAY_N, dtype: int64"
      ]
     },
     "execution_count": 19,
     "metadata": {},
     "output_type": "execute_result"
    }
   ],
   "source": [
    "df.groupby(['YYYYMM'])['DAY_N'].max()"
   ]
  },
  {
   "cell_type": "markdown",
   "metadata": {},
   "source": [
    "_Note that August 2019 has only up to 24th imputed, maybe the last full month was not filled with data? Note that winter/fall days seems to be less prone to accidents. A reason could be less vehicle circulation because of the weather. Also, note that number of days in February is smaller, which means a smaller comparation basis_"
   ]
  },
  {
   "cell_type": "markdown",
   "metadata": {},
   "source": [
    "### Exercise 4 (30 min):\n",
    "\n",
    "How does the number of accidents vary throughout a single day? Create a new column `HOUR` based on the data from the `TIME` column, then plot a bar graph of the distribution per hour throughout the day.\n",
    "\n",
    "**Hint:** You may find the function ```dt.hour``` useful. "
   ]
  },
  {
   "cell_type": "markdown",
   "metadata": {},
   "source": [
    "**Answer**"
   ]
  },
  {
   "cell_type": "code",
   "execution_count": 20,
   "metadata": {},
   "outputs": [],
   "source": [
    "df['HOUR'] = pd.to_datetime(df['TIME']).dt.hour"
   ]
  },
  {
   "cell_type": "code",
   "execution_count": 21,
   "metadata": {},
   "outputs": [
    {
     "data": {
      "text/html": [
       "<div>\n",
       "<style scoped>\n",
       "    .dataframe tbody tr th:only-of-type {\n",
       "        vertical-align: middle;\n",
       "    }\n",
       "\n",
       "    .dataframe tbody tr th {\n",
       "        vertical-align: top;\n",
       "    }\n",
       "\n",
       "    .dataframe thead th {\n",
       "        text-align: right;\n",
       "    }\n",
       "</style>\n",
       "<table border=\"1\" class=\"dataframe\">\n",
       "  <thead>\n",
       "    <tr style=\"text-align: right;\">\n",
       "      <th></th>\n",
       "      <th>HOUR</th>\n",
       "      <th>N ACCIDENTS HOUR</th>\n",
       "    </tr>\n",
       "  </thead>\n",
       "  <tbody>\n",
       "    <tr>\n",
       "      <th>0</th>\n",
       "      <td>0</td>\n",
       "      <td>8160</td>\n",
       "    </tr>\n",
       "    <tr>\n",
       "      <th>1</th>\n",
       "      <td>1</td>\n",
       "      <td>3460</td>\n",
       "    </tr>\n",
       "    <tr>\n",
       "      <th>2</th>\n",
       "      <td>2</td>\n",
       "      <td>2570</td>\n",
       "    </tr>\n",
       "    <tr>\n",
       "      <th>3</th>\n",
       "      <td>3</td>\n",
       "      <td>2302</td>\n",
       "    </tr>\n",
       "    <tr>\n",
       "      <th>4</th>\n",
       "      <td>4</td>\n",
       "      <td>2562</td>\n",
       "    </tr>\n",
       "    <tr>\n",
       "      <th>5</th>\n",
       "      <td>5</td>\n",
       "      <td>2878</td>\n",
       "    </tr>\n",
       "    <tr>\n",
       "      <th>6</th>\n",
       "      <td>6</td>\n",
       "      <td>4844</td>\n",
       "    </tr>\n",
       "    <tr>\n",
       "      <th>7</th>\n",
       "      <td>7</td>\n",
       "      <td>7399</td>\n",
       "    </tr>\n",
       "    <tr>\n",
       "      <th>8</th>\n",
       "      <td>8</td>\n",
       "      <td>13403</td>\n",
       "    </tr>\n",
       "    <tr>\n",
       "      <th>9</th>\n",
       "      <td>9</td>\n",
       "      <td>12939</td>\n",
       "    </tr>\n",
       "    <tr>\n",
       "      <th>10</th>\n",
       "      <td>10</td>\n",
       "      <td>11981</td>\n",
       "    </tr>\n",
       "    <tr>\n",
       "      <th>11</th>\n",
       "      <td>11</td>\n",
       "      <td>12815</td>\n",
       "    </tr>\n",
       "    <tr>\n",
       "      <th>12</th>\n",
       "      <td>12</td>\n",
       "      <td>13731</td>\n",
       "    </tr>\n",
       "    <tr>\n",
       "      <th>13</th>\n",
       "      <td>13</td>\n",
       "      <td>14224</td>\n",
       "    </tr>\n",
       "    <tr>\n",
       "      <th>14</th>\n",
       "      <td>14</td>\n",
       "      <td>16889</td>\n",
       "    </tr>\n",
       "    <tr>\n",
       "      <th>15</th>\n",
       "      <td>15</td>\n",
       "      <td>15886</td>\n",
       "    </tr>\n",
       "    <tr>\n",
       "      <th>16</th>\n",
       "      <td>16</td>\n",
       "      <td>17536</td>\n",
       "    </tr>\n",
       "    <tr>\n",
       "      <th>17</th>\n",
       "      <td>17</td>\n",
       "      <td>17209</td>\n",
       "    </tr>\n",
       "    <tr>\n",
       "      <th>18</th>\n",
       "      <td>18</td>\n",
       "      <td>14899</td>\n",
       "    </tr>\n",
       "    <tr>\n",
       "      <th>19</th>\n",
       "      <td>19</td>\n",
       "      <td>11885</td>\n",
       "    </tr>\n",
       "    <tr>\n",
       "      <th>20</th>\n",
       "      <td>20</td>\n",
       "      <td>9597</td>\n",
       "    </tr>\n",
       "    <tr>\n",
       "      <th>21</th>\n",
       "      <td>21</td>\n",
       "      <td>8330</td>\n",
       "    </tr>\n",
       "    <tr>\n",
       "      <th>22</th>\n",
       "      <td>22</td>\n",
       "      <td>7216</td>\n",
       "    </tr>\n",
       "    <tr>\n",
       "      <th>23</th>\n",
       "      <td>23</td>\n",
       "      <td>5807</td>\n",
       "    </tr>\n",
       "  </tbody>\n",
       "</table>\n",
       "</div>"
      ],
      "text/plain": [
       "    HOUR  N ACCIDENTS HOUR\n",
       "0      0              8160\n",
       "1      1              3460\n",
       "2      2              2570\n",
       "3      3              2302\n",
       "4      4              2562\n",
       "5      5              2878\n",
       "6      6              4844\n",
       "7      7              7399\n",
       "8      8             13403\n",
       "9      9             12939\n",
       "10    10             11981\n",
       "11    11             12815\n",
       "12    12             13731\n",
       "13    13             14224\n",
       "14    14             16889\n",
       "15    15             15886\n",
       "16    16             17536\n",
       "17    17             17209\n",
       "18    18             14899\n",
       "19    19             11885\n",
       "20    20              9597\n",
       "21    21              8330\n",
       "22    22              7216\n",
       "23    23              5807"
      ]
     },
     "execution_count": 21,
     "metadata": {},
     "output_type": "execute_result"
    }
   ],
   "source": [
    "df_abh=pd.DataFrame(df.groupby(['HOUR'])['COLLISION_ID'].count())\n",
    "df_abh.reset_index(inplace=True)\n",
    "df_abh.columns=['HOUR','N ACCIDENTS HOUR']\n",
    "df_abh"
   ]
  },
  {
   "cell_type": "code",
   "execution_count": 22,
   "metadata": {},
   "outputs": [
    {
     "data": {
      "text/plain": [
       "Text(0.5, 1.0, '# of accidents by hour')"
      ]
     },
     "execution_count": 22,
     "metadata": {},
     "output_type": "execute_result"
    },
    {
     "data": {
      "image/png": "[encoded data removed]",
      "text/plain": [
       "<Figure size 432x288 with 1 Axes>"
      ]
     },
     "metadata": {},
     "output_type": "display_data"
    }
   ],
   "source": [
    "h = sns.barplot(x='HOUR', y='N ACCIDENTS HOUR',data=df_abh,color='red')\n",
    "h.set(ylim=(0, None))\n",
    "plt.title('# of accidents by hour')\n",
    "#plt.xticks(rotation=90)"
   ]
  },
  {
   "cell_type": "markdown",
   "metadata": {},
   "source": [
    "_On an agreggated basis, accidents tend to peak around 12 am - 6 pm. They start to rise around dawn, which is the time people drive to work, and start falling at 4 pm_"
   ]
  },
  {
   "cell_type": "markdown",
   "metadata": {},
   "source": [
    "### Exercise 5 (15 min):\n",
    "\n",
    "In the above question we have aggregated the number accidents per hour disregarding the date and place of ocurrence. Which criticism would you give to this approach?"
   ]
  },
  {
   "cell_type": "code",
   "execution_count": 23,
   "metadata": {},
   "outputs": [],
   "source": [
    "df_abhb=pd.DataFrame(df.groupby(['HOUR','BOROUGH','YYYYMM'])['COLLISION_ID'].nunique())\n",
    "df_abhb.reset_index(inplace=True)"
   ]
  },
  {
   "cell_type": "markdown",
   "metadata": {},
   "source": [
    "_I'll change column names just as a sanity check._"
   ]
  },
  {
   "cell_type": "code",
   "execution_count": 24,
   "metadata": {},
   "outputs": [],
   "source": [
    "df_abhb.columns=['HOUR','BOROUGH','MONTH','N ACCIDENTS']"
   ]
  },
  {
   "cell_type": "code",
   "execution_count": 25,
   "metadata": {},
   "outputs": [
    {
     "data": {
      "text/plain": [
       "<seaborn.axisgrid.FacetGrid at 0x11eef8ac8>"
      ]
     },
     "execution_count": 25,
     "metadata": {},
     "output_type": "execute_result"
    },
    {
     "data": {
      "image/png": "[encoded data removed]",
      "text/plain": [
       "<Figure size 1080x4320 with 100 Axes>"
      ]
     },
     "metadata": {},
     "output_type": "display_data"
    }
   ],
   "source": [
    "plot_abhb = sns.FacetGrid(df_abhb, col='BOROUGH', row='MONTH')\n",
    "plot_abhb.map(plt.plot, 'N ACCIDENTS',color='red')"
   ]
  },
  {
   "cell_type": "markdown",
   "metadata": {},
   "source": [
    "_My criticism is that each Borough has a different behavior along the day. Besides, there is a difference in the curve for each month. It would be also valuable to correlate #of cars in each Borough with total accidents, as a context variable_"
   ]
  },
  {
   "cell_type": "markdown",
   "metadata": {},
   "source": [
    "**Answer**"
   ]
  },
  {
   "cell_type": "markdown",
   "metadata": {},
   "source": [
    "### Exercise 6 (15 min):\n",
    "\n",
    "How does the number of accidents vary throughout a single week? Plot a bar graph based on the accidents count by day of the week.\n",
    "\n",
    "**Hint:** You may find the function ```dt.weekday``` useful."
   ]
  },
  {
   "cell_type": "markdown",
   "metadata": {},
   "source": [
    "**Answer**"
   ]
  },
  {
   "cell_type": "code",
   "execution_count": 26,
   "metadata": {},
   "outputs": [],
   "source": [
    "df['WEEKDAY'] = df['DATE_EDIT'].dt.weekday"
   ]
  },
  {
   "cell_type": "code",
   "execution_count": 27,
   "metadata": {},
   "outputs": [],
   "source": [
    "dict_days={0:'1 Mon',1:'2 Tue',2:'3 Wed',3:'4 Thu',4:'5 Fri',5:'6 Sat',6:'7 Sun'}"
   ]
  },
  {
   "cell_type": "code",
   "execution_count": 28,
   "metadata": {},
   "outputs": [],
   "source": [
    "df['WEEKDAYNAME']=df['WEEKDAY'].map(dict_days)"
   ]
  },
  {
   "cell_type": "code",
   "execution_count": 29,
   "metadata": {},
   "outputs": [
    {
     "data": {
      "text/html": [
       "<div>\n",
       "<style scoped>\n",
       "    .dataframe tbody tr th:only-of-type {\n",
       "        vertical-align: middle;\n",
       "    }\n",
       "\n",
       "    .dataframe tbody tr th {\n",
       "        vertical-align: top;\n",
       "    }\n",
       "\n",
       "    .dataframe thead th {\n",
       "        text-align: right;\n",
       "    }\n",
       "</style>\n",
       "<table border=\"1\" class=\"dataframe\">\n",
       "  <thead>\n",
       "    <tr style=\"text-align: right;\">\n",
       "      <th></th>\n",
       "      <th>DATE</th>\n",
       "      <th>TIME</th>\n",
       "      <th>BOROUGH</th>\n",
       "      <th>ZIP CODE</th>\n",
       "      <th>LATITUDE</th>\n",
       "      <th>LONGITUDE</th>\n",
       "      <th>ON STREET NAME</th>\n",
       "      <th>NUMBER OF PEDESTRIANS INJURED</th>\n",
       "      <th>NUMBER OF PEDESTRIANS KILLED</th>\n",
       "      <th>NUMBER OF CYCLIST INJURED</th>\n",
       "      <th>...</th>\n",
       "      <th>VEHICLE TYPE CODE 2</th>\n",
       "      <th>VEHICLE TYPE CODE 3</th>\n",
       "      <th>VEHICLE TYPE CODE 4</th>\n",
       "      <th>VEHICLE TYPE CODE 5</th>\n",
       "      <th>DATE_EDIT</th>\n",
       "      <th>YYYYMM</th>\n",
       "      <th>DAY_N</th>\n",
       "      <th>HOUR</th>\n",
       "      <th>WEEKDAY</th>\n",
       "      <th>WEEKDAYNAME</th>\n",
       "    </tr>\n",
       "  </thead>\n",
       "  <tbody>\n",
       "    <tr>\n",
       "      <th>156705</th>\n",
       "      <td>10/03/2018</td>\n",
       "      <td>12:55</td>\n",
       "      <td>MANHATTAN</td>\n",
       "      <td>10032.0</td>\n",
       "      <td>40.841717</td>\n",
       "      <td>-73.94435</td>\n",
       "      <td>NaN</td>\n",
       "      <td>0</td>\n",
       "      <td>0</td>\n",
       "      <td>0</td>\n",
       "      <td>...</td>\n",
       "      <td>Station Wagon/Sport Utility Vehicle</td>\n",
       "      <td>NaN</td>\n",
       "      <td>NaN</td>\n",
       "      <td>NaN</td>\n",
       "      <td>2018-10-03</td>\n",
       "      <td>201810</td>\n",
       "      <td>3</td>\n",
       "      <td>12</td>\n",
       "      <td>2</td>\n",
       "      <td>3 Wed</td>\n",
       "    </tr>\n",
       "    <tr>\n",
       "      <th>101625</th>\n",
       "      <td>01/31/2019</td>\n",
       "      <td>8:57</td>\n",
       "      <td>BRONX</td>\n",
       "      <td>10469.0</td>\n",
       "      <td>40.875393</td>\n",
       "      <td>-73.83862</td>\n",
       "      <td>NaN</td>\n",
       "      <td>0</td>\n",
       "      <td>0</td>\n",
       "      <td>0</td>\n",
       "      <td>...</td>\n",
       "      <td>Sedan</td>\n",
       "      <td>NaN</td>\n",
       "      <td>NaN</td>\n",
       "      <td>NaN</td>\n",
       "      <td>2019-01-31</td>\n",
       "      <td>201901</td>\n",
       "      <td>31</td>\n",
       "      <td>8</td>\n",
       "      <td>3</td>\n",
       "      <td>4 Thu</td>\n",
       "    </tr>\n",
       "    <tr>\n",
       "      <th>78424</th>\n",
       "      <td>05/14/2019</td>\n",
       "      <td>10:58</td>\n",
       "      <td>BROOKLYN</td>\n",
       "      <td>11226.0</td>\n",
       "      <td>40.646687</td>\n",
       "      <td>-73.95413</td>\n",
       "      <td>LOTT STREET</td>\n",
       "      <td>0</td>\n",
       "      <td>0</td>\n",
       "      <td>0</td>\n",
       "      <td>...</td>\n",
       "      <td>NaN</td>\n",
       "      <td>NaN</td>\n",
       "      <td>NaN</td>\n",
       "      <td>NaN</td>\n",
       "      <td>2019-05-14</td>\n",
       "      <td>201905</td>\n",
       "      <td>14</td>\n",
       "      <td>10</td>\n",
       "      <td>1</td>\n",
       "      <td>2 Tue</td>\n",
       "    </tr>\n",
       "  </tbody>\n",
       "</table>\n",
       "<p>3 rows × 30 columns</p>\n",
       "</div>"
      ],
      "text/plain": [
       "              DATE   TIME    BOROUGH  ZIP CODE   LATITUDE  LONGITUDE  \\\n",
       "156705  10/03/2018  12:55  MANHATTAN   10032.0  40.841717  -73.94435   \n",
       "101625  01/31/2019   8:57      BRONX   10469.0  40.875393  -73.83862   \n",
       "78424   05/14/2019  10:58   BROOKLYN   11226.0  40.646687  -73.95413   \n",
       "\n",
       "                          ON STREET NAME  NUMBER OF PEDESTRIANS INJURED  \\\n",
       "156705                               NaN                              0   \n",
       "101625                               NaN                              0   \n",
       "78424   LOTT STREET                                                   0   \n",
       "\n",
       "        NUMBER OF PEDESTRIANS KILLED  NUMBER OF CYCLIST INJURED  ...  \\\n",
       "156705                             0                          0  ...   \n",
       "101625                             0                          0  ...   \n",
       "78424                              0                          0  ...   \n",
       "\n",
       "                        VEHICLE TYPE CODE 2  VEHICLE TYPE CODE 3  \\\n",
       "156705  Station Wagon/Sport Utility Vehicle                  NaN   \n",
       "101625                                Sedan                  NaN   \n",
       "78424                                   NaN                  NaN   \n",
       "\n",
       "        VEHICLE TYPE CODE 4 VEHICLE TYPE CODE 5  DATE_EDIT  YYYYMM DAY_N HOUR  \\\n",
       "156705                  NaN                 NaN 2018-10-03  201810     3   12   \n",
       "101625                  NaN                 NaN 2019-01-31  201901    31    8   \n",
       "78424                   NaN                 NaN 2019-05-14  201905    14   10   \n",
       "\n",
       "        WEEKDAY WEEKDAYNAME  \n",
       "156705        2       3 Wed  \n",
       "101625        3       4 Thu  \n",
       "78424         1       2 Tue  \n",
       "\n",
       "[3 rows x 30 columns]"
      ]
     },
     "execution_count": 29,
     "metadata": {},
     "output_type": "execute_result"
    }
   ],
   "source": [
    "df.sample(3)"
   ]
  },
  {
   "cell_type": "code",
   "execution_count": 30,
   "metadata": {},
   "outputs": [
    {
     "data": {
      "text/plain": [
       "<matplotlib.axes._subplots.AxesSubplot at 0x121178ef0>"
      ]
     },
     "execution_count": 30,
     "metadata": {},
     "output_type": "execute_result"
    },
    {
     "data": {
      "image/png": "[encoded data removed]",
      "text/plain": [
       "<Figure size 432x288 with 1 Axes>"
      ]
     },
     "metadata": {},
     "output_type": "display_data"
    }
   ],
   "source": [
    "df.groupby(['WEEKDAYNAME'])['COLLISION_ID'].count().plot(kind='bar',color='red',title='# Accidents by weekday')"
   ]
  },
  {
   "cell_type": "markdown",
   "metadata": {},
   "source": [
    "_As we would expect, accident are less likely to happen during weekends. Maybe on Fridays people tend to rush to be home?_"
   ]
  },
  {
   "cell_type": "markdown",
   "metadata": {},
   "source": [
    "### Exercise 7 (30 min):\n",
    "\n",
    "Plot a bar graph of the total number of accidents in each borough, as well as one of the accidents per square mile per borough. What can you conclude?\n",
    "\n",
    "**Hint:** You may want to update some of the keys in the borough dictionary to match the names in the dataframe. "
   ]
  },
  {
   "cell_type": "markdown",
   "metadata": {},
   "source": [
    "**Answer**"
   ]
  },
  {
   "cell_type": "markdown",
   "metadata": {},
   "source": [
    "**_Assumption: The total number of accidents is requested for the entire period._**\n",
    "\n",
    "_Otherwise, we should also group by YYYYMM._"
   ]
  },
  {
   "cell_type": "code",
   "execution_count": 31,
   "metadata": {},
   "outputs": [],
   "source": [
    "df_apb=pd.DataFrame(df.groupby(['BOROUGH'])['COLLISION_ID'].nunique()).reset_index()\n",
    "df_apb.columns=['BOROUGH','TOTAL N ACCIDENTS']"
   ]
  },
  {
   "cell_type": "markdown",
   "metadata": {},
   "source": [
    "_The total number of accidents by Borough is:_"
   ]
  },
  {
   "cell_type": "code",
   "execution_count": 32,
   "metadata": {},
   "outputs": [
    {
     "data": {
      "text/html": [
       "<div>\n",
       "<style scoped>\n",
       "    .dataframe tbody tr th:only-of-type {\n",
       "        vertical-align: middle;\n",
       "    }\n",
       "\n",
       "    .dataframe tbody tr th {\n",
       "        vertical-align: top;\n",
       "    }\n",
       "\n",
       "    .dataframe thead th {\n",
       "        text-align: right;\n",
       "    }\n",
       "</style>\n",
       "<table border=\"1\" class=\"dataframe\">\n",
       "  <thead>\n",
       "    <tr style=\"text-align: right;\">\n",
       "      <th></th>\n",
       "      <th>BOROUGH</th>\n",
       "      <th>TOTAL N ACCIDENTS</th>\n",
       "    </tr>\n",
       "  </thead>\n",
       "  <tbody>\n",
       "    <tr>\n",
       "      <th>0</th>\n",
       "      <td>BRONX</td>\n",
       "      <td>37709</td>\n",
       "    </tr>\n",
       "    <tr>\n",
       "      <th>1</th>\n",
       "      <td>BROOKLYN</td>\n",
       "      <td>76253</td>\n",
       "    </tr>\n",
       "    <tr>\n",
       "      <th>2</th>\n",
       "      <td>MANHATTAN</td>\n",
       "      <td>48749</td>\n",
       "    </tr>\n",
       "    <tr>\n",
       "      <th>3</th>\n",
       "      <td>QUEENS</td>\n",
       "      <td>67120</td>\n",
       "    </tr>\n",
       "    <tr>\n",
       "      <th>4</th>\n",
       "      <td>STATEN ISLAND</td>\n",
       "      <td>8691</td>\n",
       "    </tr>\n",
       "  </tbody>\n",
       "</table>\n",
       "</div>"
      ],
      "text/plain": [
       "         BOROUGH  TOTAL N ACCIDENTS\n",
       "0          BRONX              37709\n",
       "1       BROOKLYN              76253\n",
       "2      MANHATTAN              48749\n",
       "3         QUEENS              67120\n",
       "4  STATEN ISLAND               8691"
      ]
     },
     "execution_count": 32,
     "metadata": {},
     "output_type": "execute_result"
    }
   ],
   "source": [
    "df_apb"
   ]
  },
  {
   "cell_type": "code",
   "execution_count": 33,
   "metadata": {},
   "outputs": [
    {
     "data": {
      "text/plain": [
       "0"
      ]
     },
     "execution_count": 33,
     "metadata": {},
     "output_type": "execute_result"
    }
   ],
   "source": [
    "df_apb['TOTAL N ACCIDENTS'].sum()-df.COLLISION_ID.nunique()"
   ]
  },
  {
   "cell_type": "code",
   "execution_count": 34,
   "metadata": {},
   "outputs": [],
   "source": [
    "df_boroughs=pd.DataFrame.from_dict(contents).transpose()"
   ]
  },
  {
   "cell_type": "code",
   "execution_count": 35,
   "metadata": {},
   "outputs": [],
   "source": [
    "df_boroughs.index=df_boroughs.index.str.upper()"
   ]
  },
  {
   "cell_type": "code",
   "execution_count": 36,
   "metadata": {},
   "outputs": [],
   "source": [
    "df_boroughs.index=df_boroughs.index.str.replace('THE ','')"
   ]
  },
  {
   "cell_type": "code",
   "execution_count": 37,
   "metadata": {},
   "outputs": [
    {
     "data": {
      "text/html": [
       "<div>\n",
       "<style scoped>\n",
       "    .dataframe tbody tr th:only-of-type {\n",
       "        vertical-align: middle;\n",
       "    }\n",
       "\n",
       "    .dataframe tbody tr th {\n",
       "        vertical-align: top;\n",
       "    }\n",
       "\n",
       "    .dataframe thead th {\n",
       "        text-align: right;\n",
       "    }\n",
       "</style>\n",
       "<table border=\"1\" class=\"dataframe\">\n",
       "  <thead>\n",
       "    <tr style=\"text-align: right;\">\n",
       "      <th></th>\n",
       "      <th>area</th>\n",
       "      <th>name</th>\n",
       "      <th>population</th>\n",
       "      <th>BOROUGH</th>\n",
       "    </tr>\n",
       "  </thead>\n",
       "  <tbody>\n",
       "    <tr>\n",
       "      <th>BRONX</th>\n",
       "      <td>42.1</td>\n",
       "      <td>the bronx</td>\n",
       "      <td>1.47116e+06</td>\n",
       "      <td>BRONX</td>\n",
       "    </tr>\n",
       "    <tr>\n",
       "      <th>BROOKLYN</th>\n",
       "      <td>70.82</td>\n",
       "      <td>brooklyn</td>\n",
       "      <td>2.64877e+06</td>\n",
       "      <td>BROOKLYN</td>\n",
       "    </tr>\n",
       "    <tr>\n",
       "      <th>MANHATTAN</th>\n",
       "      <td>22.83</td>\n",
       "      <td>manhattan</td>\n",
       "      <td>1.66473e+06</td>\n",
       "      <td>MANHATTAN</td>\n",
       "    </tr>\n",
       "    <tr>\n",
       "      <th>QUEENS</th>\n",
       "      <td>108.53</td>\n",
       "      <td>queens</td>\n",
       "      <td>2.35858e+06</td>\n",
       "      <td>QUEENS</td>\n",
       "    </tr>\n",
       "    <tr>\n",
       "      <th>STATEN ISLAND</th>\n",
       "      <td>58.37</td>\n",
       "      <td>staten island</td>\n",
       "      <td>479458</td>\n",
       "      <td>STATEN ISLAND</td>\n",
       "    </tr>\n",
       "  </tbody>\n",
       "</table>\n",
       "</div>"
      ],
      "text/plain": [
       "                 area           name   population        BOROUGH\n",
       "BRONX            42.1      the bronx  1.47116e+06          BRONX\n",
       "BROOKLYN        70.82       brooklyn  2.64877e+06       BROOKLYN\n",
       "MANHATTAN       22.83      manhattan  1.66473e+06      MANHATTAN\n",
       "QUEENS         108.53         queens  2.35858e+06         QUEENS\n",
       "STATEN ISLAND   58.37  staten island       479458  STATEN ISLAND"
      ]
     },
     "execution_count": 37,
     "metadata": {},
     "output_type": "execute_result"
    }
   ],
   "source": [
    "df_boroughs['BOROUGH']=df_boroughs.index\n",
    "df_boroughs"
   ]
  },
  {
   "cell_type": "markdown",
   "metadata": {},
   "source": [
    "_Must map each Borough Area (from the json dictionary) into my table_"
   ]
  },
  {
   "cell_type": "code",
   "execution_count": 38,
   "metadata": {},
   "outputs": [],
   "source": [
    "df_apb=df_apb.merge(df_boroughs,on='BOROUGH',how='left')"
   ]
  },
  {
   "cell_type": "code",
   "execution_count": 39,
   "metadata": {},
   "outputs": [
    {
     "data": {
      "text/html": [
       "<div>\n",
       "<style scoped>\n",
       "    .dataframe tbody tr th:only-of-type {\n",
       "        vertical-align: middle;\n",
       "    }\n",
       "\n",
       "    .dataframe tbody tr th {\n",
       "        vertical-align: top;\n",
       "    }\n",
       "\n",
       "    .dataframe thead th {\n",
       "        text-align: right;\n",
       "    }\n",
       "</style>\n",
       "<table border=\"1\" class=\"dataframe\">\n",
       "  <thead>\n",
       "    <tr style=\"text-align: right;\">\n",
       "      <th></th>\n",
       "      <th>BOROUGH</th>\n",
       "      <th>TOTAL N ACCIDENTS</th>\n",
       "      <th>area</th>\n",
       "      <th>name</th>\n",
       "      <th>population</th>\n",
       "    </tr>\n",
       "  </thead>\n",
       "  <tbody>\n",
       "    <tr>\n",
       "      <th>0</th>\n",
       "      <td>BRONX</td>\n",
       "      <td>37709</td>\n",
       "      <td>42.1</td>\n",
       "      <td>the bronx</td>\n",
       "      <td>1.47116e+06</td>\n",
       "    </tr>\n",
       "    <tr>\n",
       "      <th>1</th>\n",
       "      <td>BROOKLYN</td>\n",
       "      <td>76253</td>\n",
       "      <td>70.82</td>\n",
       "      <td>brooklyn</td>\n",
       "      <td>2.64877e+06</td>\n",
       "    </tr>\n",
       "    <tr>\n",
       "      <th>2</th>\n",
       "      <td>MANHATTAN</td>\n",
       "      <td>48749</td>\n",
       "      <td>22.83</td>\n",
       "      <td>manhattan</td>\n",
       "      <td>1.66473e+06</td>\n",
       "    </tr>\n",
       "    <tr>\n",
       "      <th>3</th>\n",
       "      <td>QUEENS</td>\n",
       "      <td>67120</td>\n",
       "      <td>108.53</td>\n",
       "      <td>queens</td>\n",
       "      <td>2.35858e+06</td>\n",
       "    </tr>\n",
       "    <tr>\n",
       "      <th>4</th>\n",
       "      <td>STATEN ISLAND</td>\n",
       "      <td>8691</td>\n",
       "      <td>58.37</td>\n",
       "      <td>staten island</td>\n",
       "      <td>479458</td>\n",
       "    </tr>\n",
       "  </tbody>\n",
       "</table>\n",
       "</div>"
      ],
      "text/plain": [
       "         BOROUGH  TOTAL N ACCIDENTS    area           name   population\n",
       "0          BRONX              37709    42.1      the bronx  1.47116e+06\n",
       "1       BROOKLYN              76253   70.82       brooklyn  2.64877e+06\n",
       "2      MANHATTAN              48749   22.83      manhattan  1.66473e+06\n",
       "3         QUEENS              67120  108.53         queens  2.35858e+06\n",
       "4  STATEN ISLAND               8691   58.37  staten island       479458"
      ]
     },
     "execution_count": 39,
     "metadata": {},
     "output_type": "execute_result"
    }
   ],
   "source": [
    "df_apb"
   ]
  },
  {
   "cell_type": "code",
   "execution_count": 40,
   "metadata": {},
   "outputs": [],
   "source": [
    "df_apb['ABA']=df_apb['TOTAL N ACCIDENTS']/df_apb['area']"
   ]
  },
  {
   "cell_type": "code",
   "execution_count": 41,
   "metadata": {},
   "outputs": [
    {
     "data": {
      "text/plain": [
       "Text(0.5, 1.0, '# of accidents by Borough')"
      ]
     },
     "execution_count": 41,
     "metadata": {},
     "output_type": "execute_result"
    },
    {
     "data": {
      "image/png": "[encoded data removed]",
      "text/plain": [
       "<Figure size 432x288 with 1 Axes>"
      ]
     },
     "metadata": {},
     "output_type": "display_data"
    }
   ],
   "source": [
    "apb = sns.barplot(x='BOROUGH', y='TOTAL N ACCIDENTS',data=df_apb,color='red')\n",
    "apb.set(ylim=(0, None))\n",
    "apb.set_title('# of accidents by Borough')\n",
    "#plt.xticks(rotation=90)"
   ]
  },
  {
   "cell_type": "code",
   "execution_count": 42,
   "metadata": {},
   "outputs": [
    {
     "data": {
      "text/plain": [
       "Text(0.5, 1.0, '# of accidents by AREA & Borough ')"
      ]
     },
     "execution_count": 42,
     "metadata": {},
     "output_type": "execute_result"
    },
    {
     "data": {
      "image/png": "[encoded data removed]",
      "text/plain": [
       "<Figure size 432x288 with 1 Axes>"
      ]
     },
     "metadata": {},
     "output_type": "display_data"
    }
   ],
   "source": [
    "apba = sns.barplot(x='BOROUGH',y='ABA',data=df_apb,color='red')\n",
    "apba.set(ylim=(0, None))\n",
    "apba.set_title('# of accidents by AREA & Borough ')\n",
    "#plt.xticks(rotation=90)"
   ]
  },
  {
   "cell_type": "markdown",
   "metadata": {},
   "source": [
    "_Except for Manhattan, using unit Surface size doesn´t seem to have an effect on the indicator when using it comparatively  (now relative to area)_"
   ]
  },
  {
   "cell_type": "markdown",
   "metadata": {},
   "source": [
    "### Exercise 8 (30 min):\n",
    "\n",
    "Which hours have the most accidents for each borough? Plot a bar graph for each borough showing the number of accidents for each hour of the day.\n",
    "\n",
    "**Hint:** You can use ```sns.FacetGrid``` to create a grid of plots with the hourly data of each borough. "
   ]
  },
  {
   "cell_type": "markdown",
   "metadata": {},
   "source": [
    "**Answer**"
   ]
  },
  {
   "cell_type": "code",
   "execution_count": 43,
   "metadata": {},
   "outputs": [
    {
     "data": {
      "text/html": [
       "<div>\n",
       "<style scoped>\n",
       "    .dataframe tbody tr th:only-of-type {\n",
       "        vertical-align: middle;\n",
       "    }\n",
       "\n",
       "    .dataframe tbody tr th {\n",
       "        vertical-align: top;\n",
       "    }\n",
       "\n",
       "    .dataframe thead th {\n",
       "        text-align: right;\n",
       "    }\n",
       "</style>\n",
       "<table border=\"1\" class=\"dataframe\">\n",
       "  <thead>\n",
       "    <tr style=\"text-align: right;\">\n",
       "      <th></th>\n",
       "      <th>BOROUGH</th>\n",
       "      <th>HOUR</th>\n",
       "      <th>COLLISION_ID</th>\n",
       "    </tr>\n",
       "  </thead>\n",
       "  <tbody>\n",
       "    <tr>\n",
       "      <th>0</th>\n",
       "      <td>BRONX</td>\n",
       "      <td>0</td>\n",
       "      <td>1329</td>\n",
       "    </tr>\n",
       "    <tr>\n",
       "      <th>1</th>\n",
       "      <td>BRONX</td>\n",
       "      <td>1</td>\n",
       "      <td>529</td>\n",
       "    </tr>\n",
       "    <tr>\n",
       "      <th>2</th>\n",
       "      <td>BRONX</td>\n",
       "      <td>2</td>\n",
       "      <td>402</td>\n",
       "    </tr>\n",
       "    <tr>\n",
       "      <th>3</th>\n",
       "      <td>BRONX</td>\n",
       "      <td>3</td>\n",
       "      <td>361</td>\n",
       "    </tr>\n",
       "    <tr>\n",
       "      <th>4</th>\n",
       "      <td>BRONX</td>\n",
       "      <td>4</td>\n",
       "      <td>418</td>\n",
       "    </tr>\n",
       "    <tr>\n",
       "      <th>5</th>\n",
       "      <td>BRONX</td>\n",
       "      <td>5</td>\n",
       "      <td>508</td>\n",
       "    </tr>\n",
       "    <tr>\n",
       "      <th>6</th>\n",
       "      <td>BRONX</td>\n",
       "      <td>6</td>\n",
       "      <td>835</td>\n",
       "    </tr>\n",
       "    <tr>\n",
       "      <th>7</th>\n",
       "      <td>BRONX</td>\n",
       "      <td>7</td>\n",
       "      <td>1406</td>\n",
       "    </tr>\n",
       "    <tr>\n",
       "      <th>8</th>\n",
       "      <td>BRONX</td>\n",
       "      <td>8</td>\n",
       "      <td>2341</td>\n",
       "    </tr>\n",
       "    <tr>\n",
       "      <th>9</th>\n",
       "      <td>BRONX</td>\n",
       "      <td>9</td>\n",
       "      <td>2162</td>\n",
       "    </tr>\n",
       "  </tbody>\n",
       "</table>\n",
       "</div>"
      ],
      "text/plain": [
       "  BOROUGH  HOUR  COLLISION_ID\n",
       "0   BRONX     0          1329\n",
       "1   BRONX     1           529\n",
       "2   BRONX     2           402\n",
       "3   BRONX     3           361\n",
       "4   BRONX     4           418\n",
       "5   BRONX     5           508\n",
       "6   BRONX     6           835\n",
       "7   BRONX     7          1406\n",
       "8   BRONX     8          2341\n",
       "9   BRONX     9          2162"
      ]
     },
     "execution_count": 43,
     "metadata": {},
     "output_type": "execute_result"
    }
   ],
   "source": [
    "df_cbbh=pd.DataFrame(df.groupby(['BOROUGH','HOUR'])['COLLISION_ID'].nunique()).reset_index()\n",
    "df_cbbh.head(10)"
   ]
  },
  {
   "cell_type": "code",
   "execution_count": 44,
   "metadata": {},
   "outputs": [
    {
     "data": {
      "image/png": "[encoded data removed]",
      "text/plain": [
       "<Figure size 1800x360 with 5 Axes>"
      ]
     },
     "metadata": {},
     "output_type": "display_data"
    }
   ],
   "source": [
    "plot_cbbh = sns.catplot(x=\"HOUR\", y=\"COLLISION_ID\", col=\"BOROUGH\",data=df_cbbh, kind=\"bar\",color='red')"
   ]
  },
  {
   "cell_type": "markdown",
   "metadata": {},
   "source": [
    "_Most accidents occur between 1 PM and 5 PM, and there is a notorious difference for each Borough_"
   ]
  },
  {
   "cell_type": "markdown",
   "metadata": {},
   "source": [
    "### Exercise 9 (45 min):\n",
    "\n",
    "What factors cause the most accidents? Avoid double counting the contributing factors of a single accident. \n",
    "\n",
    "**Hint:** One way of dealing with repetitions is to concatenate the corresponding columns while preserving their indexes, you can do that with the functions ```pd.concat()``` and  ```reset_index()```. Then, use an appropiate ```group_by``` to count the number of repetitions of contributed factors per accident.   "
   ]
  },
  {
   "cell_type": "markdown",
   "metadata": {},
   "source": [
    "**Answer**"
   ]
  },
  {
   "cell_type": "code",
   "execution_count": 45,
   "metadata": {},
   "outputs": [
    {
     "data": {
      "text/plain": [
       "Index(['DATE', 'TIME', 'BOROUGH', 'ZIP CODE', 'LATITUDE', 'LONGITUDE',\n",
       "       'ON STREET NAME', 'NUMBER OF PEDESTRIANS INJURED',\n",
       "       'NUMBER OF PEDESTRIANS KILLED', 'NUMBER OF CYCLIST INJURED',\n",
       "       'NUMBER OF CYCLIST KILLED', 'NUMBER OF MOTORIST INJURED',\n",
       "       'NUMBER OF MOTORIST KILLED', 'CONTRIBUTING FACTOR VEHICLE 1',\n",
       "       'CONTRIBUTING FACTOR VEHICLE 2', 'CONTRIBUTING FACTOR VEHICLE 3',\n",
       "       'CONTRIBUTING FACTOR VEHICLE 4', 'CONTRIBUTING FACTOR VEHICLE 5',\n",
       "       'COLLISION_ID', 'VEHICLE TYPE CODE 1', 'VEHICLE TYPE CODE 2',\n",
       "       'VEHICLE TYPE CODE 3', 'VEHICLE TYPE CODE 4', 'VEHICLE TYPE CODE 5',\n",
       "       'DATE_EDIT', 'YYYYMM', 'DAY_N', 'HOUR', 'WEEKDAY', 'WEEKDAYNAME'],\n",
       "      dtype='object')"
      ]
     },
     "execution_count": 45,
     "metadata": {},
     "output_type": "execute_result"
    }
   ],
   "source": [
    "df.columns"
   ]
  },
  {
   "cell_type": "markdown",
   "metadata": {},
   "source": [
    "_Each Contributing Factor must be counted ONCE in a COLLISION_ID_"
   ]
  },
  {
   "cell_type": "code",
   "execution_count": 46,
   "metadata": {},
   "outputs": [],
   "source": [
    "lista_contr=[x for x in df.columns if \"CONTR\" in x]\n",
    "df_contr=pd.concat([df[lista_contr],df['COLLISION_ID']],axis=1)"
   ]
  },
  {
   "cell_type": "code",
   "execution_count": 47,
   "metadata": {},
   "outputs": [
    {
     "data": {
      "text/html": [
       "<div>\n",
       "<style scoped>\n",
       "    .dataframe tbody tr th:only-of-type {\n",
       "        vertical-align: middle;\n",
       "    }\n",
       "\n",
       "    .dataframe tbody tr th {\n",
       "        vertical-align: top;\n",
       "    }\n",
       "\n",
       "    .dataframe thead th {\n",
       "        text-align: right;\n",
       "    }\n",
       "</style>\n",
       "<table border=\"1\" class=\"dataframe\">\n",
       "  <thead>\n",
       "    <tr style=\"text-align: right;\">\n",
       "      <th></th>\n",
       "      <th>CONTRIBUTING FACTOR VEHICLE 1</th>\n",
       "      <th>CONTRIBUTING FACTOR VEHICLE 2</th>\n",
       "      <th>CONTRIBUTING FACTOR VEHICLE 3</th>\n",
       "      <th>CONTRIBUTING FACTOR VEHICLE 4</th>\n",
       "      <th>CONTRIBUTING FACTOR VEHICLE 5</th>\n",
       "      <th>COLLISION_ID</th>\n",
       "    </tr>\n",
       "  </thead>\n",
       "  <tbody>\n",
       "    <tr>\n",
       "      <th>1286</th>\n",
       "      <td>Passing Too Closely</td>\n",
       "      <td>Backing Unsafely</td>\n",
       "      <td>NaN</td>\n",
       "      <td>NaN</td>\n",
       "      <td>NaN</td>\n",
       "      <td>4188561</td>\n",
       "    </tr>\n",
       "    <tr>\n",
       "      <th>106751</th>\n",
       "      <td>Pavement Slippery</td>\n",
       "      <td>Pavement Slippery</td>\n",
       "      <td>NaN</td>\n",
       "      <td>NaN</td>\n",
       "      <td>NaN</td>\n",
       "      <td>4083845</td>\n",
       "    </tr>\n",
       "    <tr>\n",
       "      <th>104196</th>\n",
       "      <td>Driver Inattention/Distraction</td>\n",
       "      <td>Driver Inattention/Distraction</td>\n",
       "      <td>NaN</td>\n",
       "      <td>NaN</td>\n",
       "      <td>NaN</td>\n",
       "      <td>4085865</td>\n",
       "    </tr>\n",
       "    <tr>\n",
       "      <th>20812</th>\n",
       "      <td>Unspecified</td>\n",
       "      <td>Unspecified</td>\n",
       "      <td>NaN</td>\n",
       "      <td>NaN</td>\n",
       "      <td>NaN</td>\n",
       "      <td>4158282</td>\n",
       "    </tr>\n",
       "    <tr>\n",
       "      <th>27568</th>\n",
       "      <td>Unspecified</td>\n",
       "      <td>Unspecified</td>\n",
       "      <td>NaN</td>\n",
       "      <td>NaN</td>\n",
       "      <td>NaN</td>\n",
       "      <td>4152577</td>\n",
       "    </tr>\n",
       "  </tbody>\n",
       "</table>\n",
       "</div>"
      ],
      "text/plain": [
       "         CONTRIBUTING FACTOR VEHICLE 1   CONTRIBUTING FACTOR VEHICLE 2  \\\n",
       "1286               Passing Too Closely                Backing Unsafely   \n",
       "106751               Pavement Slippery               Pavement Slippery   \n",
       "104196  Driver Inattention/Distraction  Driver Inattention/Distraction   \n",
       "20812                      Unspecified                     Unspecified   \n",
       "27568                      Unspecified                     Unspecified   \n",
       "\n",
       "       CONTRIBUTING FACTOR VEHICLE 3 CONTRIBUTING FACTOR VEHICLE 4  \\\n",
       "1286                             NaN                           NaN   \n",
       "106751                           NaN                           NaN   \n",
       "104196                           NaN                           NaN   \n",
       "20812                            NaN                           NaN   \n",
       "27568                            NaN                           NaN   \n",
       "\n",
       "       CONTRIBUTING FACTOR VEHICLE 5  COLLISION_ID  \n",
       "1286                             NaN       4188561  \n",
       "106751                           NaN       4083845  \n",
       "104196                           NaN       4085865  \n",
       "20812                            NaN       4158282  \n",
       "27568                            NaN       4152577  "
      ]
     },
     "execution_count": 47,
     "metadata": {},
     "output_type": "execute_result"
    }
   ],
   "source": [
    "df_contr.sample(5)"
   ]
  },
  {
   "cell_type": "markdown",
   "metadata": {},
   "source": [
    "_Beware of double counting! Each kind of vehicle must be counted **ONCE** per accident_"
   ]
  },
  {
   "cell_type": "code",
   "execution_count": 48,
   "metadata": {},
   "outputs": [],
   "source": [
    "df_contr_edit=df_contr.melt(id_vars=['COLLISION_ID'])"
   ]
  },
  {
   "cell_type": "code",
   "execution_count": 49,
   "metadata": {},
   "outputs": [
    {
     "data": {
      "text/html": [
       "<div>\n",
       "<style scoped>\n",
       "    .dataframe tbody tr th:only-of-type {\n",
       "        vertical-align: middle;\n",
       "    }\n",
       "\n",
       "    .dataframe tbody tr th {\n",
       "        vertical-align: top;\n",
       "    }\n",
       "\n",
       "    .dataframe thead th {\n",
       "        text-align: right;\n",
       "    }\n",
       "</style>\n",
       "<table border=\"1\" class=\"dataframe\">\n",
       "  <thead>\n",
       "    <tr style=\"text-align: right;\">\n",
       "      <th></th>\n",
       "      <th>COLLISION_ID</th>\n",
       "      <th>variable</th>\n",
       "      <th>value</th>\n",
       "    </tr>\n",
       "  </thead>\n",
       "  <tbody>\n",
       "    <tr>\n",
       "      <th>1164128</th>\n",
       "      <td>3859176</td>\n",
       "      <td>CONTRIBUTING FACTOR VEHICLE 5</td>\n",
       "      <td>NaN</td>\n",
       "    </tr>\n",
       "    <tr>\n",
       "      <th>900755</th>\n",
       "      <td>3909708</td>\n",
       "      <td>CONTRIBUTING FACTOR VEHICLE 4</td>\n",
       "      <td>NaN</td>\n",
       "    </tr>\n",
       "    <tr>\n",
       "      <th>568942</th>\n",
       "      <td>4114624</td>\n",
       "      <td>CONTRIBUTING FACTOR VEHICLE 3</td>\n",
       "      <td>NaN</td>\n",
       "    </tr>\n",
       "    <tr>\n",
       "      <th>974155</th>\n",
       "      <td>4161353</td>\n",
       "      <td>CONTRIBUTING FACTOR VEHICLE 5</td>\n",
       "      <td>NaN</td>\n",
       "    </tr>\n",
       "    <tr>\n",
       "      <th>97531</th>\n",
       "      <td>4075945</td>\n",
       "      <td>CONTRIBUTING FACTOR VEHICLE 1</td>\n",
       "      <td>Driver Inattention/Distraction</td>\n",
       "    </tr>\n",
       "    <tr>\n",
       "      <th>142956</th>\n",
       "      <td>4032957</td>\n",
       "      <td>CONTRIBUTING FACTOR VEHICLE 1</td>\n",
       "      <td>Unspecified</td>\n",
       "    </tr>\n",
       "    <tr>\n",
       "      <th>444528</th>\n",
       "      <td>3868169</td>\n",
       "      <td>CONTRIBUTING FACTOR VEHICLE 2</td>\n",
       "      <td>Unspecified</td>\n",
       "    </tr>\n",
       "    <tr>\n",
       "      <th>1186277</th>\n",
       "      <td>3833598</td>\n",
       "      <td>CONTRIBUTING FACTOR VEHICLE 5</td>\n",
       "      <td>NaN</td>\n",
       "    </tr>\n",
       "    <tr>\n",
       "      <th>650701</th>\n",
       "      <td>3920976</td>\n",
       "      <td>CONTRIBUTING FACTOR VEHICLE 3</td>\n",
       "      <td>NaN</td>\n",
       "    </tr>\n",
       "    <tr>\n",
       "      <th>311107</th>\n",
       "      <td>4133253</td>\n",
       "      <td>CONTRIBUTING FACTOR VEHICLE 2</td>\n",
       "      <td>Unspecified</td>\n",
       "    </tr>\n",
       "  </tbody>\n",
       "</table>\n",
       "</div>"
      ],
      "text/plain": [
       "         COLLISION_ID                       variable  \\\n",
       "1164128       3859176  CONTRIBUTING FACTOR VEHICLE 5   \n",
       "900755        3909708  CONTRIBUTING FACTOR VEHICLE 4   \n",
       "568942        4114624  CONTRIBUTING FACTOR VEHICLE 3   \n",
       "974155        4161353  CONTRIBUTING FACTOR VEHICLE 5   \n",
       "97531         4075945  CONTRIBUTING FACTOR VEHICLE 1   \n",
       "142956        4032957  CONTRIBUTING FACTOR VEHICLE 1   \n",
       "444528        3868169  CONTRIBUTING FACTOR VEHICLE 2   \n",
       "1186277       3833598  CONTRIBUTING FACTOR VEHICLE 5   \n",
       "650701        3920976  CONTRIBUTING FACTOR VEHICLE 3   \n",
       "311107        4133253  CONTRIBUTING FACTOR VEHICLE 2   \n",
       "\n",
       "                                  value  \n",
       "1164128                             NaN  \n",
       "900755                              NaN  \n",
       "568942                              NaN  \n",
       "974155                              NaN  \n",
       "97531    Driver Inattention/Distraction  \n",
       "142956                      Unspecified  \n",
       "444528                      Unspecified  \n",
       "1186277                             NaN  \n",
       "650701                              NaN  \n",
       "311107                      Unspecified  "
      ]
     },
     "execution_count": 49,
     "metadata": {},
     "output_type": "execute_result"
    }
   ],
   "source": [
    "df_contr_edit.sample(10)"
   ]
  },
  {
   "cell_type": "code",
   "execution_count": 50,
   "metadata": {},
   "outputs": [
    {
     "data": {
      "text/plain": [
       "value\n",
       "Unspecified                                              190096\n",
       "Driver Inattention/Distraction                            61752\n",
       "Failure to Yield Right-of-Way                             19641\n",
       "Following Too Closely                                     17293\n",
       "Backing Unsafely                                          14835\n",
       "Passing Too Closely                                       12631\n",
       "Passing or Lane Usage Improper                            11808\n",
       "Other Vehicular                                            8860\n",
       "Unsafe Lane Changing                                       6643\n",
       "Turning Improperly                                         6626\n",
       "Traffic Control Disregarded                                4687\n",
       "Driver Inexperience                                        4152\n",
       "Unsafe Speed                                               3469\n",
       "Reaction to Uninvolved Vehicle                             3034\n",
       "Alcohol Involvement                                        2491\n",
       "View Obstructed/Limited                                    2345\n",
       "Oversized Vehicle                                          1977\n",
       "Pavement Slippery                                          1935\n",
       "Pedestrian/Bicyclist/Other Pedestrian Error/Confusion      1788\n",
       "Aggressive Driving/Road Rage                               1095\n",
       "Passenger Distraction                                      1040\n",
       "Brakes Defective                                            840\n",
       "Fell Asleep                                                 598\n",
       "Outside Car Distraction                                     549\n",
       "Glare                                                       435\n",
       "Obstruction/Debris                                          431\n",
       "Failure to Keep Right                                       357\n",
       "Steering Failure                                            320\n",
       "Pavement Defective                                          301\n",
       "Illnes                                                      255\n",
       "Driverless/Runaway Vehicle                                  241\n",
       "Tire Failure/Inadequate                                     220\n",
       "Fatigued/Drowsy                                             218\n",
       "Lost Consciousness                                          206\n",
       "Animals Action                                              183\n",
       "Lane Marking Improper/Inadequate                            144\n",
       "Accelerator Defective                                       143\n",
       "Drugs (illegal)                                             118\n",
       "Traffic Control Device Improper/Non-Working                  99\n",
       "Cell Phone (hand-Held)                                       94\n",
       "Physical Disability                                          61\n",
       "Other Lighting Defects                                       39\n",
       "Other Electronic Device                                      31\n",
       "Tinted Windows                                               27\n",
       "Tow Hitch Defective                                          26\n",
       "Vehicle Vandalism                                            23\n",
       "Prescription Medication                                      20\n",
       "Using On Board Navigation Device                             19\n",
       "Headlights Defective                                         17\n",
       "Eating or Drinking                                           16\n",
       "Texting                                                      13\n",
       "Cell Phone (hands-free)                                      12\n",
       "Shoulders Defective/Improper                                  9\n",
       "Windshield Inadequate                                         8\n",
       "Listening/Using Headphones                                    7\n",
       "Name: COLLISION_ID, dtype: int64"
      ]
     },
     "execution_count": 50,
     "metadata": {},
     "output_type": "execute_result"
    }
   ],
   "source": [
    "df_contr_edit.groupby(['value'])['COLLISION_ID'].nunique().sort_values(ascending=False)"
   ]
  },
  {
   "cell_type": "markdown",
   "metadata": {},
   "source": [
    "_Most important factor are Driver Inattention/Distraction, follwed by Failure to Yield and Not keeping a prudential distance_"
   ]
  },
  {
   "cell_type": "markdown",
   "metadata": {},
   "source": [
    "### Exercise 10 (45 min):\n",
    "\n",
    "Which vehicle types are most involved in accidents per borough? Avoid double counting the type of vehicles present in a single accident. \n",
    "\n",
    "**Hint:** You can apply a similar approach to the one used in the previous question."
   ]
  },
  {
   "cell_type": "markdown",
   "metadata": {},
   "source": [
    "**Answer** "
   ]
  },
  {
   "cell_type": "code",
   "execution_count": 51,
   "metadata": {},
   "outputs": [],
   "source": [
    "lista_vt=[x for x in df.columns if \"VEHICLE TYPE\" in x]\n",
    "df_vt=pd.concat([df[lista_vt],df['COLLISION_ID']],axis=1)"
   ]
  },
  {
   "cell_type": "code",
   "execution_count": 52,
   "metadata": {},
   "outputs": [
    {
     "data": {
      "text/html": [
       "<div>\n",
       "<style scoped>\n",
       "    .dataframe tbody tr th:only-of-type {\n",
       "        vertical-align: middle;\n",
       "    }\n",
       "\n",
       "    .dataframe tbody tr th {\n",
       "        vertical-align: top;\n",
       "    }\n",
       "\n",
       "    .dataframe thead th {\n",
       "        text-align: right;\n",
       "    }\n",
       "</style>\n",
       "<table border=\"1\" class=\"dataframe\">\n",
       "  <thead>\n",
       "    <tr style=\"text-align: right;\">\n",
       "      <th></th>\n",
       "      <th>VEHICLE TYPE CODE 1</th>\n",
       "      <th>VEHICLE TYPE CODE 2</th>\n",
       "      <th>VEHICLE TYPE CODE 3</th>\n",
       "      <th>VEHICLE TYPE CODE 4</th>\n",
       "      <th>VEHICLE TYPE CODE 5</th>\n",
       "      <th>COLLISION_ID</th>\n",
       "    </tr>\n",
       "  </thead>\n",
       "  <tbody>\n",
       "    <tr>\n",
       "      <th>90640</th>\n",
       "      <td>Sedan</td>\n",
       "      <td>Box Truck</td>\n",
       "      <td>NaN</td>\n",
       "      <td>NaN</td>\n",
       "      <td>NaN</td>\n",
       "      <td>4110970</td>\n",
       "    </tr>\n",
       "    <tr>\n",
       "      <th>216725</th>\n",
       "      <td>PASSENGER VEHICLE</td>\n",
       "      <td>SPORT UTILITY / STATION WAGON</td>\n",
       "      <td>NaN</td>\n",
       "      <td>NaN</td>\n",
       "      <td>NaN</td>\n",
       "      <td>3845147</td>\n",
       "    </tr>\n",
       "    <tr>\n",
       "      <th>2116</th>\n",
       "      <td>Pick-up Truck</td>\n",
       "      <td>Taxi</td>\n",
       "      <td>NaN</td>\n",
       "      <td>NaN</td>\n",
       "      <td>NaN</td>\n",
       "      <td>4178518</td>\n",
       "    </tr>\n",
       "    <tr>\n",
       "      <th>32649</th>\n",
       "      <td>Taxi</td>\n",
       "      <td>Sedan</td>\n",
       "      <td>NaN</td>\n",
       "      <td>NaN</td>\n",
       "      <td>NaN</td>\n",
       "      <td>3978111</td>\n",
       "    </tr>\n",
       "    <tr>\n",
       "      <th>217882</th>\n",
       "      <td>SPORT UTILITY / STATION WAGON</td>\n",
       "      <td>PASSENGER VEHICLE</td>\n",
       "      <td>NaN</td>\n",
       "      <td>NaN</td>\n",
       "      <td>NaN</td>\n",
       "      <td>3845601</td>\n",
       "    </tr>\n",
       "    <tr>\n",
       "      <th>218153</th>\n",
       "      <td>PASSENGER VEHICLE</td>\n",
       "      <td>NaN</td>\n",
       "      <td>NaN</td>\n",
       "      <td>NaN</td>\n",
       "      <td>NaN</td>\n",
       "      <td>3851614</td>\n",
       "    </tr>\n",
       "    <tr>\n",
       "      <th>127366</th>\n",
       "      <td>Sedan</td>\n",
       "      <td>NaN</td>\n",
       "      <td>NaN</td>\n",
       "      <td>NaN</td>\n",
       "      <td>NaN</td>\n",
       "      <td>4047630</td>\n",
       "    </tr>\n",
       "    <tr>\n",
       "      <th>18073</th>\n",
       "      <td>Sedan</td>\n",
       "      <td>Box Truck</td>\n",
       "      <td>NaN</td>\n",
       "      <td>NaN</td>\n",
       "      <td>NaN</td>\n",
       "      <td>4162269</td>\n",
       "    </tr>\n",
       "    <tr>\n",
       "      <th>157098</th>\n",
       "      <td>Taxi</td>\n",
       "      <td>Bike</td>\n",
       "      <td>NaN</td>\n",
       "      <td>NaN</td>\n",
       "      <td>NaN</td>\n",
       "      <td>4004297</td>\n",
       "    </tr>\n",
       "    <tr>\n",
       "      <th>212027</th>\n",
       "      <td>PASSENGER VEHICLE</td>\n",
       "      <td>BU</td>\n",
       "      <td>NaN</td>\n",
       "      <td>NaN</td>\n",
       "      <td>NaN</td>\n",
       "      <td>3843322</td>\n",
       "    </tr>\n",
       "  </tbody>\n",
       "</table>\n",
       "</div>"
      ],
      "text/plain": [
       "                  VEHICLE TYPE CODE 1            VEHICLE TYPE CODE 2  \\\n",
       "90640                           Sedan                      Box Truck   \n",
       "216725              PASSENGER VEHICLE  SPORT UTILITY / STATION WAGON   \n",
       "2116                    Pick-up Truck                           Taxi   \n",
       "32649                            Taxi                          Sedan   \n",
       "217882  SPORT UTILITY / STATION WAGON              PASSENGER VEHICLE   \n",
       "218153              PASSENGER VEHICLE                            NaN   \n",
       "127366                          Sedan                            NaN   \n",
       "18073                           Sedan                      Box Truck   \n",
       "157098                           Taxi                           Bike   \n",
       "212027              PASSENGER VEHICLE                             BU   \n",
       "\n",
       "       VEHICLE TYPE CODE 3 VEHICLE TYPE CODE 4 VEHICLE TYPE CODE 5  \\\n",
       "90640                  NaN                 NaN                 NaN   \n",
       "216725                 NaN                 NaN                 NaN   \n",
       "2116                   NaN                 NaN                 NaN   \n",
       "32649                  NaN                 NaN                 NaN   \n",
       "217882                 NaN                 NaN                 NaN   \n",
       "218153                 NaN                 NaN                 NaN   \n",
       "127366                 NaN                 NaN                 NaN   \n",
       "18073                  NaN                 NaN                 NaN   \n",
       "157098                 NaN                 NaN                 NaN   \n",
       "212027                 NaN                 NaN                 NaN   \n",
       "\n",
       "        COLLISION_ID  \n",
       "90640        4110970  \n",
       "216725       3845147  \n",
       "2116         4178518  \n",
       "32649        3978111  \n",
       "217882       3845601  \n",
       "218153       3851614  \n",
       "127366       4047630  \n",
       "18073        4162269  \n",
       "157098       4004297  \n",
       "212027       3843322  "
      ]
     },
     "execution_count": 52,
     "metadata": {},
     "output_type": "execute_result"
    }
   ],
   "source": [
    "df_vt.sample(10)"
   ]
  },
  {
   "cell_type": "code",
   "execution_count": 53,
   "metadata": {},
   "outputs": [],
   "source": [
    "df_vt_edit=df_vt.melt(id_vars=['COLLISION_ID'])"
   ]
  },
  {
   "cell_type": "code",
   "execution_count": 54,
   "metadata": {},
   "outputs": [],
   "source": [
    "df_vt_edit=df_vt_edit[~df_vt_edit['value'].isna()]"
   ]
  },
  {
   "cell_type": "code",
   "execution_count": 55,
   "metadata": {},
   "outputs": [
    {
     "data": {
      "text/html": [
       "<div>\n",
       "<style scoped>\n",
       "    .dataframe tbody tr th:only-of-type {\n",
       "        vertical-align: middle;\n",
       "    }\n",
       "\n",
       "    .dataframe tbody tr th {\n",
       "        vertical-align: top;\n",
       "    }\n",
       "\n",
       "    .dataframe thead th {\n",
       "        text-align: right;\n",
       "    }\n",
       "</style>\n",
       "<table border=\"1\" class=\"dataframe\">\n",
       "  <thead>\n",
       "    <tr style=\"text-align: right;\">\n",
       "      <th></th>\n",
       "      <th>COLLISION_ID</th>\n",
       "      <th>variable</th>\n",
       "      <th>value</th>\n",
       "    </tr>\n",
       "  </thead>\n",
       "  <tbody>\n",
       "    <tr>\n",
       "      <th>386794</th>\n",
       "      <td>4008584</td>\n",
       "      <td>VEHICLE TYPE CODE 2</td>\n",
       "      <td>Station Wagon/Sport Utility Vehicle</td>\n",
       "    </tr>\n",
       "    <tr>\n",
       "      <th>302649</th>\n",
       "      <td>4129376</td>\n",
       "      <td>VEHICLE TYPE CODE 2</td>\n",
       "      <td>Sedan</td>\n",
       "    </tr>\n",
       "    <tr>\n",
       "      <th>320027</th>\n",
       "      <td>4115510</td>\n",
       "      <td>VEHICLE TYPE CODE 2</td>\n",
       "      <td>Station Wagon/Sport Utility Vehicle</td>\n",
       "    </tr>\n",
       "    <tr>\n",
       "      <th>63394</th>\n",
       "      <td>4119596</td>\n",
       "      <td>VEHICLE TYPE CODE 1</td>\n",
       "      <td>Station Wagon/Sport Utility Vehicle</td>\n",
       "    </tr>\n",
       "    <tr>\n",
       "      <th>410359</th>\n",
       "      <td>3951332</td>\n",
       "      <td>VEHICLE TYPE CODE 2</td>\n",
       "      <td>Sedan</td>\n",
       "    </tr>\n",
       "    <tr>\n",
       "      <th>444104</th>\n",
       "      <td>3876325</td>\n",
       "      <td>VEHICLE TYPE CODE 2</td>\n",
       "      <td>SPORT UTILITY / STATION WAGON</td>\n",
       "    </tr>\n",
       "    <tr>\n",
       "      <th>454540</th>\n",
       "      <td>3855972</td>\n",
       "      <td>VEHICLE TYPE CODE 2</td>\n",
       "      <td>SPORT UTILITY / STATION WAGON</td>\n",
       "    </tr>\n",
       "    <tr>\n",
       "      <th>97619</th>\n",
       "      <td>4082429</td>\n",
       "      <td>VEHICLE TYPE CODE 1</td>\n",
       "      <td>Pick-up Truck</td>\n",
       "    </tr>\n",
       "    <tr>\n",
       "      <th>405026</th>\n",
       "      <td>3926688</td>\n",
       "      <td>VEHICLE TYPE CODE 2</td>\n",
       "      <td>Sedan</td>\n",
       "    </tr>\n",
       "    <tr>\n",
       "      <th>51098</th>\n",
       "      <td>3948910</td>\n",
       "      <td>VEHICLE TYPE CODE 1</td>\n",
       "      <td>Station Wagon/Sport Utility Vehicle</td>\n",
       "    </tr>\n",
       "  </tbody>\n",
       "</table>\n",
       "</div>"
      ],
      "text/plain": [
       "        COLLISION_ID             variable                                value\n",
       "386794       4008584  VEHICLE TYPE CODE 2  Station Wagon/Sport Utility Vehicle\n",
       "302649       4129376  VEHICLE TYPE CODE 2                                Sedan\n",
       "320027       4115510  VEHICLE TYPE CODE 2  Station Wagon/Sport Utility Vehicle\n",
       "63394        4119596  VEHICLE TYPE CODE 1  Station Wagon/Sport Utility Vehicle\n",
       "410359       3951332  VEHICLE TYPE CODE 2                                Sedan\n",
       "444104       3876325  VEHICLE TYPE CODE 2        SPORT UTILITY / STATION WAGON\n",
       "454540       3855972  VEHICLE TYPE CODE 2        SPORT UTILITY / STATION WAGON\n",
       "97619        4082429  VEHICLE TYPE CODE 1                        Pick-up Truck\n",
       "405026       3926688  VEHICLE TYPE CODE 2                                Sedan\n",
       "51098        3948910  VEHICLE TYPE CODE 1  Station Wagon/Sport Utility Vehicle"
      ]
     },
     "execution_count": 55,
     "metadata": {},
     "output_type": "execute_result"
    }
   ],
   "source": [
    "df_vt_edit.sample(10)"
   ]
  },
  {
   "cell_type": "markdown",
   "metadata": {},
   "source": [
    "_I don't like Lower and Upper types mixed, so I'll use Proper_"
   ]
  },
  {
   "cell_type": "code",
   "execution_count": 56,
   "metadata": {},
   "outputs": [],
   "source": [
    "df_vt_edit['value']=df_vt_edit['value'].str.title()"
   ]
  },
  {
   "cell_type": "code",
   "execution_count": 57,
   "metadata": {},
   "outputs": [
    {
     "data": {
      "text/plain": [
       "Sedan                                  155883\n",
       "Station Wagon/Sport Utility Vehicle    124663\n",
       "Passenger Vehicle                       40623\n",
       "Sport Utility / Station Wagon           31219\n",
       "Taxi                                    21684\n",
       "Pick-Up Truck                           14210\n",
       "Box Truck                                8786\n",
       "Bike                                     6343\n",
       "Bus                                      6030\n",
       "Van                                      2819\n",
       "Tractor Truck Diesel                     2402\n",
       "Motorcycle                               2141\n",
       "Tk                                       2124\n",
       "Bu                                       1774\n",
       "Dump                                     1145\n",
       "Bicycle                                  1018\n",
       "Convertible                              1005\n",
       "Ambulance                                 822\n",
       "Pk                                        720\n",
       "Garbage Or Refuse                         695\n",
       "Flat Bed                                  688\n",
       "Vn                                        610\n",
       "Ds                                        572\n",
       "Carry All                                 508\n",
       "Tractor Truck Gasoline                    400\n",
       "Tow Truck / Wrecker                       356\n",
       "Dp                                        269\n",
       "Moped                                     257\n",
       "Ambul                                     255\n",
       "Conv                                      239\n",
       "                                        ...  \n",
       "Ram                                         1\n",
       "C0Mme                                       1\n",
       "Nd                                          1\n",
       "Tl Tr                                       1\n",
       "Cat P                                       1\n",
       "Train                                       1\n",
       "Traff                                       1\n",
       "Mopd                                        1\n",
       "Van C                                       1\n",
       "En                                          1\n",
       "2- To                                       1\n",
       "Pch                                         1\n",
       "Barri                                       1\n",
       "Utll                                        1\n",
       "Alumi                                       1\n",
       "Mopad                                       1\n",
       "Chevr                                       1\n",
       "Other                                       1\n",
       "Camp                                        1\n",
       "Sea                                         1\n",
       "Marke                                       1\n",
       "Vespa                                       1\n",
       "Man B                                       1\n",
       "G Spc                                       1\n",
       "E350                                        1\n",
       "(Ceme                                       1\n",
       "Skid                                        1\n",
       "Gn                                          1\n",
       "Chart                                       1\n",
       "R/V C                                       1\n",
       "Name: value, Length: 461, dtype: int64"
      ]
     },
     "execution_count": 57,
     "metadata": {},
     "output_type": "execute_result"
    }
   ],
   "source": [
    "df_vt_edit['value'].value_counts().sort_values(ascending=False)"
   ]
  },
  {
   "cell_type": "markdown",
   "metadata": {},
   "source": [
    "_I would prefer to normalize a few names:_"
   ]
  },
  {
   "cell_type": "code",
   "execution_count": 58,
   "metadata": {},
   "outputs": [],
   "source": [
    "df_vt_edit.loc[df_vt_edit['value']=='Sport Utility / Station Wagon','value']='Station Wagon/Sport Utility Vehicle'\n",
    "df_vt_edit.loc[df_vt_edit['value']=='Bicycle','value']='Bike'\n",
    "df_vt_edit.loc[df_vt_edit['value']=='Motorbike','value']='Motorcycle'"
   ]
  },
  {
   "cell_type": "markdown",
   "metadata": {},
   "source": [
    "_I'm tempted to put \"Passenger Vehicle\" in the same category that \"Taxi\", but I think that the information seems ambiguous: left untouched_"
   ]
  },
  {
   "cell_type": "code",
   "execution_count": 59,
   "metadata": {},
   "outputs": [
    {
     "data": {
      "text/plain": [
       "value\n",
       "Station Wagon/Sport Utility Vehicle    124205\n",
       "Sedan                                  119714\n",
       "Passenger Vehicle                       31228\n",
       "Taxi                                    19082\n",
       "Pick-Up Truck                           13638\n",
       "Box Truck                                8509\n",
       "Bike                                     7270\n",
       "Bus                                      5870\n",
       "Van                                      2730\n",
       "Tractor Truck Diesel                     2317\n",
       "Motorcycle                               2229\n",
       "Tk                                       2051\n",
       "Bu                                       1720\n",
       "Dump                                     1140\n",
       "Convertible                               987\n",
       "Ambulance                                 798\n",
       "Pk                                        712\n",
       "Garbage Or Refuse                         693\n",
       "Flat Bed                                  684\n",
       "Vn                                        594\n",
       "Name: COLLISION_ID, dtype: int64"
      ]
     },
     "execution_count": 59,
     "metadata": {},
     "output_type": "execute_result"
    }
   ],
   "source": [
    "df_vt_edit.groupby(['value'])['COLLISION_ID'].nunique().sort_values(ascending=False).nlargest(20)"
   ]
  },
  {
   "cell_type": "markdown",
   "metadata": {},
   "source": [
    "_The most involved vehicle types are Station Wagons ans Sedans_ "
   ]
  },
  {
   "cell_type": "markdown",
   "metadata": {},
   "source": [
    "### Exercise 11 (15 min):\n",
    "\n",
    "In a 2018 [interview](https://www.nytimes.com/2019/01/01/nyregion/traffic-deaths-decrease-nyc.html) with The New York Times, New York's mayor de Blasio stated that *'Vision Zero is clearly working'*. That year, the number of deaths in traffic accidents in NYC dropped to a historical 202. Yet, as reported by [am New York Metro](https://www.amny.com/news/vision-zero-de-blasio-1-30707464/), the number of fatalities has increased by 30% in the first quarter of 2019 compared to the previous year and the number of pedestrians and cyclist injured has not seen any improvement.\n",
    "\n",
    "How would you use the provided data to understand what went wrong in the first quarter of 2019?\n",
    "\n",
    "> - [ ] Consider the accidents of the first quarter of 2019. Then, check for the most common causes of accidents where pedestrians and cyclists were involved. Give a recommendation based solely on this information. \n",
    "\n",
    "> - [ ] Create a pair of heatmaps of the accidents involving injured/killed pedestrians and cyclists in the first quarter of 2018 and 2019. Compare these two to see if there is any change in the concentration of accidents. In critical areas, study the type of factors involved in the accidents. Give a recommendation to visit these areas to study the problem further.    \n",
    "\n",
    "> - [ ] The provided data is insufficient to improve our understanding of the situation.\n",
    "\n",
    "> - [X] None of the above. I would do the following: *First of all, or at least before heatmaps and causes, I would start by checking the claim of +30% mortality : I don't get that number neither by mortality rate nor by number of accidents*."
   ]
  },
  {
   "cell_type": "markdown",
   "metadata": {},
   "source": [
    "**Answer**"
   ]
  },
  {
   "cell_type": "code",
   "execution_count": 60,
   "metadata": {},
   "outputs": [],
   "source": [
    "df_18q1=df[(df.DATE_EDIT>='2018-01-01')&(df.DATE_EDIT<'2018-04-01')]"
   ]
  },
  {
   "cell_type": "code",
   "execution_count": 61,
   "metadata": {},
   "outputs": [],
   "source": [
    "df_19q1=df[(df.DATE_EDIT>='2019-01-01')&(df.DATE_EDIT<'2019-04-01')]"
   ]
  },
  {
   "cell_type": "code",
   "execution_count": 62,
   "metadata": {},
   "outputs": [],
   "source": [
    "lista_killed=[x for x in df.columns if \"KILLED\" in x]"
   ]
  },
  {
   "cell_type": "code",
   "execution_count": 63,
   "metadata": {},
   "outputs": [
    {
     "data": {
      "text/plain": [
       "['NUMBER OF PEDESTRIANS KILLED',\n",
       " 'NUMBER OF CYCLIST KILLED',\n",
       " 'NUMBER OF MOTORIST KILLED']"
      ]
     },
     "execution_count": 63,
     "metadata": {},
     "output_type": "execute_result"
    }
   ],
   "source": [
    "lista_killed"
   ]
  },
  {
   "cell_type": "code",
   "execution_count": 64,
   "metadata": {},
   "outputs": [],
   "source": [
    "df_18q1=pd.concat([df_18q1[lista_killed],df_18q1['COLLISION_ID']],axis=1)\n",
    "df_19q1=pd.concat([df_19q1[lista_killed],df_19q1['COLLISION_ID']],axis=1)"
   ]
  },
  {
   "cell_type": "markdown",
   "metadata": {},
   "source": [
    "Change between # accidents between 1Q 2019 and 1Q 2018:"
   ]
  },
  {
   "cell_type": "code",
   "execution_count": 65,
   "metadata": {},
   "outputs": [
    {
     "data": {
      "text/plain": [
       "-0.05359462033536322"
      ]
     },
     "execution_count": 65,
     "metadata": {},
     "output_type": "execute_result"
    }
   ],
   "source": [
    "df_19q1['COLLISION_ID'].nunique()/df_18q1['COLLISION_ID'].nunique()-1"
   ]
  },
  {
   "cell_type": "markdown",
   "metadata": {},
   "source": [
    "To estimate Change between total deaths/total accidents between 1Q 2019 and 1Q 2018:"
   ]
  },
  {
   "cell_type": "code",
   "execution_count": 66,
   "metadata": {},
   "outputs": [],
   "source": [
    "df_18q1['TK']=df_18q1[lista_killed].sum(axis=1)\n",
    "df_19q1['TK']=df_19q1[lista_killed].sum(axis=1)"
   ]
  },
  {
   "cell_type": "code",
   "execution_count": 67,
   "metadata": {},
   "outputs": [],
   "source": [
    "r19q1=df_19q1['TK'].sum()/df_19q1['COLLISION_ID'].nunique()"
   ]
  },
  {
   "cell_type": "code",
   "execution_count": 68,
   "metadata": {},
   "outputs": [],
   "source": [
    "r18q1=df_18q1['TK'].sum()/df_18q1['COLLISION_ID'].nunique()"
   ]
  },
  {
   "cell_type": "code",
   "execution_count": 69,
   "metadata": {},
   "outputs": [
    {
     "name": "stdout",
     "output_type": "stream",
     "text": [
      "Mortality rate rise: 23.9%\n"
     ]
    }
   ],
   "source": [
    "print(\"Mortality rate rise: {:.1f}%\".format(100*(r19q1/r18q1-1))) "
   ]
  },
  {
   "cell_type": "code",
   "execution_count": 70,
   "metadata": {},
   "outputs": [
    {
     "name": "stdout",
     "output_type": "stream",
     "text": [
      "Percentage of total deaths rise: 17.2%\n"
     ]
    }
   ],
   "source": [
    "print(\"Percentage of total deaths rise: {:.1f}%\".format(100*(df_19q1['TK'].sum()/df_18q1['TK'].sum()-1)))"
   ]
  },
  {
   "cell_type": "markdown",
   "metadata": {},
   "source": [
    "### Exercise 12 (45 min):\n",
    "\n",
    "Calculate the number of deaths caused by each type of vehicle. Plot a bar chart for the top 5 vehicles. Which vehicles are most often involved in deaths, and by how much more than the others?\n",
    "\n",
    "**For example,** if two people died at an accident where 5 vehicles were involved: 4 are PASSENGER VEHICLE and 1 is a SPORT UTILITY/STATION WAGON. Then, we would add two deaths to each PASSENGER VEHICLE and SPORT UTILITY/STATION WAGON types.\n",
    "\n",
    "**Hint:** You may want to create a new column with the total number of kills in the accident. For that you may find the function ```.to_numpy()``` useful. Then, proceed as the previous excercises to avoid double-counting the type of vehicles. "
   ]
  },
  {
   "cell_type": "markdown",
   "metadata": {},
   "source": [
    "**Answer**"
   ]
  },
  {
   "cell_type": "code",
   "execution_count": 71,
   "metadata": {},
   "outputs": [],
   "source": [
    "lista_killed=[x for x in df.columns if \"KILLED\" in x]"
   ]
  },
  {
   "cell_type": "code",
   "execution_count": 72,
   "metadata": {},
   "outputs": [],
   "source": [
    "df_dav=pd.concat([df[lista_vt],df[lista_killed],df['COLLISION_ID']],axis=1)"
   ]
  },
  {
   "cell_type": "code",
   "execution_count": 73,
   "metadata": {},
   "outputs": [
    {
     "data": {
      "text/html": [
       "<div>\n",
       "<style scoped>\n",
       "    .dataframe tbody tr th:only-of-type {\n",
       "        vertical-align: middle;\n",
       "    }\n",
       "\n",
       "    .dataframe tbody tr th {\n",
       "        vertical-align: top;\n",
       "    }\n",
       "\n",
       "    .dataframe thead th {\n",
       "        text-align: right;\n",
       "    }\n",
       "</style>\n",
       "<table border=\"1\" class=\"dataframe\">\n",
       "  <thead>\n",
       "    <tr style=\"text-align: right;\">\n",
       "      <th></th>\n",
       "      <th>VEHICLE TYPE CODE 1</th>\n",
       "      <th>VEHICLE TYPE CODE 2</th>\n",
       "      <th>VEHICLE TYPE CODE 3</th>\n",
       "      <th>VEHICLE TYPE CODE 4</th>\n",
       "      <th>VEHICLE TYPE CODE 5</th>\n",
       "      <th>NUMBER OF PEDESTRIANS KILLED</th>\n",
       "      <th>NUMBER OF CYCLIST KILLED</th>\n",
       "      <th>NUMBER OF MOTORIST KILLED</th>\n",
       "      <th>COLLISION_ID</th>\n",
       "    </tr>\n",
       "  </thead>\n",
       "  <tbody>\n",
       "    <tr>\n",
       "      <th>226487</th>\n",
       "      <td>PASSENGER VEHICLE</td>\n",
       "      <td>PASSENGER VEHICLE</td>\n",
       "      <td>NaN</td>\n",
       "      <td>NaN</td>\n",
       "      <td>NaN</td>\n",
       "      <td>0</td>\n",
       "      <td>0</td>\n",
       "      <td>0</td>\n",
       "      <td>3837776</td>\n",
       "    </tr>\n",
       "    <tr>\n",
       "      <th>228867</th>\n",
       "      <td>SPORT UTILITY / STATION WAGON</td>\n",
       "      <td>NaN</td>\n",
       "      <td>NaN</td>\n",
       "      <td>NaN</td>\n",
       "      <td>NaN</td>\n",
       "      <td>0</td>\n",
       "      <td>0</td>\n",
       "      <td>0</td>\n",
       "      <td>3827548</td>\n",
       "    </tr>\n",
       "    <tr>\n",
       "      <th>64835</th>\n",
       "      <td>Pick-up Truck</td>\n",
       "      <td>Sedan</td>\n",
       "      <td>NaN</td>\n",
       "      <td>NaN</td>\n",
       "      <td>NaN</td>\n",
       "      <td>0</td>\n",
       "      <td>0</td>\n",
       "      <td>0</td>\n",
       "      <td>4120999</td>\n",
       "    </tr>\n",
       "    <tr>\n",
       "      <th>225167</th>\n",
       "      <td>BU</td>\n",
       "      <td>PASSENGER VEHICLE</td>\n",
       "      <td>NaN</td>\n",
       "      <td>NaN</td>\n",
       "      <td>NaN</td>\n",
       "      <td>0</td>\n",
       "      <td>0</td>\n",
       "      <td>0</td>\n",
       "      <td>3840100</td>\n",
       "    </tr>\n",
       "    <tr>\n",
       "      <th>58712</th>\n",
       "      <td>Sedan</td>\n",
       "      <td>NaN</td>\n",
       "      <td>NaN</td>\n",
       "      <td>NaN</td>\n",
       "      <td>NaN</td>\n",
       "      <td>0</td>\n",
       "      <td>0</td>\n",
       "      <td>0</td>\n",
       "      <td>3957208</td>\n",
       "    </tr>\n",
       "    <tr>\n",
       "      <th>50479</th>\n",
       "      <td>Pick-up Truck</td>\n",
       "      <td>Sedan</td>\n",
       "      <td>NaN</td>\n",
       "      <td>NaN</td>\n",
       "      <td>NaN</td>\n",
       "      <td>0</td>\n",
       "      <td>0</td>\n",
       "      <td>0</td>\n",
       "      <td>3960422</td>\n",
       "    </tr>\n",
       "    <tr>\n",
       "      <th>193016</th>\n",
       "      <td>Station Wagon/Sport Utility Vehicle</td>\n",
       "      <td>Sedan</td>\n",
       "      <td>NaN</td>\n",
       "      <td>NaN</td>\n",
       "      <td>NaN</td>\n",
       "      <td>0</td>\n",
       "      <td>0</td>\n",
       "      <td>0</td>\n",
       "      <td>3906450</td>\n",
       "    </tr>\n",
       "    <tr>\n",
       "      <th>222196</th>\n",
       "      <td>SPORT UTILITY / STATION WAGON</td>\n",
       "      <td>PASSENGER VEHICLE</td>\n",
       "      <td>NaN</td>\n",
       "      <td>NaN</td>\n",
       "      <td>NaN</td>\n",
       "      <td>0</td>\n",
       "      <td>0</td>\n",
       "      <td>0</td>\n",
       "      <td>3857671</td>\n",
       "    </tr>\n",
       "    <tr>\n",
       "      <th>213943</th>\n",
       "      <td>SPORT UTILITY / STATION WAGON</td>\n",
       "      <td>BICYCLE</td>\n",
       "      <td>PASSENGER VEHICLE</td>\n",
       "      <td>NaN</td>\n",
       "      <td>NaN</td>\n",
       "      <td>0</td>\n",
       "      <td>0</td>\n",
       "      <td>0</td>\n",
       "      <td>3863467</td>\n",
       "    </tr>\n",
       "    <tr>\n",
       "      <th>189674</th>\n",
       "      <td>Station Wagon/Sport Utility Vehicle</td>\n",
       "      <td>Station Wagon/Sport Utility Vehicle</td>\n",
       "      <td>Station Wagon/Sport Utility Vehicle</td>\n",
       "      <td>NaN</td>\n",
       "      <td>NaN</td>\n",
       "      <td>0</td>\n",
       "      <td>0</td>\n",
       "      <td>0</td>\n",
       "      <td>3911459</td>\n",
       "    </tr>\n",
       "  </tbody>\n",
       "</table>\n",
       "</div>"
      ],
      "text/plain": [
       "                        VEHICLE TYPE CODE 1  \\\n",
       "226487                    PASSENGER VEHICLE   \n",
       "228867        SPORT UTILITY / STATION WAGON   \n",
       "64835                         Pick-up Truck   \n",
       "225167                                   BU   \n",
       "58712                                 Sedan   \n",
       "50479                         Pick-up Truck   \n",
       "193016  Station Wagon/Sport Utility Vehicle   \n",
       "222196        SPORT UTILITY / STATION WAGON   \n",
       "213943        SPORT UTILITY / STATION WAGON   \n",
       "189674  Station Wagon/Sport Utility Vehicle   \n",
       "\n",
       "                        VEHICLE TYPE CODE 2  \\\n",
       "226487                    PASSENGER VEHICLE   \n",
       "228867                                  NaN   \n",
       "64835                                 Sedan   \n",
       "225167                    PASSENGER VEHICLE   \n",
       "58712                                   NaN   \n",
       "50479                                 Sedan   \n",
       "193016                                Sedan   \n",
       "222196                    PASSENGER VEHICLE   \n",
       "213943                              BICYCLE   \n",
       "189674  Station Wagon/Sport Utility Vehicle   \n",
       "\n",
       "                        VEHICLE TYPE CODE 3 VEHICLE TYPE CODE 4  \\\n",
       "226487                                  NaN                 NaN   \n",
       "228867                                  NaN                 NaN   \n",
       "64835                                   NaN                 NaN   \n",
       "225167                                  NaN                 NaN   \n",
       "58712                                   NaN                 NaN   \n",
       "50479                                   NaN                 NaN   \n",
       "193016                                  NaN                 NaN   \n",
       "222196                                  NaN                 NaN   \n",
       "213943                    PASSENGER VEHICLE                 NaN   \n",
       "189674  Station Wagon/Sport Utility Vehicle                 NaN   \n",
       "\n",
       "       VEHICLE TYPE CODE 5  NUMBER OF PEDESTRIANS KILLED  \\\n",
       "226487                 NaN                             0   \n",
       "228867                 NaN                             0   \n",
       "64835                  NaN                             0   \n",
       "225167                 NaN                             0   \n",
       "58712                  NaN                             0   \n",
       "50479                  NaN                             0   \n",
       "193016                 NaN                             0   \n",
       "222196                 NaN                             0   \n",
       "213943                 NaN                             0   \n",
       "189674                 NaN                             0   \n",
       "\n",
       "        NUMBER OF CYCLIST KILLED  NUMBER OF MOTORIST KILLED  COLLISION_ID  \n",
       "226487                         0                          0       3837776  \n",
       "228867                         0                          0       3827548  \n",
       "64835                          0                          0       4120999  \n",
       "225167                         0                          0       3840100  \n",
       "58712                          0                          0       3957208  \n",
       "50479                          0                          0       3960422  \n",
       "193016                         0                          0       3906450  \n",
       "222196                         0                          0       3857671  \n",
       "213943                         0                          0       3863467  \n",
       "189674                         0                          0       3911459  "
      ]
     },
     "execution_count": 73,
     "metadata": {},
     "output_type": "execute_result"
    }
   ],
   "source": [
    "df_dav.sample(10)"
   ]
  },
  {
   "cell_type": "code",
   "execution_count": 74,
   "metadata": {},
   "outputs": [],
   "source": [
    "df_dav['TK']=df_dav[lista_killed].sum(axis=1)\n",
    "df_dav=df_dav[df_dav.TK!=0]"
   ]
  },
  {
   "cell_type": "code",
   "execution_count": 75,
   "metadata": {},
   "outputs": [
    {
     "data": {
      "text/html": [
       "<div>\n",
       "<style scoped>\n",
       "    .dataframe tbody tr th:only-of-type {\n",
       "        vertical-align: middle;\n",
       "    }\n",
       "\n",
       "    .dataframe tbody tr th {\n",
       "        vertical-align: top;\n",
       "    }\n",
       "\n",
       "    .dataframe thead th {\n",
       "        text-align: right;\n",
       "    }\n",
       "</style>\n",
       "<table border=\"1\" class=\"dataframe\">\n",
       "  <thead>\n",
       "    <tr style=\"text-align: right;\">\n",
       "      <th></th>\n",
       "      <th>VEHICLE TYPE CODE 1</th>\n",
       "      <th>VEHICLE TYPE CODE 2</th>\n",
       "      <th>VEHICLE TYPE CODE 3</th>\n",
       "      <th>VEHICLE TYPE CODE 4</th>\n",
       "      <th>VEHICLE TYPE CODE 5</th>\n",
       "      <th>NUMBER OF PEDESTRIANS KILLED</th>\n",
       "      <th>NUMBER OF CYCLIST KILLED</th>\n",
       "      <th>NUMBER OF MOTORIST KILLED</th>\n",
       "      <th>COLLISION_ID</th>\n",
       "      <th>TK</th>\n",
       "    </tr>\n",
       "  </thead>\n",
       "  <tbody>\n",
       "    <tr>\n",
       "      <th>116025</th>\n",
       "      <td>Bus</td>\n",
       "      <td>NaN</td>\n",
       "      <td>NaN</td>\n",
       "      <td>NaN</td>\n",
       "      <td>NaN</td>\n",
       "      <td>1</td>\n",
       "      <td>0</td>\n",
       "      <td>0</td>\n",
       "      <td>4049397</td>\n",
       "      <td>1</td>\n",
       "    </tr>\n",
       "    <tr>\n",
       "      <th>103326</th>\n",
       "      <td>Station Wagon/Sport Utility Vehicle</td>\n",
       "      <td>NaN</td>\n",
       "      <td>NaN</td>\n",
       "      <td>NaN</td>\n",
       "      <td>NaN</td>\n",
       "      <td>1</td>\n",
       "      <td>0</td>\n",
       "      <td>0</td>\n",
       "      <td>4083761</td>\n",
       "      <td>1</td>\n",
       "    </tr>\n",
       "    <tr>\n",
       "      <th>22453</th>\n",
       "      <td>Station Wagon/Sport Utility Vehicle</td>\n",
       "      <td>NaN</td>\n",
       "      <td>NaN</td>\n",
       "      <td>NaN</td>\n",
       "      <td>NaN</td>\n",
       "      <td>1</td>\n",
       "      <td>0</td>\n",
       "      <td>0</td>\n",
       "      <td>4153288</td>\n",
       "      <td>1</td>\n",
       "    </tr>\n",
       "    <tr>\n",
       "      <th>89466</th>\n",
       "      <td>Sedan</td>\n",
       "      <td>Bike</td>\n",
       "      <td>NaN</td>\n",
       "      <td>NaN</td>\n",
       "      <td>NaN</td>\n",
       "      <td>0</td>\n",
       "      <td>1</td>\n",
       "      <td>0</td>\n",
       "      <td>4096754</td>\n",
       "      <td>1</td>\n",
       "    </tr>\n",
       "    <tr>\n",
       "      <th>195710</th>\n",
       "      <td>PASSENGER VEHICLE</td>\n",
       "      <td>NaN</td>\n",
       "      <td>NaN</td>\n",
       "      <td>NaN</td>\n",
       "      <td>NaN</td>\n",
       "      <td>0</td>\n",
       "      <td>0</td>\n",
       "      <td>1</td>\n",
       "      <td>3886943</td>\n",
       "      <td>1</td>\n",
       "    </tr>\n",
       "    <tr>\n",
       "      <th>170544</th>\n",
       "      <td>Sedan</td>\n",
       "      <td>NaN</td>\n",
       "      <td>NaN</td>\n",
       "      <td>NaN</td>\n",
       "      <td>NaN</td>\n",
       "      <td>1</td>\n",
       "      <td>0</td>\n",
       "      <td>0</td>\n",
       "      <td>3929463</td>\n",
       "      <td>1</td>\n",
       "    </tr>\n",
       "    <tr>\n",
       "      <th>41390</th>\n",
       "      <td>NaN</td>\n",
       "      <td>NaN</td>\n",
       "      <td>NaN</td>\n",
       "      <td>NaN</td>\n",
       "      <td>NaN</td>\n",
       "      <td>1</td>\n",
       "      <td>0</td>\n",
       "      <td>0</td>\n",
       "      <td>3987339</td>\n",
       "      <td>1</td>\n",
       "    </tr>\n",
       "    <tr>\n",
       "      <th>97826</th>\n",
       "      <td>Sedan</td>\n",
       "      <td>NaN</td>\n",
       "      <td>NaN</td>\n",
       "      <td>NaN</td>\n",
       "      <td>NaN</td>\n",
       "      <td>0</td>\n",
       "      <td>0</td>\n",
       "      <td>1</td>\n",
       "      <td>4082805</td>\n",
       "      <td>1</td>\n",
       "    </tr>\n",
       "    <tr>\n",
       "      <th>133011</th>\n",
       "      <td>Sedan</td>\n",
       "      <td>NaN</td>\n",
       "      <td>NaN</td>\n",
       "      <td>NaN</td>\n",
       "      <td>NaN</td>\n",
       "      <td>1</td>\n",
       "      <td>0</td>\n",
       "      <td>0</td>\n",
       "      <td>4019525</td>\n",
       "      <td>1</td>\n",
       "    </tr>\n",
       "    <tr>\n",
       "      <th>220436</th>\n",
       "      <td>SPORT UTILITY / STATION WAGON</td>\n",
       "      <td>PASSENGER VEHICLE</td>\n",
       "      <td>SPORT UTILITY / STATION WAGON</td>\n",
       "      <td>NaN</td>\n",
       "      <td>NaN</td>\n",
       "      <td>1</td>\n",
       "      <td>0</td>\n",
       "      <td>0</td>\n",
       "      <td>3846034</td>\n",
       "      <td>1</td>\n",
       "    </tr>\n",
       "  </tbody>\n",
       "</table>\n",
       "</div>"
      ],
      "text/plain": [
       "                        VEHICLE TYPE CODE 1 VEHICLE TYPE CODE 2  \\\n",
       "116025                                  Bus                 NaN   \n",
       "103326  Station Wagon/Sport Utility Vehicle                 NaN   \n",
       "22453   Station Wagon/Sport Utility Vehicle                 NaN   \n",
       "89466                                 Sedan                Bike   \n",
       "195710                    PASSENGER VEHICLE                 NaN   \n",
       "170544                                Sedan                 NaN   \n",
       "41390                                   NaN                 NaN   \n",
       "97826                                 Sedan                 NaN   \n",
       "133011                                Sedan                 NaN   \n",
       "220436        SPORT UTILITY / STATION WAGON   PASSENGER VEHICLE   \n",
       "\n",
       "                  VEHICLE TYPE CODE 3 VEHICLE TYPE CODE 4 VEHICLE TYPE CODE 5  \\\n",
       "116025                            NaN                 NaN                 NaN   \n",
       "103326                            NaN                 NaN                 NaN   \n",
       "22453                             NaN                 NaN                 NaN   \n",
       "89466                             NaN                 NaN                 NaN   \n",
       "195710                            NaN                 NaN                 NaN   \n",
       "170544                            NaN                 NaN                 NaN   \n",
       "41390                             NaN                 NaN                 NaN   \n",
       "97826                             NaN                 NaN                 NaN   \n",
       "133011                            NaN                 NaN                 NaN   \n",
       "220436  SPORT UTILITY / STATION WAGON                 NaN                 NaN   \n",
       "\n",
       "        NUMBER OF PEDESTRIANS KILLED  NUMBER OF CYCLIST KILLED  \\\n",
       "116025                             1                         0   \n",
       "103326                             1                         0   \n",
       "22453                              1                         0   \n",
       "89466                              0                         1   \n",
       "195710                             0                         0   \n",
       "170544                             1                         0   \n",
       "41390                              1                         0   \n",
       "97826                              0                         0   \n",
       "133011                             1                         0   \n",
       "220436                             1                         0   \n",
       "\n",
       "        NUMBER OF MOTORIST KILLED  COLLISION_ID  TK  \n",
       "116025                          0       4049397   1  \n",
       "103326                          0       4083761   1  \n",
       "22453                           0       4153288   1  \n",
       "89466                           0       4096754   1  \n",
       "195710                          1       3886943   1  \n",
       "170544                          0       3929463   1  \n",
       "41390                           0       3987339   1  \n",
       "97826                           1       4082805   1  \n",
       "133011                          0       4019525   1  \n",
       "220436                          0       3846034   1  "
      ]
     },
     "execution_count": 75,
     "metadata": {},
     "output_type": "execute_result"
    }
   ],
   "source": [
    "df_dav.sample(10)"
   ]
  },
  {
   "cell_type": "code",
   "execution_count": 76,
   "metadata": {},
   "outputs": [],
   "source": [
    "df_dav.drop(columns=lista_killed,inplace=True)"
   ]
  },
  {
   "cell_type": "code",
   "execution_count": 77,
   "metadata": {},
   "outputs": [
    {
     "data": {
      "text/html": [
       "<div>\n",
       "<style scoped>\n",
       "    .dataframe tbody tr th:only-of-type {\n",
       "        vertical-align: middle;\n",
       "    }\n",
       "\n",
       "    .dataframe tbody tr th {\n",
       "        vertical-align: top;\n",
       "    }\n",
       "\n",
       "    .dataframe thead th {\n",
       "        text-align: right;\n",
       "    }\n",
       "</style>\n",
       "<table border=\"1\" class=\"dataframe\">\n",
       "  <thead>\n",
       "    <tr style=\"text-align: right;\">\n",
       "      <th></th>\n",
       "      <th>VEHICLE TYPE CODE 1</th>\n",
       "      <th>VEHICLE TYPE CODE 2</th>\n",
       "      <th>VEHICLE TYPE CODE 3</th>\n",
       "      <th>VEHICLE TYPE CODE 4</th>\n",
       "      <th>VEHICLE TYPE CODE 5</th>\n",
       "      <th>COLLISION_ID</th>\n",
       "      <th>TK</th>\n",
       "    </tr>\n",
       "  </thead>\n",
       "  <tbody>\n",
       "    <tr>\n",
       "      <th>143672</th>\n",
       "      <td>Station Wagon/Sport Utility Vehicle</td>\n",
       "      <td>NaN</td>\n",
       "      <td>NaN</td>\n",
       "      <td>NaN</td>\n",
       "      <td>NaN</td>\n",
       "      <td>4034662</td>\n",
       "      <td>1</td>\n",
       "    </tr>\n",
       "    <tr>\n",
       "      <th>237780</th>\n",
       "      <td>SPORT UTILITY / STATION WAGON</td>\n",
       "      <td>NaN</td>\n",
       "      <td>NaN</td>\n",
       "      <td>NaN</td>\n",
       "      <td>NaN</td>\n",
       "      <td>3832804</td>\n",
       "      <td>1</td>\n",
       "    </tr>\n",
       "    <tr>\n",
       "      <th>144915</th>\n",
       "      <td>Station Wagon/Sport Utility Vehicle</td>\n",
       "      <td>NaN</td>\n",
       "      <td>NaN</td>\n",
       "      <td>NaN</td>\n",
       "      <td>NaN</td>\n",
       "      <td>4016011</td>\n",
       "      <td>1</td>\n",
       "    </tr>\n",
       "    <tr>\n",
       "      <th>173543</th>\n",
       "      <td>SPORT UTILITY / STATION WAGON</td>\n",
       "      <td>PASSENGER VEHICLE</td>\n",
       "      <td>NaN</td>\n",
       "      <td>NaN</td>\n",
       "      <td>NaN</td>\n",
       "      <td>3919314</td>\n",
       "      <td>1</td>\n",
       "    </tr>\n",
       "    <tr>\n",
       "      <th>114490</th>\n",
       "      <td>Dump</td>\n",
       "      <td>NaN</td>\n",
       "      <td>NaN</td>\n",
       "      <td>NaN</td>\n",
       "      <td>NaN</td>\n",
       "      <td>4056490</td>\n",
       "      <td>1</td>\n",
       "    </tr>\n",
       "    <tr>\n",
       "      <th>18599</th>\n",
       "      <td>Station Wagon/Sport Utility Vehicle</td>\n",
       "      <td>NaN</td>\n",
       "      <td>NaN</td>\n",
       "      <td>NaN</td>\n",
       "      <td>NaN</td>\n",
       "      <td>4148772</td>\n",
       "      <td>1</td>\n",
       "    </tr>\n",
       "    <tr>\n",
       "      <th>183187</th>\n",
       "      <td>Sedan</td>\n",
       "      <td>Station Wagon/Sport Utility Vehicle</td>\n",
       "      <td>NaN</td>\n",
       "      <td>NaN</td>\n",
       "      <td>NaN</td>\n",
       "      <td>3912745</td>\n",
       "      <td>1</td>\n",
       "    </tr>\n",
       "    <tr>\n",
       "      <th>134002</th>\n",
       "      <td>Sedan</td>\n",
       "      <td>NaN</td>\n",
       "      <td>NaN</td>\n",
       "      <td>NaN</td>\n",
       "      <td>NaN</td>\n",
       "      <td>4036267</td>\n",
       "      <td>1</td>\n",
       "    </tr>\n",
       "    <tr>\n",
       "      <th>172118</th>\n",
       "      <td>Sedan</td>\n",
       "      <td>NaN</td>\n",
       "      <td>NaN</td>\n",
       "      <td>NaN</td>\n",
       "      <td>NaN</td>\n",
       "      <td>3932622</td>\n",
       "      <td>1</td>\n",
       "    </tr>\n",
       "    <tr>\n",
       "      <th>133584</th>\n",
       "      <td>Station Wagon/Sport Utility Vehicle</td>\n",
       "      <td>Station Wagon/Sport Utility Vehicle</td>\n",
       "      <td>NaN</td>\n",
       "      <td>NaN</td>\n",
       "      <td>NaN</td>\n",
       "      <td>4016675</td>\n",
       "      <td>1</td>\n",
       "    </tr>\n",
       "  </tbody>\n",
       "</table>\n",
       "</div>"
      ],
      "text/plain": [
       "                        VEHICLE TYPE CODE 1  \\\n",
       "143672  Station Wagon/Sport Utility Vehicle   \n",
       "237780        SPORT UTILITY / STATION WAGON   \n",
       "144915  Station Wagon/Sport Utility Vehicle   \n",
       "173543        SPORT UTILITY / STATION WAGON   \n",
       "114490                                 Dump   \n",
       "18599   Station Wagon/Sport Utility Vehicle   \n",
       "183187                                Sedan   \n",
       "134002                                Sedan   \n",
       "172118                                Sedan   \n",
       "133584  Station Wagon/Sport Utility Vehicle   \n",
       "\n",
       "                        VEHICLE TYPE CODE 2 VEHICLE TYPE CODE 3  \\\n",
       "143672                                  NaN                 NaN   \n",
       "237780                                  NaN                 NaN   \n",
       "144915                                  NaN                 NaN   \n",
       "173543                    PASSENGER VEHICLE                 NaN   \n",
       "114490                                  NaN                 NaN   \n",
       "18599                                   NaN                 NaN   \n",
       "183187  Station Wagon/Sport Utility Vehicle                 NaN   \n",
       "134002                                  NaN                 NaN   \n",
       "172118                                  NaN                 NaN   \n",
       "133584  Station Wagon/Sport Utility Vehicle                 NaN   \n",
       "\n",
       "       VEHICLE TYPE CODE 4 VEHICLE TYPE CODE 5  COLLISION_ID  TK  \n",
       "143672                 NaN                 NaN       4034662   1  \n",
       "237780                 NaN                 NaN       3832804   1  \n",
       "144915                 NaN                 NaN       4016011   1  \n",
       "173543                 NaN                 NaN       3919314   1  \n",
       "114490                 NaN                 NaN       4056490   1  \n",
       "18599                  NaN                 NaN       4148772   1  \n",
       "183187                 NaN                 NaN       3912745   1  \n",
       "134002                 NaN                 NaN       4036267   1  \n",
       "172118                 NaN                 NaN       3932622   1  \n",
       "133584                 NaN                 NaN       4016675   1  "
      ]
     },
     "execution_count": 77,
     "metadata": {},
     "output_type": "execute_result"
    }
   ],
   "source": [
    "df_dav.sample(10)"
   ]
  },
  {
   "cell_type": "code",
   "execution_count": 78,
   "metadata": {},
   "outputs": [],
   "source": [
    "df_dav_edit=df_dav.melt(id_vars=['COLLISION_ID','TK'])"
   ]
  },
  {
   "cell_type": "code",
   "execution_count": 79,
   "metadata": {},
   "outputs": [
    {
     "data": {
      "text/html": [
       "<div>\n",
       "<style scoped>\n",
       "    .dataframe tbody tr th:only-of-type {\n",
       "        vertical-align: middle;\n",
       "    }\n",
       "\n",
       "    .dataframe tbody tr th {\n",
       "        vertical-align: top;\n",
       "    }\n",
       "\n",
       "    .dataframe thead th {\n",
       "        text-align: right;\n",
       "    }\n",
       "</style>\n",
       "<table border=\"1\" class=\"dataframe\">\n",
       "  <thead>\n",
       "    <tr style=\"text-align: right;\">\n",
       "      <th></th>\n",
       "      <th>COLLISION_ID</th>\n",
       "      <th>TK</th>\n",
       "      <th>variable</th>\n",
       "      <th>value</th>\n",
       "    </tr>\n",
       "  </thead>\n",
       "  <tbody>\n",
       "    <tr>\n",
       "      <th>328</th>\n",
       "      <td>4060483</td>\n",
       "      <td>1</td>\n",
       "      <td>VEHICLE TYPE CODE 2</td>\n",
       "      <td>Station Wagon/Sport Utility Vehicle</td>\n",
       "    </tr>\n",
       "    <tr>\n",
       "      <th>1074</th>\n",
       "      <td>3845944</td>\n",
       "      <td>1</td>\n",
       "      <td>VEHICLE TYPE CODE 5</td>\n",
       "      <td>NaN</td>\n",
       "    </tr>\n",
       "    <tr>\n",
       "      <th>131</th>\n",
       "      <td>4016335</td>\n",
       "      <td>1</td>\n",
       "      <td>VEHICLE TYPE CODE 1</td>\n",
       "      <td>Station Wagon/Sport Utility Vehicle</td>\n",
       "    </tr>\n",
       "    <tr>\n",
       "      <th>962</th>\n",
       "      <td>4068862</td>\n",
       "      <td>1</td>\n",
       "      <td>VEHICLE TYPE CODE 5</td>\n",
       "      <td>NaN</td>\n",
       "    </tr>\n",
       "    <tr>\n",
       "      <th>132</th>\n",
       "      <td>4013263</td>\n",
       "      <td>1</td>\n",
       "      <td>VEHICLE TYPE CODE 1</td>\n",
       "      <td>Pick-up Truck</td>\n",
       "    </tr>\n",
       "    <tr>\n",
       "      <th>903</th>\n",
       "      <td>4166853</td>\n",
       "      <td>1</td>\n",
       "      <td>VEHICLE TYPE CODE 5</td>\n",
       "      <td>NaN</td>\n",
       "    </tr>\n",
       "    <tr>\n",
       "      <th>544</th>\n",
       "      <td>4066754</td>\n",
       "      <td>1</td>\n",
       "      <td>VEHICLE TYPE CODE 3</td>\n",
       "      <td>NaN</td>\n",
       "    </tr>\n",
       "    <tr>\n",
       "      <th>449</th>\n",
       "      <td>4183333</td>\n",
       "      <td>1</td>\n",
       "      <td>VEHICLE TYPE CODE 3</td>\n",
       "      <td>NaN</td>\n",
       "    </tr>\n",
       "    <tr>\n",
       "      <th>555</th>\n",
       "      <td>4055926</td>\n",
       "      <td>1</td>\n",
       "      <td>VEHICLE TYPE CODE 3</td>\n",
       "      <td>NaN</td>\n",
       "    </tr>\n",
       "    <tr>\n",
       "      <th>991</th>\n",
       "      <td>4056090</td>\n",
       "      <td>1</td>\n",
       "      <td>VEHICLE TYPE CODE 5</td>\n",
       "      <td>Sedan</td>\n",
       "    </tr>\n",
       "  </tbody>\n",
       "</table>\n",
       "</div>"
      ],
      "text/plain": [
       "      COLLISION_ID  TK             variable  \\\n",
       "328        4060483   1  VEHICLE TYPE CODE 2   \n",
       "1074       3845944   1  VEHICLE TYPE CODE 5   \n",
       "131        4016335   1  VEHICLE TYPE CODE 1   \n",
       "962        4068862   1  VEHICLE TYPE CODE 5   \n",
       "132        4013263   1  VEHICLE TYPE CODE 1   \n",
       "903        4166853   1  VEHICLE TYPE CODE 5   \n",
       "544        4066754   1  VEHICLE TYPE CODE 3   \n",
       "449        4183333   1  VEHICLE TYPE CODE 3   \n",
       "555        4055926   1  VEHICLE TYPE CODE 3   \n",
       "991        4056090   1  VEHICLE TYPE CODE 5   \n",
       "\n",
       "                                    value  \n",
       "328   Station Wagon/Sport Utility Vehicle  \n",
       "1074                                  NaN  \n",
       "131   Station Wagon/Sport Utility Vehicle  \n",
       "962                                   NaN  \n",
       "132                         Pick-up Truck  \n",
       "903                                   NaN  \n",
       "544                                   NaN  \n",
       "449                                   NaN  \n",
       "555                                   NaN  \n",
       "991                                 Sedan  "
      ]
     },
     "execution_count": 79,
     "metadata": {},
     "output_type": "execute_result"
    }
   ],
   "source": [
    "df_dav_edit.sample(10)"
   ]
  },
  {
   "cell_type": "code",
   "execution_count": 80,
   "metadata": {},
   "outputs": [
    {
     "data": {
      "text/plain": [
       "221"
      ]
     },
     "execution_count": 80,
     "metadata": {},
     "output_type": "execute_result"
    }
   ],
   "source": [
    "df_dav.TK.sum()"
   ]
  },
  {
   "cell_type": "code",
   "execution_count": 81,
   "metadata": {},
   "outputs": [],
   "source": [
    "df_dav_edit['value']=df_dav_edit['value'].str.title()"
   ]
  },
  {
   "cell_type": "code",
   "execution_count": 82,
   "metadata": {},
   "outputs": [],
   "source": [
    "df_dav_edit.dropna(subset=['value'],inplace=True)"
   ]
  },
  {
   "cell_type": "code",
   "execution_count": 83,
   "metadata": {},
   "outputs": [],
   "source": [
    "df_dav_edit=df_dav_edit.sort_values(by='TK',ascending=False)"
   ]
  },
  {
   "cell_type": "code",
   "execution_count": 84,
   "metadata": {},
   "outputs": [
    {
     "data": {
      "text/plain": [
       "357"
      ]
     },
     "execution_count": 84,
     "metadata": {},
     "output_type": "execute_result"
    }
   ],
   "source": [
    "df_dav_edit.TK.sum()"
   ]
  },
  {
   "cell_type": "code",
   "execution_count": 85,
   "metadata": {},
   "outputs": [
    {
     "data": {
      "text/plain": [
       "value\n",
       "Station Wagon/Sport Utility Vehicle    100\n",
       "Sedan                                   79\n",
       "Passenger Vehicle                       33\n",
       "Sport Utility / Station Wagon           26\n",
       "Motorcycle                              23\n",
       "Bike                                    19\n",
       "Pick-Up Truck                           12\n",
       "Bus                                     10\n",
       "Box Truck                                8\n",
       "Taxi                                     6\n",
       "Tractor Truck Diesel                     4\n",
       "Van                                      3\n",
       "Dump                                     3\n",
       "Bicycle                                  3\n",
       "Tanker                                   3\n",
       "Concrete Mixer                           2\n",
       "Garbage Or Refuse                        2\n",
       "Bu                                       2\n",
       "Tk                                       2\n",
       "Tow Truck / Wrecker                      2\n",
       "E Sco                                    1\n",
       "Convertible                              1\n",
       "Beverage Truck                           1\n",
       "Vn                                       1\n",
       "Motorscooter                             1\n",
       "Md                                       1\n",
       "Minicycle                                1\n",
       "Moped                                    1\n",
       "Motorbike                                1\n",
       "Open Body                                1\n",
       "Stake Or Rack                            1\n",
       "Tn                                       1\n",
       "Usps                                     1\n",
       "Utili                                    1\n",
       "Back                                     1\n",
       "Name: TK, dtype: int64"
      ]
     },
     "execution_count": 85,
     "metadata": {},
     "output_type": "execute_result"
    }
   ],
   "source": [
    "df_dav_edit.groupby(['value'])['TK'].sum().sort_values(ascending=False)"
   ]
  },
  {
   "cell_type": "markdown",
   "metadata": {},
   "source": [
    "_I would prefer to normalize names:_"
   ]
  },
  {
   "cell_type": "code",
   "execution_count": 86,
   "metadata": {},
   "outputs": [],
   "source": [
    "df_dav_edit.loc[df_dav_edit['value']=='Sport Utility / Station Wagon','value']='Station Wagon/Sport Utility Vehicle'\n",
    "df_dav_edit.loc[df_dav_edit['value']=='Bicycle','value']='Bike'\n",
    "df_dav_edit.loc[df_dav_edit['value']=='Motorbike','value']='Motorcycle'"
   ]
  },
  {
   "cell_type": "code",
   "execution_count": 87,
   "metadata": {},
   "outputs": [
    {
     "data": {
      "text/plain": [
       "value\n",
       "Station Wagon/Sport Utility Vehicle    126\n",
       "Sedan                                   79\n",
       "Passenger Vehicle                       33\n",
       "Motorcycle                              24\n",
       "Bike                                    22\n",
       "Pick-Up Truck                           12\n",
       "Bus                                     10\n",
       "Box Truck                                8\n",
       "Taxi                                     6\n",
       "Tractor Truck Diesel                     4\n",
       "Dump                                     3\n",
       "Tanker                                   3\n",
       "Van                                      3\n",
       "Bu                                       2\n",
       "Concrete Mixer                           2\n",
       "Garbage Or Refuse                        2\n",
       "Tk                                       2\n",
       "Tow Truck / Wrecker                      2\n",
       "E Sco                                    1\n",
       "Convertible                              1\n",
       "Beverage Truck                           1\n",
       "Vn                                       1\n",
       "Motorscooter                             1\n",
       "Md                                       1\n",
       "Minicycle                                1\n",
       "Moped                                    1\n",
       "Open Body                                1\n",
       "Stake Or Rack                            1\n",
       "Tn                                       1\n",
       "Usps                                     1\n",
       "Utili                                    1\n",
       "Back                                     1\n",
       "Name: TK, dtype: int64"
      ]
     },
     "execution_count": 87,
     "metadata": {},
     "output_type": "execute_result"
    }
   ],
   "source": [
    "df_dav_edit.groupby(['value'])['TK'].sum().sort_values(ascending=False)"
   ]
  },
  {
   "cell_type": "code",
   "execution_count": 88,
   "metadata": {},
   "outputs": [
    {
     "data": {
      "text/plain": [
       "Text(0, 0.5, '')"
      ]
     },
     "execution_count": 88,
     "metadata": {},
     "output_type": "execute_result"
    },
    {
     "data": {
      "image/png": "[encoded data removed]",
      "text/plain": [
       "<Figure size 432x288 with 1 Axes>"
      ]
     },
     "metadata": {},
     "output_type": "display_data"
    }
   ],
   "source": [
    "df_dav_edit.groupby(['value'])['TK'].sum().sort_values(ascending=False).nlargest(5). \\\n",
    "    plot(kind='barh',title='# de Accidents by vehicle type',color='red').invert_yaxis()\n",
    "plt.ylabel('')"
   ]
  },
  {
   "cell_type": "code",
   "execution_count": null,
   "metadata": {},
   "outputs": [],
   "source": []
  }
 ],
 "metadata": {
  "celltoolbar": "Raw Cell Format",
  "kernelspec": {
   "display_name": "Python 3",
   "language": "python",
   "name": "python3"
  },
  "language_info": {
   "codemirror_mode": {
    "name": "ipython",
    "version": 3
   },
   "file_extension": ".py",
   "mimetype": "text/x-python",
   "name": "python",
   "nbconvert_exporter": "python",
   "pygments_lexer": "ipython3",
   "version": "3.7.3"
  }
 },
 "nbformat": 4,
 "nbformat_minor": 2
}
