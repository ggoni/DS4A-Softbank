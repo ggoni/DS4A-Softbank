{
 "cells": [
  {
   "cell_type": "markdown",
   "metadata": {},
   "source": [
    "# Strategies to prevent overfitting in Neural Networks"
   ]
  },
  {
   "cell_type": "markdown",
   "metadata": {},
   "source": [
    "## Introduction (5 min)\n",
    "\n",
    "**Business Context.** You are a data scientist working for a machine learning consultancy. One of your clients wants to be able to classify text reviews automatically by the likely rating (on a 1 - 5 scale) that that person would give. However, they do not have sufficient data they generated on their own to do this, so you need to use an external, rich dataset as a basis on which to build your model and then translate it over.\n",
    "\n",
    "**Business Problem.** Your task is to **build a neural networks-based model for classifying text reviews into likely ratings (on a 1 - 5 scale)**.\n",
    "\n",
    "**Analytical Context.** We'll use the Amazon review dataset again and try to classify reviews into star ratings automatically. Instead of just positive and negative, we'll take on the harder challenge of predicting the *exact* star rating. The lowest score is 1 and the highest is 5.\n",
    "\n",
    "Instead of trying to optimize by pre-processing the text, we'll do very basic tokenization and experiment with different neural network models, architectures, and hyperparameters to optimize the results. You'll start by building a simple dense neural network and try to get it to perform better using various techniques. Then you'll evaluate the results and diagnose where it tends to perform more poorly."
   ]
  },
  {
   "cell_type": "markdown",
   "metadata": {},
   "source": [
    "## Setting up and preparing the data\n",
    "\n",
    "We'll mainly be using the `keras` module from TensorFlow, but we'll also use `pandas` to read the CSV file and `sklearn` for some helper functions. We'll be using only the \"Text\" and \"Score\" columns in the `Reviews.csv` file."
   ]
  },
  {
   "cell_type": "markdown",
   "metadata": {},
   "source": [
    "### Exercise 1: (20 min)\n",
    "\n",
    "Read in the `Reviews.csv` file and combine the first 1,000 of each of the 1-, 2-, 3-, 4-, and 5-star reviews into a single DataFrame (so you should have 5,000 observations in total). Split this DataFrame into training and test sets, with 80% of the data for the training set.\n",
    "\n",
    "*Hint: `keras` will expected your labels to start with 0, and not 1, so make sure to adjust the labels accordingly.*"
   ]
  },
  {
   "cell_type": "markdown",
   "metadata": {},
   "source": [
    "**Answer.**"
   ]
  },
  {
   "cell_type": "code",
   "execution_count": 1,
   "metadata": {},
   "outputs": [
    {
     "name": "stderr",
     "output_type": "stream",
     "text": [
      "Using TensorFlow backend.\n",
      "/Users/ggoni/anaconda3/envs/extended_case_7/lib/python3.7/site-packages/tensorflow/python/framework/dtypes.py:526: FutureWarning: Passing (type, 1) or '1type' as a synonym of type is deprecated; in a future version of numpy, it will be understood as (type, (1,)) / '(1,)type'.\n",
      "  _np_qint8 = np.dtype([(\"qint8\", np.int8, 1)])\n",
      "/Users/ggoni/anaconda3/envs/extended_case_7/lib/python3.7/site-packages/tensorflow/python/framework/dtypes.py:527: FutureWarning: Passing (type, 1) or '1type' as a synonym of type is deprecated; in a future version of numpy, it will be understood as (type, (1,)) / '(1,)type'.\n",
      "  _np_quint8 = np.dtype([(\"quint8\", np.uint8, 1)])\n",
      "/Users/ggoni/anaconda3/envs/extended_case_7/lib/python3.7/site-packages/tensorflow/python/framework/dtypes.py:528: FutureWarning: Passing (type, 1) or '1type' as a synonym of type is deprecated; in a future version of numpy, it will be understood as (type, (1,)) / '(1,)type'.\n",
      "  _np_qint16 = np.dtype([(\"qint16\", np.int16, 1)])\n",
      "/Users/ggoni/anaconda3/envs/extended_case_7/lib/python3.7/site-packages/tensorflow/python/framework/dtypes.py:529: FutureWarning: Passing (type, 1) or '1type' as a synonym of type is deprecated; in a future version of numpy, it will be understood as (type, (1,)) / '(1,)type'.\n",
      "  _np_quint16 = np.dtype([(\"quint16\", np.uint16, 1)])\n",
      "/Users/ggoni/anaconda3/envs/extended_case_7/lib/python3.7/site-packages/tensorflow/python/framework/dtypes.py:530: FutureWarning: Passing (type, 1) or '1type' as a synonym of type is deprecated; in a future version of numpy, it will be understood as (type, (1,)) / '(1,)type'.\n",
      "  _np_qint32 = np.dtype([(\"qint32\", np.int32, 1)])\n",
      "/Users/ggoni/anaconda3/envs/extended_case_7/lib/python3.7/site-packages/tensorflow/python/framework/dtypes.py:535: FutureWarning: Passing (type, 1) or '1type' as a synonym of type is deprecated; in a future version of numpy, it will be understood as (type, (1,)) / '(1,)type'.\n",
      "  np_resource = np.dtype([(\"resource\", np.ubyte, 1)])\n"
     ]
    }
   ],
   "source": [
    "import pandas as pd\n",
    "from nltk.corpus import stopwords\n",
    "from nltk.stem import PorterStemmer\n",
    "import nltk\n",
    "import re\n",
    "from gensim.models import Word2Vec\n",
    "from nltk.tokenize import word_tokenize,sent_tokenize\n",
    "import matplotlib.pyplot as plt\n",
    "import seaborn as sns\n",
    "\n",
    "from keras.preprocessing.text import Tokenizer\n",
    "from keras.preprocessing.sequence import pad_sequences\n",
    "import pickle\n",
    "\n",
    "from sklearn.model_selection import train_test_split"
   ]
  },
  {
   "cell_type": "code",
   "execution_count": 2,
   "metadata": {
    "scrolled": true
   },
   "outputs": [],
   "source": [
    "%matplotlib inline\n",
    "plt.style.use('ggplot')"
   ]
  },
  {
   "cell_type": "code",
   "execution_count": 3,
   "metadata": {},
   "outputs": [],
   "source": [
    "df=pd.read_csv('reviews.csv')"
   ]
  },
  {
   "cell_type": "code",
   "execution_count": 4,
   "metadata": {},
   "outputs": [
    {
     "data": {
      "text/html": [
       "<div>\n",
       "<style scoped>\n",
       "    .dataframe tbody tr th:only-of-type {\n",
       "        vertical-align: middle;\n",
       "    }\n",
       "\n",
       "    .dataframe tbody tr th {\n",
       "        vertical-align: top;\n",
       "    }\n",
       "\n",
       "    .dataframe thead th {\n",
       "        text-align: right;\n",
       "    }\n",
       "</style>\n",
       "<table border=\"1\" class=\"dataframe\">\n",
       "  <thead>\n",
       "    <tr style=\"text-align: right;\">\n",
       "      <th></th>\n",
       "      <th>Id</th>\n",
       "      <th>ProductId</th>\n",
       "      <th>UserId</th>\n",
       "      <th>ProfileName</th>\n",
       "      <th>HelpfulnessNumerator</th>\n",
       "      <th>HelpfulnessDenominator</th>\n",
       "      <th>Score</th>\n",
       "      <th>Time</th>\n",
       "      <th>Summary</th>\n",
       "      <th>Text</th>\n",
       "    </tr>\n",
       "  </thead>\n",
       "  <tbody>\n",
       "    <tr>\n",
       "      <th>0</th>\n",
       "      <td>1</td>\n",
       "      <td>B001E4KFG0</td>\n",
       "      <td>A3SGXH7AUHU8GW</td>\n",
       "      <td>delmartian</td>\n",
       "      <td>1</td>\n",
       "      <td>1</td>\n",
       "      <td>5</td>\n",
       "      <td>1303862400</td>\n",
       "      <td>Good Quality Dog Food</td>\n",
       "      <td>I have bought several of the Vitality canned d...</td>\n",
       "    </tr>\n",
       "    <tr>\n",
       "      <th>1</th>\n",
       "      <td>2</td>\n",
       "      <td>B00813GRG4</td>\n",
       "      <td>A1D87F6ZCVE5NK</td>\n",
       "      <td>dll pa</td>\n",
       "      <td>0</td>\n",
       "      <td>0</td>\n",
       "      <td>1</td>\n",
       "      <td>1346976000</td>\n",
       "      <td>Not as Advertised</td>\n",
       "      <td>Product arrived labeled as Jumbo Salted Peanut...</td>\n",
       "    </tr>\n",
       "    <tr>\n",
       "      <th>2</th>\n",
       "      <td>3</td>\n",
       "      <td>B000LQOCH0</td>\n",
       "      <td>ABXLMWJIXXAIN</td>\n",
       "      <td>Natalia Corres \"Natalia Corres\"</td>\n",
       "      <td>1</td>\n",
       "      <td>1</td>\n",
       "      <td>4</td>\n",
       "      <td>1219017600</td>\n",
       "      <td>\"Delight\" says it all</td>\n",
       "      <td>This is a confection that has been around a fe...</td>\n",
       "    </tr>\n",
       "    <tr>\n",
       "      <th>3</th>\n",
       "      <td>4</td>\n",
       "      <td>B000UA0QIQ</td>\n",
       "      <td>A395BORC6FGVXV</td>\n",
       "      <td>Karl</td>\n",
       "      <td>3</td>\n",
       "      <td>3</td>\n",
       "      <td>2</td>\n",
       "      <td>1307923200</td>\n",
       "      <td>Cough Medicine</td>\n",
       "      <td>If you are looking for the secret ingredient i...</td>\n",
       "    </tr>\n",
       "    <tr>\n",
       "      <th>4</th>\n",
       "      <td>5</td>\n",
       "      <td>B006K2ZZ7K</td>\n",
       "      <td>A1UQRSCLF8GW1T</td>\n",
       "      <td>Michael D. Bigham \"M. Wassir\"</td>\n",
       "      <td>0</td>\n",
       "      <td>0</td>\n",
       "      <td>5</td>\n",
       "      <td>1350777600</td>\n",
       "      <td>Great taffy</td>\n",
       "      <td>Great taffy at a great price.  There was a wid...</td>\n",
       "    </tr>\n",
       "  </tbody>\n",
       "</table>\n",
       "</div>"
      ],
      "text/plain": [
       "   Id   ProductId          UserId                      ProfileName  \\\n",
       "0   1  B001E4KFG0  A3SGXH7AUHU8GW                       delmartian   \n",
       "1   2  B00813GRG4  A1D87F6ZCVE5NK                           dll pa   \n",
       "2   3  B000LQOCH0   ABXLMWJIXXAIN  Natalia Corres \"Natalia Corres\"   \n",
       "3   4  B000UA0QIQ  A395BORC6FGVXV                             Karl   \n",
       "4   5  B006K2ZZ7K  A1UQRSCLF8GW1T    Michael D. Bigham \"M. Wassir\"   \n",
       "\n",
       "   HelpfulnessNumerator  HelpfulnessDenominator  Score        Time  \\\n",
       "0                     1                       1      5  1303862400   \n",
       "1                     0                       0      1  1346976000   \n",
       "2                     1                       1      4  1219017600   \n",
       "3                     3                       3      2  1307923200   \n",
       "4                     0                       0      5  1350777600   \n",
       "\n",
       "                 Summary                                               Text  \n",
       "0  Good Quality Dog Food  I have bought several of the Vitality canned d...  \n",
       "1      Not as Advertised  Product arrived labeled as Jumbo Salted Peanut...  \n",
       "2  \"Delight\" says it all  This is a confection that has been around a fe...  \n",
       "3         Cough Medicine  If you are looking for the secret ingredient i...  \n",
       "4            Great taffy  Great taffy at a great price.  There was a wid...  "
      ]
     },
     "execution_count": 4,
     "metadata": {},
     "output_type": "execute_result"
    }
   ],
   "source": [
    "df.head(5)"
   ]
  },
  {
   "cell_type": "code",
   "execution_count": 5,
   "metadata": {
    "scrolled": true
   },
   "outputs": [
    {
     "data": {
      "text/plain": [
       "Id                         int64\n",
       "ProductId                 object\n",
       "UserId                    object\n",
       "ProfileName               object\n",
       "HelpfulnessNumerator       int64\n",
       "HelpfulnessDenominator     int64\n",
       "Score                      int64\n",
       "Time                       int64\n",
       "Summary                   object\n",
       "Text                      object\n",
       "dtype: object"
      ]
     },
     "execution_count": 5,
     "metadata": {},
     "output_type": "execute_result"
    }
   ],
   "source": [
    "df.dtypes"
   ]
  },
  {
   "cell_type": "code",
   "execution_count": 6,
   "metadata": {},
   "outputs": [
    {
     "data": {
      "text/plain": [
       "(568454, 10)"
      ]
     },
     "execution_count": 6,
     "metadata": {},
     "output_type": "execute_result"
    }
   ],
   "source": [
    "df.shape"
   ]
  },
  {
   "cell_type": "code",
   "execution_count": 7,
   "metadata": {
    "scrolled": true
   },
   "outputs": [
    {
     "data": {
      "image/png": "[encoded data removed]",
      "text/plain": [
       "<Figure size 432x288 with 1 Axes>"
      ]
     },
     "metadata": {},
     "output_type": "display_data"
    }
   ],
   "source": [
    "df.groupby(['Score'])['Id'].count().plot(kind='bar')\n",
    "plt.title(\"Number of reviews per score. Original Dataset\");"
   ]
  },
  {
   "cell_type": "code",
   "execution_count": 8,
   "metadata": {},
   "outputs": [
    {
     "name": "stdout",
     "output_type": "stream",
     "text": [
      "1    0.091948\n",
      "2    0.052368\n",
      "3    0.075010\n",
      "4    0.141885\n",
      "5    0.638789\n",
      "Name: Score, dtype: float64\n"
     ]
    }
   ],
   "source": [
    "print(df['Score'].value_counts(normalize=True).sort_index())"
   ]
  },
  {
   "cell_type": "markdown",
   "metadata": {},
   "source": [
    "_First, I will create a ```df_filtered```with the first 1,000 reviews for each score:_"
   ]
  },
  {
   "cell_type": "code",
   "execution_count": 9,
   "metadata": {},
   "outputs": [],
   "source": [
    "df_filtered=pd.DataFrame()\n",
    "for score in list(df.Score.unique()):\n",
    "    df_score=df.loc[df['Score']==score,['Score','Text']]\n",
    "    df_score=df_score.head(1000)\n",
    "    df_filtered=pd.concat([df_filtered,df_score],axis=0)\n",
    "#Scores must be mapped to a 0-4 scale\n",
    "df_filtered['Score']=df_filtered['Score']-1"
   ]
  },
  {
   "cell_type": "markdown",
   "metadata": {},
   "source": [
    "\n",
    "_Checking consistency:_"
   ]
  },
  {
   "cell_type": "code",
   "execution_count": 10,
   "metadata": {},
   "outputs": [
    {
     "data": {
      "text/html": [
       "<div>\n",
       "<style scoped>\n",
       "    .dataframe tbody tr th:only-of-type {\n",
       "        vertical-align: middle;\n",
       "    }\n",
       "\n",
       "    .dataframe tbody tr th {\n",
       "        vertical-align: top;\n",
       "    }\n",
       "\n",
       "    .dataframe thead th {\n",
       "        text-align: right;\n",
       "    }\n",
       "</style>\n",
       "<table border=\"1\" class=\"dataframe\">\n",
       "  <thead>\n",
       "    <tr style=\"text-align: right;\">\n",
       "      <th></th>\n",
       "      <th>Score</th>\n",
       "      <th>Text</th>\n",
       "    </tr>\n",
       "  </thead>\n",
       "  <tbody>\n",
       "    <tr>\n",
       "      <th>0</th>\n",
       "      <td>4</td>\n",
       "      <td>I have bought several of the Vitality canned d...</td>\n",
       "    </tr>\n",
       "    <tr>\n",
       "      <th>4</th>\n",
       "      <td>4</td>\n",
       "      <td>Great taffy at a great price.  There was a wid...</td>\n",
       "    </tr>\n",
       "    <tr>\n",
       "      <th>6</th>\n",
       "      <td>4</td>\n",
       "      <td>This saltwater taffy had great flavors and was...</td>\n",
       "    </tr>\n",
       "    <tr>\n",
       "      <th>7</th>\n",
       "      <td>4</td>\n",
       "      <td>This taffy is so good.  It is very soft and ch...</td>\n",
       "    </tr>\n",
       "    <tr>\n",
       "      <th>8</th>\n",
       "      <td>4</td>\n",
       "      <td>Right now I'm mostly just sprouting this so my...</td>\n",
       "    </tr>\n",
       "  </tbody>\n",
       "</table>\n",
       "</div>"
      ],
      "text/plain": [
       "   Score                                               Text\n",
       "0      4  I have bought several of the Vitality canned d...\n",
       "4      4  Great taffy at a great price.  There was a wid...\n",
       "6      4  This saltwater taffy had great flavors and was...\n",
       "7      4  This taffy is so good.  It is very soft and ch...\n",
       "8      4  Right now I'm mostly just sprouting this so my..."
      ]
     },
     "execution_count": 10,
     "metadata": {},
     "output_type": "execute_result"
    }
   ],
   "source": [
    "df_filtered.head()"
   ]
  },
  {
   "cell_type": "code",
   "execution_count": 11,
   "metadata": {},
   "outputs": [
    {
     "data": {
      "image/png": "[encoded data removed]",
      "text/plain": [
       "<Figure size 432x288 with 1 Axes>"
      ]
     },
     "metadata": {},
     "output_type": "display_data"
    }
   ],
   "source": [
    "df_filtered.groupby(['Score'])['Text'].count().plot(kind='bar')\n",
    "plt.title(\"Number of reviews per score. Filtered 50k\");"
   ]
  },
  {
   "cell_type": "markdown",
   "metadata": {},
   "source": [
    "_And it seems the requested filtering is ok._"
   ]
  },
  {
   "cell_type": "markdown",
   "metadata": {},
   "source": [
    "## Tokenizing our texts\n",
    "\n",
    "Keras comes with its own functions to preprocess text, including a [tokenizer](https://www.tensorflow.org/api_docs/python/tf/keras/preprocessing/text/Tokenizer). Unlike the `CountVectorizer` from `sklearn`, which produces sparse matrices, `keras` often expects to work with sequences representing only the words that occur in a text. To prepare text before feeding it into a neural network, we usually:\n",
    "\n",
    "1. Create a [tokenizer](https://www.tensorflow.org/api_docs/python/tf/keras/preprocessing/text/Tokenizer) (a mapping from each word in our corpus to a unique integer)\n",
    "2. [Create sequences](https://www.tensorflow.org/api_docs/python/tf/keras/preprocessing/text/Tokenizer#texts_to_sequences) from our text (each text becomes a list of integers, based on the tokenizer mapping, instead of words)\n",
    "3. [Pad or truncate](https://www.tensorflow.org/api_docs/python/tf/keras/preprocessing/sequence/pad_sequences) each sequence to a fixed length (very short texts get `0`s added to them, while very long ones are truncated).\n",
    "\n",
    "The tokenizer has a configurable word cap, so it will only consider the $n$ most common words in the corpus, ignoring very rare words."
   ]
  },
  {
   "cell_type": "markdown",
   "metadata": {},
   "source": [
    "### Exercise 2: (25 min)\n",
    "\n",
    "Perform some exploratory analysis of the dataset to calculate the distribution of word lengths and number of unique words. Based on these, carry out the preprocessing steps described above, using appropriate values for the tokenizer cap and sequence length.\n",
    "\n",
    "*Hint: $n$ should still be fairly large, since the point is only to ignore very rare words. A good benchmark for the word cap could be the number of words in the 80th percentile.*"
   ]
  },
  {
   "cell_type": "markdown",
   "metadata": {},
   "source": [
    "**Answer.**"
   ]
  },
  {
   "cell_type": "markdown",
   "metadata": {},
   "source": [
    "_First, I would like to clean the text, using the steps learned in Case 17.2_\n",
    "\n",
    "_1. converting words to lower case_\n",
    "\n",
    "_2. removing special characters_\n",
    "\n",
    "_3. removing stopwords and extreme frequency words (Hint)_\n",
    "\n",
    "_4. stemming_"
   ]
  },
  {
   "cell_type": "code",
   "execution_count": 12,
   "metadata": {},
   "outputs": [],
   "source": [
    "import re"
   ]
  },
  {
   "cell_type": "code",
   "execution_count": 13,
   "metadata": {},
   "outputs": [
    {
     "data": {
      "text/plain": [
       "0    I have bought several of the Vitality canned d...\n",
       "4    Great taffy at a great price.  There was a wid...\n",
       "6    This saltwater taffy had great flavors and was...\n",
       "7    This taffy is so good.  It is very soft and ch...\n",
       "8    Right now I'm mostly just sprouting this so my...\n",
       "Name: Text, dtype: object"
      ]
     },
     "execution_count": 13,
     "metadata": {},
     "output_type": "execute_result"
    }
   ],
   "source": [
    "df_filtered['Text'].head()"
   ]
  },
  {
   "cell_type": "markdown",
   "metadata": {},
   "source": [
    "_Converting words to lowercase:_"
   ]
  },
  {
   "cell_type": "code",
   "execution_count": 14,
   "metadata": {},
   "outputs": [
    {
     "data": {
      "text/plain": [
       "0    i have bought several of the vitality canned d...\n",
       "4    great taffy at a great price.  there was a wid...\n",
       "6    this saltwater taffy had great flavors and was...\n",
       "7    this taffy is so good.  it is very soft and ch...\n",
       "8    right now i'm mostly just sprouting this so my...\n",
       "Name: Text, dtype: object"
      ]
     },
     "execution_count": 14,
     "metadata": {},
     "output_type": "execute_result"
    }
   ],
   "source": [
    "df_filtered['Text']=df_filtered['Text'].apply(lambda x: x.lower())\n",
    "df_filtered['Text'].head()"
   ]
  },
  {
   "cell_type": "markdown",
   "metadata": {},
   "source": [
    "_Removing special characters:_"
   ]
  },
  {
   "cell_type": "code",
   "execution_count": 15,
   "metadata": {},
   "outputs": [],
   "source": [
    "remove_special_chars=lambda x: re.sub('[^A-Za-z0-9 ]+', ' ',x)"
   ]
  },
  {
   "cell_type": "code",
   "execution_count": 16,
   "metadata": {},
   "outputs": [],
   "source": [
    "df_filtered['Text']=df_filtered['Text'].apply(remove_special_chars)"
   ]
  },
  {
   "cell_type": "code",
   "execution_count": 17,
   "metadata": {},
   "outputs": [
    {
     "data": {
      "text/plain": [
       "0    i have bought several of the vitality canned d...\n",
       "4    great taffy at a great price   there was a wid...\n",
       "6    this saltwater taffy had great flavors and was...\n",
       "7    this taffy is so good   it is very soft and ch...\n",
       "8    right now i m mostly just sprouting this so my...\n",
       "Name: Text, dtype: object"
      ]
     },
     "execution_count": 17,
     "metadata": {},
     "output_type": "execute_result"
    }
   ],
   "source": [
    "df_filtered['Text'].head()"
   ]
  },
  {
   "cell_type": "markdown",
   "metadata": {},
   "source": [
    "_By now, the words to exclude will be just regular ```stopwords```.I will create a variable: more words could be necessary._"
   ]
  },
  {
   "cell_type": "code",
   "execution_count": 18,
   "metadata": {},
   "outputs": [],
   "source": [
    "excluded_words = []\n",
    "stopwords_corpus = nltk.corpus.stopwords\n",
    "eng_stop_words = stopwords_corpus.words('english')\n",
    "excluded_words.extend(eng_stop_words)"
   ]
  },
  {
   "cell_type": "code",
   "execution_count": 19,
   "metadata": {},
   "outputs": [
    {
     "data": {
      "text/plain": [
       "0    i have bought several of the vitality canned d...\n",
       "4    great taffy at a great price   there was a wid...\n",
       "6    this saltwater taffy had great flavors and was...\n",
       "7    this taffy is so good   it is very soft and ch...\n",
       "8    right now i m mostly just sprouting this so my...\n",
       "Name: Text, dtype: object"
      ]
     },
     "execution_count": 19,
     "metadata": {},
     "output_type": "execute_result"
    }
   ],
   "source": [
    "df_filtered['Text'].head()"
   ]
  },
  {
   "cell_type": "code",
   "execution_count": 20,
   "metadata": {},
   "outputs": [],
   "source": [
    "remove_stop_words=lambda x: ' '.join([word for word in x.split() if word not in (excluded_words)])\n",
    "df_filtered['Text'] = df_filtered['Text'].apply(remove_stop_words)"
   ]
  },
  {
   "cell_type": "code",
   "execution_count": 21,
   "metadata": {},
   "outputs": [
    {
     "data": {
      "text/plain": [
       "0    bought several vitality canned dog food produc...\n",
       "4    great taffy great price wide assortment yummy ...\n",
       "6    saltwater taffy great flavors soft chewy candy...\n",
       "7    taffy good soft chewy flavors amazing would de...\n",
       "8    right mostly sprouting cats eat grass love rot...\n",
       "Name: Text, dtype: object"
      ]
     },
     "execution_count": 21,
     "metadata": {},
     "output_type": "execute_result"
    }
   ],
   "source": [
    "df_filtered['Text'].head()"
   ]
  },
  {
   "cell_type": "markdown",
   "metadata": {},
   "source": [
    "_I will also try to use a stemmer._"
   ]
  },
  {
   "cell_type": "code",
   "execution_count": 22,
   "metadata": {},
   "outputs": [],
   "source": [
    "Stemmer=PorterStemmer()\n",
    "w_tokenizer = nltk.tokenize.WhitespaceTokenizer()"
   ]
  },
  {
   "cell_type": "code",
   "execution_count": 23,
   "metadata": {},
   "outputs": [],
   "source": [
    "def stem_text(text):\n",
    "    return ' '.join([Stemmer.stem(w) for w in w_tokenizer.tokenize(text)])"
   ]
  },
  {
   "cell_type": "code",
   "execution_count": 24,
   "metadata": {},
   "outputs": [
    {
     "data": {
      "text/plain": [
       "0        bought sever vital can dog food product found ...\n",
       "4        great taffi great price wide assort yummi taff...\n",
       "6        saltwat taffi great flavor soft chewi candi in...\n",
       "7        taffi good soft chewi flavor amaz would defini...\n",
       "8        right mostli sprout cat eat grass love rotat a...\n",
       "                               ...                        \n",
       "11964    bought walnut hope fresh natur tast better pac...\n",
       "11977    buy cracker need someth gluten free snack glut...\n",
       "11981    product known valu us fresh physic condit prod...\n",
       "11998    purchaes twice far box gum realli hard product...\n",
       "12038    tri garlic one made mistak wear ga mask use lo...\n",
       "Name: Text, Length: 5000, dtype: object"
      ]
     },
     "execution_count": 24,
     "metadata": {},
     "output_type": "execute_result"
    }
   ],
   "source": [
    "df_filtered['Text'].apply(stem_text)"
   ]
  },
  {
   "cell_type": "markdown",
   "metadata": {},
   "source": [
    "_And now we are ready to train a Vectorizer with clean texts._"
   ]
  },
  {
   "cell_type": "code",
   "execution_count": 25,
   "metadata": {},
   "outputs": [],
   "source": [
    "X_train,X_test,y_train,y_test=train_test_split(df_filtered['Text'],df_filtered['Score'],\n",
    "                                               test_size=0.2,random_state=42)"
   ]
  },
  {
   "cell_type": "code",
   "execution_count": 26,
   "metadata": {},
   "outputs": [],
   "source": [
    "tokenizer=Tokenizer()"
   ]
  },
  {
   "cell_type": "code",
   "execution_count": 27,
   "metadata": {},
   "outputs": [],
   "source": [
    "tokenizer.fit_on_texts(X_train)"
   ]
  },
  {
   "cell_type": "code",
   "execution_count": 28,
   "metadata": {},
   "outputs": [
    {
     "data": {
      "text/plain": [
       "word         object\n",
       "frequency     int64\n",
       "dtype: object"
      ]
     },
     "execution_count": 28,
     "metadata": {},
     "output_type": "execute_result"
    }
   ],
   "source": [
    "frequencies=pd.DataFrame(zip(tokenizer.index_word.values(),tokenizer.word_counts.values()),\n",
    "                         columns=['word','frequency'])\n",
    "frequencies.dtypes"
   ]
  },
  {
   "cell_type": "code",
   "execution_count": 29,
   "metadata": {},
   "outputs": [
    {
     "data": {
      "text/html": [
       "<div>\n",
       "<style scoped>\n",
       "    .dataframe tbody tr th:only-of-type {\n",
       "        vertical-align: middle;\n",
       "    }\n",
       "\n",
       "    .dataframe tbody tr th {\n",
       "        vertical-align: top;\n",
       "    }\n",
       "\n",
       "    .dataframe thead th {\n",
       "        text-align: right;\n",
       "    }\n",
       "</style>\n",
       "<table border=\"1\" class=\"dataframe\">\n",
       "  <thead>\n",
       "    <tr style=\"text-align: right;\">\n",
       "      <th></th>\n",
       "      <th>word</th>\n",
       "      <th>frequency</th>\n",
       "    </tr>\n",
       "  </thead>\n",
       "  <tbody>\n",
       "    <tr>\n",
       "      <th>89</th>\n",
       "      <td>nice</td>\n",
       "      <td>4999</td>\n",
       "    </tr>\n",
       "    <tr>\n",
       "      <th>44</th>\n",
       "      <td>chocolate</td>\n",
       "      <td>2051</td>\n",
       "    </tr>\n",
       "    <tr>\n",
       "      <th>172</th>\n",
       "      <td>definitely</td>\n",
       "      <td>1488</td>\n",
       "    </tr>\n",
       "    <tr>\n",
       "      <th>54</th>\n",
       "      <td>found</td>\n",
       "      <td>1431</td>\n",
       "    </tr>\n",
       "    <tr>\n",
       "      <th>100</th>\n",
       "      <td>tasted</td>\n",
       "      <td>1401</td>\n",
       "    </tr>\n",
       "  </tbody>\n",
       "</table>\n",
       "</div>"
      ],
      "text/plain": [
       "           word  frequency\n",
       "89         nice       4999\n",
       "44    chocolate       2051\n",
       "172  definitely       1488\n",
       "54        found       1431\n",
       "100      tasted       1401"
      ]
     },
     "execution_count": 29,
     "metadata": {},
     "output_type": "execute_result"
    }
   ],
   "source": [
    "frequencies.sort_values(by='frequency',ascending=False,inplace=True)\n",
    "frequencies.head()"
   ]
  },
  {
   "cell_type": "code",
   "execution_count": 30,
   "metadata": {},
   "outputs": [
    {
     "name": "stdout",
     "output_type": "stream",
     "text": [
      "The word frequency which represents the 80th percentile is 9.0\n"
     ]
    }
   ],
   "source": [
    "print(\"The word frequency which represents the 80th percentile is {}\".format(frequencies.frequency.quantile(0.8)))"
   ]
  },
  {
   "cell_type": "code",
   "execution_count": 31,
   "metadata": {},
   "outputs": [],
   "source": [
    "my_num_words=len(frequencies[frequencies.frequency>=9])+1"
   ]
  },
  {
   "cell_type": "code",
   "execution_count": 32,
   "metadata": {},
   "outputs": [
    {
     "data": {
      "text/plain": [
       "2577"
      ]
     },
     "execution_count": 32,
     "metadata": {},
     "output_type": "execute_result"
    }
   ],
   "source": [
    "my_num_words"
   ]
  },
  {
   "cell_type": "markdown",
   "metadata": {},
   "source": [
    "_Now I will create tokenizers, to check if I am using ```num_words```correctly._"
   ]
  },
  {
   "cell_type": "code",
   "execution_count": 33,
   "metadata": {},
   "outputs": [],
   "source": [
    "tokenizer_initial=Tokenizer()"
   ]
  },
  {
   "cell_type": "code",
   "execution_count": 34,
   "metadata": {},
   "outputs": [],
   "source": [
    "tokenizer_initial.fit_on_texts(X_train)"
   ]
  },
  {
   "cell_type": "code",
   "execution_count": 35,
   "metadata": {},
   "outputs": [],
   "source": [
    "X_train_tokens_initial=tokenizer_initial.texts_to_sequences(X_train)"
   ]
  },
  {
   "cell_type": "code",
   "execution_count": 36,
   "metadata": {},
   "outputs": [],
   "source": [
    "import numpy as np"
   ]
  },
  {
   "cell_type": "code",
   "execution_count": 37,
   "metadata": {},
   "outputs": [],
   "source": [
    "my_max_len=np.max([len(x) for x in X_train_tokens_initial])"
   ]
  },
  {
   "cell_type": "code",
   "execution_count": 38,
   "metadata": {},
   "outputs": [],
   "source": [
    "tokenizer=Tokenizer(num_words=my_num_words)"
   ]
  },
  {
   "cell_type": "code",
   "execution_count": 39,
   "metadata": {},
   "outputs": [],
   "source": [
    "tokenizer.fit_on_texts(X_train)"
   ]
  },
  {
   "cell_type": "code",
   "execution_count": 40,
   "metadata": {},
   "outputs": [],
   "source": [
    "X_train_tokens=tokenizer.texts_to_sequences(X_train)"
   ]
  },
  {
   "cell_type": "code",
   "execution_count": 41,
   "metadata": {},
   "outputs": [],
   "source": [
    "train_sequences=pad_sequences(X_train_tokens,maxlen=my_max_len)"
   ]
  },
  {
   "cell_type": "code",
   "execution_count": 42,
   "metadata": {},
   "outputs": [],
   "source": [
    "test_sequences=pad_sequences(tokenizer.texts_to_sequences(X_test),maxlen=my_max_len)"
   ]
  },
  {
   "cell_type": "code",
   "execution_count": 43,
   "metadata": {},
   "outputs": [
    {
     "data": {
      "text/plain": [
       "(4000, 1018)"
      ]
     },
     "execution_count": 43,
     "metadata": {},
     "output_type": "execute_result"
    }
   ],
   "source": [
    "train_sequences.shape"
   ]
  },
  {
   "cell_type": "code",
   "execution_count": 44,
   "metadata": {
    "scrolled": true
   },
   "outputs": [
    {
     "data": {
      "text/plain": [
       "(1000, 1018)"
      ]
     },
     "execution_count": 44,
     "metadata": {},
     "output_type": "execute_result"
    }
   ],
   "source": [
    "test_sequences.shape"
   ]
  },
  {
   "cell_type": "code",
   "execution_count": 45,
   "metadata": {},
   "outputs": [],
   "source": [
    "train_labels=y_train\n",
    "test_labels=y_test"
   ]
  },
  {
   "cell_type": "code",
   "execution_count": 46,
   "metadata": {},
   "outputs": [
    {
     "data": {
      "text/plain": [
       "array([[   0,    0,    0, ...,    9, 1818,   72],\n",
       "       [   0,    0,    0, ...,    4,  286, 1104],\n",
       "       [   0,    0,    0, ..., 1046,  156,   77],\n",
       "       ...,\n",
       "       [   0,    0,    0, ...,  311,   24,  151],\n",
       "       [   0,    0,    0, ...,  688,  113,   77],\n",
       "       [   0,    0,    0, ..., 2344,    3,   10]], dtype=int32)"
      ]
     },
     "execution_count": 46,
     "metadata": {},
     "output_type": "execute_result"
    }
   ],
   "source": [
    "train_sequences"
   ]
  },
  {
   "cell_type": "code",
   "execution_count": 47,
   "metadata": {},
   "outputs": [],
   "source": [
    "from keras.models import Sequential\n",
    "from keras.layers import Dense, Flatten,Embedding,GlobalMaxPooling1D"
   ]
  },
  {
   "cell_type": "markdown",
   "metadata": {},
   "source": [
    "## Building a basic neural network model \n",
    "\n",
    "Now that we have preprocessed the text, let's create a basic neural network to train on our data. We'll use an embedding layer which performs [one-hot encoding](https://machinelearningmastery.com/why-one-hot-encode-data-in-machine-learning/) on our word sequences, two fully connected (\"dense\") layers, and an output layer with 5 neurons to represent the 5 possible star ratings.\n",
    "\n",
    "Before we train a `keras` model, there is an additional `compile` step where we define what loss function and optimizer to use, and what metrics to output. Then we can train the model using the `fit` function. All of this is shown below.\n",
    "\n",
    "Note the `validation_split=0.2` argument which tells Keras to train on only 80% of the training data and tune the model on the remaining 20%, which we call the validation set. You can see the accuracy and loss for both the training and validation set in the output for each epoch:"
   ]
  },
  {
   "cell_type": "code",
   "execution_count": 48,
   "metadata": {},
   "outputs": [
    {
     "data": {
      "text/plain": [
       "1018"
      ]
     },
     "execution_count": 48,
     "metadata": {},
     "output_type": "execute_result"
    }
   ],
   "source": [
    "train_sequences.shape[1]"
   ]
  },
  {
   "cell_type": "markdown",
   "metadata": {},
   "source": [
    "_I will leave this section as the original requirement:_"
   ]
  },
  {
   "cell_type": "markdown",
   "metadata": {},
   "source": [
    "```\n",
    "model = Sequential()\n",
    "model.add(Embedding(20000, 128, input_length=500))\n",
    "model.add(Dense(128, activation='relu'))\n",
    "model.add(Dense(128, activation='relu'))\n",
    "model.add(GlobalMaxPooling1D())\n",
    "model.add(Dense(5, activation='sigmoid'))\n",
    "model.compile(loss='sparse_categorical_crossentropy', optimizer='adam', metrics=['accuracy'])\n",
    "model.fit(train_sequences, labels, validation_split=0.2, epochs=10)\n",
    "\n",
    "```"
   ]
  },
  {
   "cell_type": "markdown",
   "metadata": {},
   "source": [
    "_My (hyper)parameters are different, since I did some adjustment and cleanindg._"
   ]
  },
  {
   "cell_type": "markdown",
   "metadata": {},
   "source": [
    "### Exercise 3: (10 min)\n",
    "\n",
    "How well does this model perform? How does this compare to a baseline expectation? What do you notice about the accuracy and loss values for both the validation and training sets over time and what does this mean?"
   ]
  },
  {
   "cell_type": "markdown",
   "metadata": {},
   "source": [
    "**Answer.**"
   ]
  },
  {
   "cell_type": "markdown",
   "metadata": {},
   "source": [
    "_I will change the structure a littel bit to haver ```history```. Also, I changed the last step activation function to ```softmax.```_"
   ]
  },
  {
   "cell_type": "code",
   "execution_count": 49,
   "metadata": {},
   "outputs": [
    {
     "name": "stdout",
     "output_type": "stream",
     "text": [
      "WARNING:tensorflow:From /Users/ggoni/anaconda3/envs/extended_case_7/lib/python3.7/site-packages/tensorflow/python/ops/resource_variable_ops.py:435: colocate_with (from tensorflow.python.framework.ops) is deprecated and will be removed in a future version.\n",
      "Instructions for updating:\n",
      "Colocations handled automatically by placer.\n",
      "Model: \"sequential_1\"\n",
      "_________________________________________________________________\n",
      "Layer (type)                 Output Shape              Param #   \n",
      "=================================================================\n",
      "embedding_1 (Embedding)      (None, 1018, 128)         460800    \n",
      "_________________________________________________________________\n",
      "dense_1 (Dense)              (None, 1018, 128)         16512     \n",
      "_________________________________________________________________\n",
      "dense_2 (Dense)              (None, 1018, 128)         16512     \n",
      "_________________________________________________________________\n",
      "global_max_pooling1d_1 (Glob (None, 128)               0         \n",
      "_________________________________________________________________\n",
      "dense_3 (Dense)              (None, 5)                 645       \n",
      "=================================================================\n",
      "Total params: 494,469\n",
      "Trainable params: 494,469\n",
      "Non-trainable params: 0\n",
      "_________________________________________________________________\n"
     ]
    },
    {
     "name": "stderr",
     "output_type": "stream",
     "text": [
      "/Users/ggoni/anaconda3/envs/extended_case_7/lib/python3.7/site-packages/keras/engine/sequential.py:111: UserWarning: `Sequential.model` is deprecated. `Sequential` is a subclass of `Model`, you can just use your `Sequential` instance directly.\n",
      "  warnings.warn('`Sequential.model` is deprecated. '\n"
     ]
    }
   ],
   "source": [
    "model = Sequential()\n",
    "model.add(Embedding(3600, 128, input_length=train_sequences.shape[1]))\n",
    "model.add(Dense(128, activation='relu'))\n",
    "model.add(Dense(128, activation='relu'))\n",
    "model.add(GlobalMaxPooling1D())\n",
    "model.add(Dense(5, activation='softmax'))\n",
    "model.compile(loss='sparse_categorical_crossentropy', optimizer='adam', metrics=['accuracy'])\n",
    "model.model.summary()"
   ]
  },
  {
   "cell_type": "code",
   "execution_count": 50,
   "metadata": {},
   "outputs": [
    {
     "name": "stdout",
     "output_type": "stream",
     "text": [
      "WARNING:tensorflow:From /Users/ggoni/anaconda3/envs/extended_case_7/lib/python3.7/site-packages/tensorflow/python/ops/math_ops.py:3066: to_int32 (from tensorflow.python.ops.math_ops) is deprecated and will be removed in a future version.\n",
      "Instructions for updating:\n",
      "Use tf.cast instead.\n",
      "WARNING:tensorflow:From /Users/ggoni/anaconda3/envs/extended_case_7/lib/python3.7/site-packages/tensorflow/python/ops/math_grad.py:102: div (from tensorflow.python.ops.math_ops) is deprecated and will be removed in a future version.\n",
      "Instructions for updating:\n",
      "Deprecated in favor of operator or tf.math.divide.\n",
      "Train on 3200 samples, validate on 800 samples\n",
      "Epoch 1/10\n",
      "3200/3200 [==============================] - 17s 5ms/step - loss: 1.5716 - accuracy: 0.3103 - val_loss: 1.5000 - val_accuracy: 0.3550\n",
      "Epoch 2/10\n",
      "3200/3200 [==============================] - 14s 4ms/step - loss: 1.3243 - accuracy: 0.4700 - val_loss: 1.3280 - val_accuracy: 0.4187\n",
      "Epoch 3/10\n",
      "3200/3200 [==============================] - 14s 4ms/step - loss: 1.0545 - accuracy: 0.5875 - val_loss: 1.3306 - val_accuracy: 0.4387\n",
      "Epoch 4/10\n",
      "3200/3200 [==============================] - 14s 4ms/step - loss: 0.8154 - accuracy: 0.7131 - val_loss: 1.4235 - val_accuracy: 0.4187\n",
      "Epoch 5/10\n",
      "3200/3200 [==============================] - 17s 5ms/step - loss: 0.6112 - accuracy: 0.7994 - val_loss: 1.5131 - val_accuracy: 0.4175\n",
      "Epoch 6/10\n",
      "3200/3200 [==============================] - 18s 6ms/step - loss: 0.4305 - accuracy: 0.8737 - val_loss: 1.6590 - val_accuracy: 0.4275\n",
      "Epoch 7/10\n",
      "3200/3200 [==============================] - 15s 5ms/step - loss: 0.2882 - accuracy: 0.9266 - val_loss: 1.9072 - val_accuracy: 0.4238\n",
      "Epoch 8/10\n",
      "3200/3200 [==============================] - 14s 4ms/step - loss: 0.1850 - accuracy: 0.9684 - val_loss: 2.0964 - val_accuracy: 0.4263\n",
      "Epoch 9/10\n",
      "3200/3200 [==============================] - 14s 4ms/step - loss: 0.1162 - accuracy: 0.9869 - val_loss: 2.2682 - val_accuracy: 0.4238\n",
      "Epoch 10/10\n",
      "3200/3200 [==============================] - 13s 4ms/step - loss: 0.0697 - accuracy: 0.9953 - val_loss: 2.4747 - val_accuracy: 0.4212\n"
     ]
    }
   ],
   "source": [
    "\n",
    "history = model.fit(train_sequences,train_labels,\n",
    "                    epochs=10,\n",
    "                    batch_size=32,\n",
    "                    validation_split=0.2)"
   ]
  },
  {
   "cell_type": "code",
   "execution_count": 51,
   "metadata": {},
   "outputs": [
    {
     "data": {
      "image/png": "[encoded data removed]",
      "text/plain": [
       "<Figure size 1008x432 with 2 Axes>"
      ]
     },
     "metadata": {},
     "output_type": "display_data"
    }
   ],
   "source": [
    "acc = history.history['accuracy']\n",
    "val_acc = history.history['val_accuracy'] \n",
    "loss = history.history['loss'] \n",
    "val_loss = history.history['val_loss']\n",
    "epochs = range(1, len(acc) + 1)\n",
    "\n",
    "\n",
    "\n",
    "fig, (ax0, ax1) = plt.subplots(nrows=1,ncols=2, sharey=False, figsize=(14,6))\n",
    "ax0.plot(epochs,acc,'b',label='Training Accuracy',color='red')\n",
    "ax0.plot(epochs,val_acc,'bo',label='Validation Accuracy',color='red')\n",
    "ax0.set(title='Training and Validation Accuracy', xlabel='Epoch', ylabel='Accuracy')\n",
    "ax0.legend(loc='right',facecolor='white')\n",
    "\n",
    "ax1.plot(epochs,loss,'b',label='Training Loss',color='red')\n",
    "ax1.plot(epochs,val_loss,'bo',label='Validation Loss',color='red')\n",
    "ax1.set(title='Training and Validation Loss', xlabel='Epoch', ylabel='Loss')\n",
    "ax1.legend(loc='right',facecolor='white');"
   ]
  },
  {
   "cell_type": "markdown",
   "metadata": {},
   "source": [
    "_It seems that this model tends to overfit on the training sequences, as it is not fitting very well to predict on the validation sets in each epoch._"
   ]
  },
  {
   "cell_type": "markdown",
   "metadata": {},
   "source": [
    "_Note that the prediction for each class in the test -just for a reference - would set gives us:_"
   ]
  },
  {
   "cell_type": "code",
   "execution_count": 52,
   "metadata": {},
   "outputs": [
    {
     "data": {
      "text/plain": [
       "0    0.21225\n",
       "4    0.19975\n",
       "3    0.19775\n",
       "1    0.19625\n",
       "2    0.19400\n",
       "dtype: float64"
      ]
     },
     "execution_count": 52,
     "metadata": {},
     "output_type": "execute_result"
    }
   ],
   "source": [
    "pd.Series(model.predict_classes(train_sequences)).value_counts(normalize=True)"
   ]
  },
  {
   "cell_type": "code",
   "execution_count": 53,
   "metadata": {},
   "outputs": [],
   "source": [
    "from sklearn.metrics import accuracy_score,confusion_matrix"
   ]
  },
  {
   "cell_type": "code",
   "execution_count": 54,
   "metadata": {},
   "outputs": [
    {
     "data": {
      "text/plain": [
       "array([[111,  36,  20,  14,   9],\n",
       "       [ 44,  86,  36,  23,  21],\n",
       "       [ 25,  43,  66,  32,  26],\n",
       "       [ 11,  23,  42,  75,  41],\n",
       "       [  7,   9,  21,  57, 122]])"
      ]
     },
     "execution_count": 54,
     "metadata": {},
     "output_type": "execute_result"
    }
   ],
   "source": [
    "pred_test_labels=model.predict_classes(test_sequences)\n",
    "confusion_matrix(test_labels,pred_test_labels)"
   ]
  },
  {
   "cell_type": "code",
   "execution_count": 55,
   "metadata": {},
   "outputs": [
    {
     "name": "stdout",
     "output_type": "stream",
     "text": [
      "The accuracy score is 0.4600\n"
     ]
    }
   ],
   "source": [
    "print(\"The accuracy score is {:.4f}\".format(accuracy_score(test_labels,pred_test_labels)))"
   ]
  },
  {
   "cell_type": "markdown",
   "metadata": {},
   "source": [
    "_Just to compare, supose we randomly assign a label between 0 and 4 (1 and 5 originally). If we would assign a random label, we would obtain an accuracy of ~20%:_"
   ]
  },
  {
   "cell_type": "code",
   "execution_count": 56,
   "metadata": {},
   "outputs": [],
   "source": [
    "np.random.seed(42)\n",
    "acc_random=[]\n",
    "for i in range(10000):\n",
    "    random_labels=np.random.randint(0,5,1000).reshape(-1,1)\n",
    "    acc_random.append(accuracy_score(test_labels, random_labels))\n",
    "\n"
   ]
  },
  {
   "cell_type": "code",
   "execution_count": 57,
   "metadata": {},
   "outputs": [
    {
     "name": "stdout",
     "output_type": "stream",
     "text": [
      "The mean accuracy for a'random labeler' would be: 0.2000\n"
     ]
    }
   ],
   "source": [
    "print(\"The mean accuracy for a'random labeler' would be: {:.4f}\".format(round(np.mean(acc_random),2)))"
   ]
  },
  {
   "cell_type": "markdown",
   "metadata": {},
   "source": [
    "_Our model more than doubles a random guess, but could still leave room for improvement._"
   ]
  },
  {
   "cell_type": "markdown",
   "metadata": {},
   "source": [
    "\n",
    "## Experimenting with different regularization strategies\n",
    "\n",
    "There are many different ways to mitigate overfitting in a neural network, collectively known as *regularization* techniques. One common regularization technique is called [Dropout](https://www.tensorflow.org/api_docs/python/tf/keras/layers/Dropout). "
   ]
  },
  {
   "cell_type": "markdown",
   "metadata": {},
   "source": [
    "### Exercise 4: (25 min)\n",
    "\n",
    "Modify the neural network definition above to try and fix the overfitting problem using Dropout. Explain the configuration that you tried and your results. Why do you think your modifications were or were not able to mitigate the overfitting problem?"
   ]
  },
  {
   "cell_type": "markdown",
   "metadata": {},
   "source": [
    "**Answer.**"
   ]
  },
  {
   "cell_type": "markdown",
   "metadata": {},
   "source": [
    "_I am going to use 40% and 20% Dropout rates in the hidden layers for a start:_"
   ]
  },
  {
   "cell_type": "code",
   "execution_count": 58,
   "metadata": {},
   "outputs": [],
   "source": [
    "from keras.layers import Dropout"
   ]
  },
  {
   "cell_type": "code",
   "execution_count": 59,
   "metadata": {},
   "outputs": [
    {
     "name": "stdout",
     "output_type": "stream",
     "text": [
      "Model: \"sequential_2\"\n",
      "_________________________________________________________________\n",
      "Layer (type)                 Output Shape              Param #   \n",
      "=================================================================\n",
      "embedding_2 (Embedding)      (None, 1018, 128)         460800    \n",
      "_________________________________________________________________\n",
      "dropout_1 (Dropout)          (None, 1018, 128)         0         \n",
      "_________________________________________________________________\n",
      "dense_4 (Dense)              (None, 1018, 128)         16512     \n",
      "_________________________________________________________________\n",
      "dropout_2 (Dropout)          (None, 1018, 128)         0         \n",
      "_________________________________________________________________\n",
      "dense_5 (Dense)              (None, 1018, 128)         16512     \n",
      "_________________________________________________________________\n",
      "global_max_pooling1d_2 (Glob (None, 128)               0         \n",
      "_________________________________________________________________\n",
      "dense_6 (Dense)              (None, 5)                 645       \n",
      "=================================================================\n",
      "Total params: 494,469\n",
      "Trainable params: 494,469\n",
      "Non-trainable params: 0\n",
      "_________________________________________________________________\n"
     ]
    }
   ],
   "source": [
    "model_dropout = Sequential()\n",
    "model_dropout.add(Embedding(3600, 128, input_length=train_sequences.shape[1]))\n",
    "model_dropout.add(Dropout(0.2))\n",
    "model_dropout.add(Dense(128, activation='relu'))\n",
    "model_dropout.add(Dropout(0.4))\n",
    "model_dropout.add(Dense(128, activation='relu'))\n",
    "model_dropout.add(GlobalMaxPooling1D())\n",
    "model_dropout.add(Dense(5, activation='softmax'))\n",
    "model_dropout.compile(loss='sparse_categorical_crossentropy', optimizer='adam', metrics=['accuracy'])\n",
    "model_dropout.model.summary()"
   ]
  },
  {
   "cell_type": "code",
   "execution_count": 60,
   "metadata": {},
   "outputs": [
    {
     "name": "stdout",
     "output_type": "stream",
     "text": [
      "Train on 3200 samples, validate on 800 samples\n",
      "Epoch 1/10\n",
      "3200/3200 [==============================] - 17s 5ms/step - loss: 1.6011 - accuracy: 0.2434 - val_loss: 1.5847 - val_accuracy: 0.2475\n",
      "Epoch 2/10\n",
      "3200/3200 [==============================] - 17s 5ms/step - loss: 1.5289 - accuracy: 0.3266 - val_loss: 1.4849 - val_accuracy: 0.3600\n",
      "Epoch 3/10\n",
      "3200/3200 [==============================] - 17s 5ms/step - loss: 1.3549 - accuracy: 0.4197 - val_loss: 1.3755 - val_accuracy: 0.3950\n",
      "Epoch 4/10\n",
      "3200/3200 [==============================] - 17s 5ms/step - loss: 1.1944 - accuracy: 0.4994 - val_loss: 1.3446 - val_accuracy: 0.4238\n",
      "Epoch 5/10\n",
      "3200/3200 [==============================] - 17s 5ms/step - loss: 1.0513 - accuracy: 0.5622 - val_loss: 1.3521 - val_accuracy: 0.4300\n",
      "Epoch 6/10\n",
      "3200/3200 [==============================] - 17s 5ms/step - loss: 0.9426 - accuracy: 0.6359 - val_loss: 1.4325 - val_accuracy: 0.4187\n",
      "Epoch 7/10\n",
      "3200/3200 [==============================] - 17s 5ms/step - loss: 0.8464 - accuracy: 0.6800 - val_loss: 1.4717 - val_accuracy: 0.4150\n",
      "Epoch 8/10\n",
      "3200/3200 [==============================] - 18s 5ms/step - loss: 0.7655 - accuracy: 0.7141 - val_loss: 1.5733 - val_accuracy: 0.4087\n",
      "Epoch 9/10\n",
      "3200/3200 [==============================] - 17s 5ms/step - loss: 0.6766 - accuracy: 0.7528 - val_loss: 1.6924 - val_accuracy: 0.3950\n",
      "Epoch 10/10\n",
      "3200/3200 [==============================] - 17s 5ms/step - loss: 0.6183 - accuracy: 0.7713 - val_loss: 1.7517 - val_accuracy: 0.4075\n"
     ]
    }
   ],
   "source": [
    "history_dropout = model_dropout.fit(train_sequences,train_labels,\n",
    "                    epochs=10,\n",
    "                    batch_size=32,\n",
    "                    validation_split=0.2)"
   ]
  },
  {
   "cell_type": "code",
   "execution_count": 61,
   "metadata": {},
   "outputs": [
    {
     "data": {
      "image/png": "[encoded data removed]",
      "text/plain": [
       "<Figure size 1008x432 with 2 Axes>"
      ]
     },
     "metadata": {},
     "output_type": "display_data"
    }
   ],
   "source": [
    "acc = history_dropout.history['accuracy']\n",
    "val_acc = history_dropout.history['val_accuracy'] \n",
    "loss = history_dropout.history['loss'] \n",
    "val_loss = history_dropout.history['val_loss']\n",
    "epochs = range(1, len(acc) + 1)\n",
    "\n",
    "\n",
    "\n",
    "fig, (ax0, ax1) = plt.subplots(nrows=1,ncols=2, sharey=False, figsize=(14,6))\n",
    "ax0.plot(epochs,acc,'b',label='Training',color='red')\n",
    "ax0.plot(epochs,val_acc,'bo',label='Validation',color='red')\n",
    "ax0.set(title='Training and Validation Accuracy', xlabel='Epoch', ylabel='Accuracy')\n",
    "ax0.legend(loc='right',facecolor='white')\n",
    "\n",
    "ax1.plot(epochs,loss,'b',label='Training ',color='red')\n",
    "ax1.plot(epochs,val_loss,'bo',label='Validation',color='red')\n",
    "ax1.set(title='Training and Validation Loss', xlabel='Epoch', ylabel='Loss')\n",
    "ax1.legend(loc='right',facecolor='white');"
   ]
  },
  {
   "cell_type": "code",
   "execution_count": 62,
   "metadata": {},
   "outputs": [],
   "source": [
    "pred_test_wd_labels=model_dropout.predict_classes(test_sequences)"
   ]
  },
  {
   "cell_type": "markdown",
   "metadata": {},
   "source": [
    "_It seems that the model is not overfitting as much as the first version, but neither is improving its capability to predict on a validation set. Also, it seems that after epoch 4 it does not have any sense to keep fitting._"
   ]
  },
  {
   "cell_type": "markdown",
   "metadata": {},
   "source": [
    "\n",
    "\n",
    "### Exercise 5: (45 min)\n",
    "\n",
    "Keras allows you to add [L1](https://www.tensorflow.org/api_docs/python/tf/keras/regularizers/l1), [L2](https://www.tensorflow.org/api_docs/python/tf/keras/regularizers/l2), or [L1 and L2](https://www.tensorflow.org/api_docs/python/tf/keras/regularizers/l1_l2) combined regularizers on individual layers by passing in the `kernel_regularizer`, `bias_regularizer` or `activity_regularizer` arguments. In neural networks, these regularizers work by penalizing the loss function in different ways, based on the number of weights or the size of the weights.\n",
    "\n",
    "Try 4-5 different combinations of L1, L2, L1 and L2 regularization in different combinations on different layers. In each example, explain why you tried that configuration and the results. Why do you think your modifications were or were not able to mitigate the overfitting problem?"
   ]
  },
  {
   "cell_type": "markdown",
   "metadata": {},
   "source": [
    "**Answer.**"
   ]
  },
  {
   "cell_type": "code",
   "execution_count": 63,
   "metadata": {},
   "outputs": [],
   "source": [
    "from keras.regularizers import l1,l2,l1_l2"
   ]
  },
  {
   "cell_type": "code",
   "execution_count": 64,
   "metadata": {},
   "outputs": [
    {
     "name": "stdout",
     "output_type": "stream",
     "text": [
      "Model: \"sequential_3\"\n",
      "_________________________________________________________________\n",
      "Layer (type)                 Output Shape              Param #   \n",
      "=================================================================\n",
      "embedding_3 (Embedding)      (None, 1018, 128)         460800    \n",
      "_________________________________________________________________\n",
      "dense_7 (Dense)              (None, 1018, 128)         16512     \n",
      "_________________________________________________________________\n",
      "dense_8 (Dense)              (None, 1018, 128)         16512     \n",
      "_________________________________________________________________\n",
      "global_max_pooling1d_3 (Glob (None, 128)               0         \n",
      "_________________________________________________________________\n",
      "dense_9 (Dense)              (None, 5)                 645       \n",
      "=================================================================\n",
      "Total params: 494,469\n",
      "Trainable params: 494,469\n",
      "Non-trainable params: 0\n",
      "_________________________________________________________________\n"
     ]
    }
   ],
   "source": [
    "model_reg1= Sequential()\n",
    "model_reg1.add(Embedding(3600, 128, input_length=train_sequences.shape[1]))\n",
    "model_reg1.add(Dense(128, activation='relu',kernel_regularizer=l2(0.001)))\n",
    "model_reg1.add(Dense(128, activation='relu',kernel_regularizer=l2(0.001)))\n",
    "model_reg1.add(GlobalMaxPooling1D())\n",
    "model_reg1.add(Dense(5, activation='softmax',kernel_regularizer=l2(0.001)))\n",
    "model_reg1.compile(loss='sparse_categorical_crossentropy', optimizer='adam', metrics=['accuracy'])\n",
    "model_reg1.model.summary()"
   ]
  },
  {
   "cell_type": "code",
   "execution_count": 65,
   "metadata": {
    "scrolled": true
   },
   "outputs": [
    {
     "name": "stdout",
     "output_type": "stream",
     "text": [
      "Train on 3200 samples, validate on 800 samples\n",
      "Epoch 1/10\n",
      "3200/3200 [==============================] - 13s 4ms/step - loss: 1.7699 - accuracy: 0.2775 - val_loss: 1.6745 - val_accuracy: 0.3000\n",
      "Epoch 2/10\n",
      "3200/3200 [==============================] - 13s 4ms/step - loss: 1.5422 - accuracy: 0.4041 - val_loss: 1.5093 - val_accuracy: 0.3750\n",
      "Epoch 3/10\n",
      "3200/3200 [==============================] - 13s 4ms/step - loss: 1.3320 - accuracy: 0.4847 - val_loss: 1.4899 - val_accuracy: 0.3988\n",
      "Epoch 4/10\n",
      "3200/3200 [==============================] - 13s 4ms/step - loss: 1.1674 - accuracy: 0.5600 - val_loss: 1.5328 - val_accuracy: 0.4013\n",
      "Epoch 5/10\n",
      "3200/3200 [==============================] - 13s 4ms/step - loss: 1.0376 - accuracy: 0.6394 - val_loss: 1.6174 - val_accuracy: 0.4137\n",
      "Epoch 6/10\n",
      "3200/3200 [==============================] - 13s 4ms/step - loss: 0.9158 - accuracy: 0.6947 - val_loss: 1.7461 - val_accuracy: 0.3925\n",
      "Epoch 7/10\n",
      "3200/3200 [==============================] - 13s 4ms/step - loss: 0.8005 - accuracy: 0.7575 - val_loss: 1.8770 - val_accuracy: 0.4025\n",
      "Epoch 8/10\n",
      "3200/3200 [==============================] - 13s 4ms/step - loss: 0.7123 - accuracy: 0.7887 - val_loss: 1.9946 - val_accuracy: 0.3938\n",
      "Epoch 9/10\n",
      "3200/3200 [==============================] - 13s 4ms/step - loss: 0.6341 - accuracy: 0.8247 - val_loss: 2.2132 - val_accuracy: 0.3812\n",
      "Epoch 10/10\n",
      "3200/3200 [==============================] - 13s 4ms/step - loss: 0.5724 - accuracy: 0.8581 - val_loss: 2.3429 - val_accuracy: 0.3850\n"
     ]
    }
   ],
   "source": [
    "history_reg1 = model_reg1.fit(train_sequences,train_labels,\n",
    "                    epochs=10,\n",
    "                    batch_size=32,\n",
    "                    validation_split=0.2)"
   ]
  },
  {
   "cell_type": "code",
   "execution_count": 66,
   "metadata": {},
   "outputs": [
    {
     "data": {
      "image/png": "[encoded data removed]",
      "text/plain": [
       "<Figure size 1008x432 with 2 Axes>"
      ]
     },
     "metadata": {},
     "output_type": "display_data"
    }
   ],
   "source": [
    "acc = history_reg1.history['accuracy']\n",
    "val_acc = history_reg1.history['val_accuracy'] \n",
    "loss = history_reg1.history['loss'] \n",
    "val_loss = history_reg1.history['val_loss']\n",
    "epochs = range(1, len(acc) + 1)\n",
    "\n",
    "\n",
    "\n",
    "fig, (ax0, ax1) = plt.subplots(nrows=1,ncols=2, sharey=False, figsize=(14,6))\n",
    "ax0.plot(epochs,acc,'b',label='Training',color='red')\n",
    "ax0.plot(epochs,val_acc,'bo',label='Validation',color='red')\n",
    "ax0.set(title='Training and Validation Accuracy', xlabel='Epoch', ylabel='Accuracy')\n",
    "ax0.legend(loc='right',facecolor='white')\n",
    "\n",
    "ax1.plot(epochs,loss,'b',label='Training ',color='red')\n",
    "ax1.plot(epochs,val_loss,'bo',label='Validation',color='red')\n",
    "ax1.set(title='Training and Validation Loss', xlabel='Epoch', ylabel='Loss')\n",
    "ax1.legend(loc='right',facecolor='white');"
   ]
  },
  {
   "cell_type": "markdown",
   "metadata": {},
   "source": [
    "_Trying a new second model:_"
   ]
  },
  {
   "cell_type": "code",
   "execution_count": 67,
   "metadata": {},
   "outputs": [
    {
     "name": "stdout",
     "output_type": "stream",
     "text": [
      "Model: \"sequential_4\"\n",
      "_________________________________________________________________\n",
      "Layer (type)                 Output Shape              Param #   \n",
      "=================================================================\n",
      "embedding_4 (Embedding)      (None, 1018, 128)         460800    \n",
      "_________________________________________________________________\n",
      "dense_10 (Dense)             (None, 1018, 128)         16512     \n",
      "_________________________________________________________________\n",
      "dense_11 (Dense)             (None, 1018, 128)         16512     \n",
      "_________________________________________________________________\n",
      "global_max_pooling1d_4 (Glob (None, 128)               0         \n",
      "_________________________________________________________________\n",
      "dense_12 (Dense)             (None, 5)                 645       \n",
      "=================================================================\n",
      "Total params: 494,469\n",
      "Trainable params: 494,469\n",
      "Non-trainable params: 0\n",
      "_________________________________________________________________\n"
     ]
    }
   ],
   "source": [
    "model_reg2= Sequential()\n",
    "model_reg2.add(Embedding(3600, 128, input_length=train_sequences.shape[1]))\n",
    "model_reg2.add(Dense(128, activation='relu',kernel_regularizer=l2(0.01)))\n",
    "model_reg2.add(Dense(128, activation='relu',kernel_regularizer=l2(0.01)))\n",
    "model_reg2.add(GlobalMaxPooling1D())\n",
    "model_reg2.add(Dense(5, activation='softmax',kernel_regularizer=l2(0.01)))\n",
    "model_reg2.compile(loss='sparse_categorical_crossentropy', optimizer='adam', metrics=['accuracy'])\n",
    "model_reg2.model.summary()"
   ]
  },
  {
   "cell_type": "code",
   "execution_count": 68,
   "metadata": {},
   "outputs": [
    {
     "name": "stdout",
     "output_type": "stream",
     "text": [
      "Train on 3200 samples, validate on 800 samples\n",
      "Epoch 1/10\n",
      "3200/3200 [==============================] - 13s 4ms/step - loss: 0.5358 - accuracy: 0.8687 - val_loss: 2.5036 - val_accuracy: 0.3713\n",
      "Epoch 2/10\n",
      "3200/3200 [==============================] - 13s 4ms/step - loss: 0.4827 - accuracy: 0.8922 - val_loss: 2.5809 - val_accuracy: 0.3725\n",
      "Epoch 3/10\n",
      "3200/3200 [==============================] - 13s 4ms/step - loss: 0.4426 - accuracy: 0.9141 - val_loss: 2.6943 - val_accuracy: 0.3787\n",
      "Epoch 4/10\n",
      "3200/3200 [==============================] - 13s 4ms/step - loss: 0.4124 - accuracy: 0.9250 - val_loss: 2.8440 - val_accuracy: 0.3625\n",
      "Epoch 5/10\n",
      "3200/3200 [==============================] - 17s 5ms/step - loss: 0.3898 - accuracy: 0.9328 - val_loss: 2.9683 - val_accuracy: 0.3738\n",
      "Epoch 6/10\n",
      "3200/3200 [==============================] - 27s 8ms/step - loss: 0.3612 - accuracy: 0.9450 - val_loss: 3.0735 - val_accuracy: 0.3750\n",
      "Epoch 7/10\n",
      "3200/3200 [==============================] - 16s 5ms/step - loss: 0.3479 - accuracy: 0.9503 - val_loss: 3.2019 - val_accuracy: 0.3887\n",
      "Epoch 8/10\n",
      "3200/3200 [==============================] - 13s 4ms/step - loss: 0.3308 - accuracy: 0.9569 - val_loss: 3.3127 - val_accuracy: 0.3688\n",
      "Epoch 9/10\n",
      "3200/3200 [==============================] - 15s 5ms/step - loss: 0.3139 - accuracy: 0.9666 - val_loss: 3.3684 - val_accuracy: 0.3713\n",
      "Epoch 10/10\n",
      "3200/3200 [==============================] - 17s 5ms/step - loss: 0.2974 - accuracy: 0.9694 - val_loss: 3.4848 - val_accuracy: 0.3700\n"
     ]
    }
   ],
   "source": [
    "history_reg2 = model_reg1.fit(train_sequences,train_labels,\n",
    "                    epochs=10,\n",
    "                    batch_size=32,\n",
    "                    validation_split=0.2)"
   ]
  },
  {
   "cell_type": "code",
   "execution_count": 69,
   "metadata": {},
   "outputs": [
    {
     "data": {
      "image/png": "[encoded data removed]",
      "text/plain": [
       "<Figure size 1008x432 with 2 Axes>"
      ]
     },
     "metadata": {},
     "output_type": "display_data"
    }
   ],
   "source": [
    "acc = history_reg2.history['accuracy']\n",
    "val_acc = history_reg2.history['val_accuracy'] \n",
    "loss = history_reg2.history['loss'] \n",
    "val_loss = history_reg2.history['val_loss']\n",
    "epochs = range(1, len(acc) + 1)\n",
    "\n",
    "\n",
    "\n",
    "fig, (ax0, ax1) = plt.subplots(nrows=1,ncols=2, sharey=False, figsize=(14,6))\n",
    "ax0.plot(epochs,acc,'b',label='Training',color='red')\n",
    "ax0.plot(epochs,val_acc,'bo',label='Validation',color='red')\n",
    "ax0.set(title='Training and Validation Accuracy', xlabel='Epoch', ylabel='Accuracy')\n",
    "ax0.legend(loc='right',facecolor='white')\n",
    "\n",
    "ax1.plot(epochs,loss,'b',label='Training ',color='red')\n",
    "ax1.plot(epochs,val_loss,'bo',label='Validation',color='red')\n",
    "ax1.set(title='Training and Validation Loss', xlabel='Epoch', ylabel='Loss')\n",
    "ax1.legend(loc='right',facecolor='white');"
   ]
  },
  {
   "cell_type": "markdown",
   "metadata": {},
   "source": [
    "_Changing regularizers for a third model:_"
   ]
  },
  {
   "cell_type": "code",
   "execution_count": 70,
   "metadata": {},
   "outputs": [
    {
     "name": "stdout",
     "output_type": "stream",
     "text": [
      "Model: \"sequential_5\"\n",
      "_________________________________________________________________\n",
      "Layer (type)                 Output Shape              Param #   \n",
      "=================================================================\n",
      "embedding_5 (Embedding)      (None, 1018, 128)         460800    \n",
      "_________________________________________________________________\n",
      "dense_13 (Dense)             (None, 1018, 128)         16512     \n",
      "_________________________________________________________________\n",
      "dense_14 (Dense)             (None, 1018, 128)         16512     \n",
      "_________________________________________________________________\n",
      "global_max_pooling1d_5 (Glob (None, 128)               0         \n",
      "_________________________________________________________________\n",
      "dense_15 (Dense)             (None, 5)                 645       \n",
      "=================================================================\n",
      "Total params: 494,469\n",
      "Trainable params: 494,469\n",
      "Non-trainable params: 0\n",
      "_________________________________________________________________\n"
     ]
    }
   ],
   "source": [
    "model_reg3= Sequential()\n",
    "model_reg3.add(Embedding(3600, 128, input_length=train_sequences.shape[1]))\n",
    "model_reg3.add(Dense(128, activation='relu',kernel_regularizer=l1(0.01)))\n",
    "model_reg3.add(Dense(128, activation='relu',kernel_regularizer=l1(0.01)))\n",
    "model_reg3.add(GlobalMaxPooling1D())\n",
    "model_reg3.add(Dense(5, activation='softmax',kernel_regularizer=l1(0.01)))\n",
    "model_reg3.compile(loss='sparse_categorical_crossentropy', optimizer='adam', metrics=['accuracy'])\n",
    "model_reg3.model.summary()"
   ]
  },
  {
   "cell_type": "code",
   "execution_count": 71,
   "metadata": {},
   "outputs": [
    {
     "name": "stdout",
     "output_type": "stream",
     "text": [
      "Train on 3200 samples, validate on 800 samples\n",
      "Epoch 1/10\n",
      "3200/3200 [==============================] - 14s 4ms/step - loss: 14.4940 - accuracy: 0.2181 - val_loss: 4.9682 - val_accuracy: 0.2025\n",
      "Epoch 2/10\n",
      "3200/3200 [==============================] - 13s 4ms/step - loss: 2.3425 - accuracy: 0.1925 - val_loss: 1.6581 - val_accuracy: 0.1988\n",
      "Epoch 3/10\n",
      "3200/3200 [==============================] - 13s 4ms/step - loss: 1.6520 - accuracy: 0.2034 - val_loss: 1.6510 - val_accuracy: 0.1988\n",
      "Epoch 4/10\n",
      "3200/3200 [==============================] - 13s 4ms/step - loss: 1.6512 - accuracy: 0.2034 - val_loss: 1.6508 - val_accuracy: 0.1988\n",
      "Epoch 5/10\n",
      "3200/3200 [==============================] - 13s 4ms/step - loss: 1.6511 - accuracy: 0.1963 - val_loss: 1.6511 - val_accuracy: 0.1988\n",
      "Epoch 6/10\n",
      "3200/3200 [==============================] - 13s 4ms/step - loss: 1.6512 - accuracy: 0.2034 - val_loss: 1.6510 - val_accuracy: 0.1988\n",
      "Epoch 7/10\n",
      "3200/3200 [==============================] - 13s 4ms/step - loss: 1.6511 - accuracy: 0.2034 - val_loss: 1.6508 - val_accuracy: 0.1988\n",
      "Epoch 8/10\n",
      "3200/3200 [==============================] - 13s 4ms/step - loss: 1.6511 - accuracy: 0.2034 - val_loss: 1.6511 - val_accuracy: 0.1988\n",
      "Epoch 9/10\n",
      "3200/3200 [==============================] - 13s 4ms/step - loss: 1.6511 - accuracy: 0.2034 - val_loss: 1.6509 - val_accuracy: 0.1988\n",
      "Epoch 10/10\n",
      "3200/3200 [==============================] - 13s 4ms/step - loss: 1.6511 - accuracy: 0.2034 - val_loss: 1.6509 - val_accuracy: 0.1988\n"
     ]
    }
   ],
   "source": [
    "history_reg3 = model_reg3.fit(train_sequences,train_labels,\n",
    "                    epochs=10,\n",
    "                    batch_size=32,\n",
    "                    validation_split=0.2)"
   ]
  },
  {
   "cell_type": "code",
   "execution_count": 72,
   "metadata": {},
   "outputs": [
    {
     "data": {
      "image/png": "[encoded data removed]",
      "text/plain": [
       "<Figure size 1008x432 with 2 Axes>"
      ]
     },
     "metadata": {},
     "output_type": "display_data"
    }
   ],
   "source": [
    "acc = history_reg3.history['accuracy']\n",
    "val_acc = history_reg3.history['val_accuracy'] \n",
    "loss = history_reg3.history['loss'] \n",
    "val_loss = history_reg3.history['val_loss']\n",
    "epochs = range(1, len(acc) + 1)\n",
    "\n",
    "\n",
    "\n",
    "fig, (ax0, ax1) = plt.subplots(nrows=1,ncols=2, sharey=False, figsize=(14,6))\n",
    "ax0.plot(epochs,acc,'b',label='Training',color='red')\n",
    "ax0.plot(epochs,val_acc,'bo',label='Validation',color='red')\n",
    "ax0.set(title='Training and Validation Accuracy', xlabel='Epoch', ylabel='Accuracy')\n",
    "ax0.legend(loc='right',facecolor='white')\n",
    "\n",
    "ax1.plot(epochs,loss,'b',label='Training ',color='red')\n",
    "ax1.plot(epochs,val_loss,'bo',label='Validation',color='red')\n",
    "ax1.set(title='Training and Validation Loss', xlabel='Epoch', ylabel='Loss')\n",
    "ax1.legend(loc='right',facecolor='white');"
   ]
  },
  {
   "cell_type": "markdown",
   "metadata": {},
   "source": [
    "_And It seems that l1 regularization parameter is too high. Going for a fourth model:_"
   ]
  },
  {
   "cell_type": "code",
   "execution_count": 73,
   "metadata": {},
   "outputs": [
    {
     "name": "stdout",
     "output_type": "stream",
     "text": [
      "Model: \"sequential_6\"\n",
      "_________________________________________________________________\n",
      "Layer (type)                 Output Shape              Param #   \n",
      "=================================================================\n",
      "embedding_6 (Embedding)      (None, 1018, 128)         460800    \n",
      "_________________________________________________________________\n",
      "dense_16 (Dense)             (None, 1018, 128)         16512     \n",
      "_________________________________________________________________\n",
      "dense_17 (Dense)             (None, 1018, 128)         16512     \n",
      "_________________________________________________________________\n",
      "global_max_pooling1d_6 (Glob (None, 128)               0         \n",
      "_________________________________________________________________\n",
      "dense_18 (Dense)             (None, 5)                 645       \n",
      "=================================================================\n",
      "Total params: 494,469\n",
      "Trainable params: 494,469\n",
      "Non-trainable params: 0\n",
      "_________________________________________________________________\n"
     ]
    }
   ],
   "source": [
    "model_reg4= Sequential()\n",
    "model_reg4.add(Embedding(3600, 128, input_length=train_sequences.shape[1]))\n",
    "model_reg4.add(Dense(128, activation='relu',activity_regularizer=l2(0.05),\n",
    "                     kernel_regularizer=l1_l2(0.001,0.01)))\n",
    "model_reg4.add(Dense(128, activation='relu',activity_regularizer=l2(0.05),\n",
    "                     kernel_regularizer=l1_l2(0.001,0.01)))\n",
    "model_reg4.add(GlobalMaxPooling1D())\n",
    "model_reg4.add(Dense(5, activation='softmax',kernel_regularizer=l1_l2(0.001,0.01)))\n",
    "model_reg4.compile(loss='sparse_categorical_crossentropy', optimizer='adam', metrics=['accuracy'])\n",
    "model_reg4.model.summary()"
   ]
  },
  {
   "cell_type": "code",
   "execution_count": 74,
   "metadata": {},
   "outputs": [
    {
     "name": "stdout",
     "output_type": "stream",
     "text": [
      "Train on 3200 samples, validate on 800 samples\n",
      "Epoch 1/10\n",
      "3200/3200 [==============================] - 15s 5ms/step - loss: 9.0841 - accuracy: 0.1925 - val_loss: 4.4125 - val_accuracy: 0.1988\n",
      "Epoch 2/10\n",
      "3200/3200 [==============================] - 14s 4ms/step - loss: 3.9298 - accuracy: 0.1947 - val_loss: 3.6103 - val_accuracy: 0.1988\n",
      "Epoch 3/10\n",
      "3200/3200 [==============================] - 14s 5ms/step - loss: 3.4775 - accuracy: 0.1956 - val_loss: 3.3787 - val_accuracy: 0.1988\n",
      "Epoch 4/10\n",
      "3200/3200 [==============================] - 14s 4ms/step - loss: 3.3074 - accuracy: 0.1975 - val_loss: 3.2388 - val_accuracy: 0.1988\n",
      "Epoch 5/10\n",
      "3200/3200 [==============================] - 14s 4ms/step - loss: 3.1756 - accuracy: 0.1984 - val_loss: 3.1133 - val_accuracy: 0.1988\n",
      "Epoch 6/10\n",
      "3200/3200 [==============================] - 14s 4ms/step - loss: 3.0553 - accuracy: 0.2009 - val_loss: 2.9984 - val_accuracy: 0.1988\n",
      "Epoch 7/10\n",
      "3200/3200 [==============================] - 14s 4ms/step - loss: 2.9453 - accuracy: 0.2034 - val_loss: 2.8929 - val_accuracy: 0.1988\n",
      "Epoch 8/10\n",
      "3200/3200 [==============================] - 14s 4ms/step - loss: 2.8438 - accuracy: 0.2034 - val_loss: 2.7955 - val_accuracy: 0.1988\n",
      "Epoch 9/10\n",
      "3200/3200 [==============================] - 14s 5ms/step - loss: 2.7503 - accuracy: 0.2034 - val_loss: 2.7057 - val_accuracy: 0.1988\n",
      "Epoch 10/10\n",
      "3200/3200 [==============================] - 15s 5ms/step - loss: 2.6638 - accuracy: 0.1963 - val_loss: 2.6223 - val_accuracy: 0.1988\n"
     ]
    }
   ],
   "source": [
    "history_reg4 = model_reg4.fit(train_sequences,train_labels,\n",
    "                    epochs=10,\n",
    "                    batch_size=32,\n",
    "                    validation_split=0.2)"
   ]
  },
  {
   "cell_type": "code",
   "execution_count": 75,
   "metadata": {},
   "outputs": [
    {
     "data": {
      "image/png": "[encoded data removed]",
      "text/plain": [
       "<Figure size 1008x432 with 2 Axes>"
      ]
     },
     "metadata": {},
     "output_type": "display_data"
    }
   ],
   "source": [
    "acc = history_reg4.history['accuracy']\n",
    "val_acc = history_reg4.history['val_accuracy'] \n",
    "loss = history_reg4.history['loss'] \n",
    "val_loss = history_reg4.history['val_loss']\n",
    "epochs = range(1, len(acc) + 1)\n",
    "\n",
    "\n",
    "\n",
    "fig, (ax0, ax1) = plt.subplots(nrows=1,ncols=2, sharey=False, figsize=(14,6))\n",
    "ax0.plot(epochs,acc,'b',label='Training',color='red')\n",
    "ax0.plot(epochs,val_acc,'bo',label='Validation',color='red')\n",
    "ax0.set(title='Training and Validation Accuracy', xlabel='Epoch', ylabel='Accuracy')\n",
    "ax0.legend(loc='right',facecolor='white')\n",
    "\n",
    "ax1.plot(epochs,loss,'b',label='Training ',color='red')\n",
    "ax1.plot(epochs,val_loss,'bo',label='Validation',color='red')\n",
    "ax1.set(title='Training and Validation Loss', xlabel='Epoch', ylabel='Loss')\n",
    "ax1.legend(loc='right',facecolor='white');"
   ]
  },
  {
   "cell_type": "markdown",
   "metadata": {},
   "source": [
    "_None of the combinations I tried seems to work very well._"
   ]
  },
  {
   "cell_type": "markdown",
   "metadata": {},
   "source": [
    "\n",
    "\n",
    "## Regularization through adding more data\n",
    "\n",
    "Depending on the configurations you tried above, you probably saw that L1 and L2 regularization are pretty limited for this model and this amount of data. A more straightforward way to prevent overfitting is simply by adding more training data. If the network has more (and more varied) examples to learn from, perhaps it will learn more generalizable rules."
   ]
  },
  {
   "cell_type": "markdown",
   "metadata": {},
   "source": [
    "### Exercise 6: (40 min)\n",
    "\n",
    "How would you test the hypothesis that adding more data would result in a more generalizable model? Explain any change in results you see from further experimentation."
   ]
  },
  {
   "cell_type": "markdown",
   "metadata": {},
   "source": [
    "**Answer.**"
   ]
  },
  {
   "cell_type": "markdown",
   "metadata": {},
   "source": [
    "_What would happen if I use 5,000 instead of 1,000 cases por each class? I will find out._"
   ]
  },
  {
   "cell_type": "code",
   "execution_count": 76,
   "metadata": {},
   "outputs": [
    {
     "data": {
      "text/plain": [
       "5    363122\n",
       "4     80655\n",
       "1     52268\n",
       "3     42640\n",
       "2     29769\n",
       "Name: Score, dtype: int64"
      ]
     },
     "execution_count": 76,
     "metadata": {},
     "output_type": "execute_result"
    }
   ],
   "source": [
    "df.Score.value_counts()"
   ]
  },
  {
   "cell_type": "code",
   "execution_count": 77,
   "metadata": {},
   "outputs": [],
   "source": [
    "df_filtered2=pd.DataFrame()\n",
    "for score in list(df.Score.unique()):\n",
    "    df_score=df.loc[df['Score']==score,['Score','Text']]\n",
    "    df_score=df_score.head(5000)\n",
    "    df_filtered2=pd.concat([df_filtered2,df_score],axis=0)\n",
    "#Scores must be mapped to a 0-4 scale\n",
    "df_filtered2['Score']=df_filtered2['Score']-1"
   ]
  },
  {
   "cell_type": "code",
   "execution_count": 78,
   "metadata": {},
   "outputs": [
    {
     "data": {
      "image/png": "[encoded data removed]",
      "text/plain": [
       "<Figure size 432x288 with 1 Axes>"
      ]
     },
     "metadata": {},
     "output_type": "display_data"
    }
   ],
   "source": [
    "df_filtered2.groupby(['Score'])['Text'].count().plot(kind='bar')\n",
    "plt.title(\"Number of reviews, 5k per score\");"
   ]
  },
  {
   "cell_type": "code",
   "execution_count": 79,
   "metadata": {},
   "outputs": [
    {
     "data": {
      "text/plain": [
       "63528    This product was tried by my entire family, ev...\n",
       "63542    Nice flavor- I would have preferred it slightl...\n",
       "63544    I found the illy issimo Caffe Espresso flavore...\n",
       "63545    If I made my usual morning coffee in my coffee...\n",
       "63546    It's strong coffee but not aggressively so.  S...\n",
       "Name: Text, dtype: object"
      ]
     },
     "execution_count": 79,
     "metadata": {},
     "output_type": "execute_result"
    }
   ],
   "source": [
    "df_filtered2['Text'].tail()"
   ]
  },
  {
   "cell_type": "markdown",
   "metadata": {},
   "source": [
    "_Converting words to lowercase:_"
   ]
  },
  {
   "cell_type": "code",
   "execution_count": 80,
   "metadata": {},
   "outputs": [
    {
     "data": {
      "text/plain": [
       "63528    this product was tried by my entire family, ev...\n",
       "63542    nice flavor- i would have preferred it slightl...\n",
       "63544    i found the illy issimo caffe espresso flavore...\n",
       "63545    if i made my usual morning coffee in my coffee...\n",
       "63546    it's strong coffee but not aggressively so.  s...\n",
       "Name: Text, dtype: object"
      ]
     },
     "execution_count": 80,
     "metadata": {},
     "output_type": "execute_result"
    }
   ],
   "source": [
    "df_filtered2['Text']=df_filtered2['Text'].apply(lambda x: x.lower())\n",
    "df_filtered2['Text'].tail()"
   ]
  },
  {
   "cell_type": "markdown",
   "metadata": {},
   "source": [
    "_Removing special characters:_"
   ]
  },
  {
   "cell_type": "code",
   "execution_count": 81,
   "metadata": {},
   "outputs": [],
   "source": [
    "df_filtered2['Text']=df_filtered2['Text'].apply(remove_special_chars)"
   ]
  },
  {
   "cell_type": "code",
   "execution_count": 82,
   "metadata": {},
   "outputs": [
    {
     "data": {
      "text/plain": [
       "63528    this product was tried by my entire family  ev...\n",
       "63542    nice flavor  i would have preferred it slightl...\n",
       "63544    i found the illy issimo caffe espresso flavore...\n",
       "63545    if i made my usual morning coffee in my coffee...\n",
       "63546    it s strong coffee but not aggressively so   s...\n",
       "Name: Text, dtype: object"
      ]
     },
     "execution_count": 82,
     "metadata": {},
     "output_type": "execute_result"
    }
   ],
   "source": [
    "df_filtered2['Text'].tail()"
   ]
  },
  {
   "cell_type": "code",
   "execution_count": 83,
   "metadata": {},
   "outputs": [],
   "source": [
    "df_filtered2['Text'] = df_filtered2['Text'].apply(remove_stop_words)"
   ]
  },
  {
   "cell_type": "code",
   "execution_count": 84,
   "metadata": {},
   "outputs": [
    {
     "data": {
      "text/plain": [
       "63528    product tried entire family everyone disliked ...\n",
       "63542    nice flavor would preferred slightly sweeter r...\n",
       "63544    found illy issimo caffe espresso flavored coff...\n",
       "63545    made usual morning coffee coffee maker like li...\n",
       "63546    strong coffee aggressively slightly sweet top ...\n",
       "Name: Text, dtype: object"
      ]
     },
     "execution_count": 84,
     "metadata": {},
     "output_type": "execute_result"
    }
   ],
   "source": [
    "df_filtered2['Text'].tail()"
   ]
  },
  {
   "cell_type": "markdown",
   "metadata": {},
   "source": [
    "_Using stemmer._"
   ]
  },
  {
   "cell_type": "code",
   "execution_count": 85,
   "metadata": {},
   "outputs": [
    {
     "data": {
      "text/plain": [
       "0        bought sever vital can dog food product found ...\n",
       "4        great taffi great price wide assort yummi taff...\n",
       "6        saltwat taffi great flavor soft chewi candi in...\n",
       "7        taffi good soft chewi flavor amaz would defini...\n",
       "8        right mostli sprout cat eat grass love rotat a...\n",
       "                               ...                        \n",
       "63528    product tri entir famili everyon dislik espres...\n",
       "63542    nice flavor would prefer slightli sweeter revi...\n",
       "63544    found illi issimo caff espresso flavor coffe d...\n",
       "63545    made usual morn coffe coffe maker like littl s...\n",
       "63546    strong coffe aggress slightli sweet top label ...\n",
       "Name: Text, Length: 25000, dtype: object"
      ]
     },
     "execution_count": 85,
     "metadata": {},
     "output_type": "execute_result"
    }
   ],
   "source": [
    "df_filtered2['Text'].apply(stem_text)"
   ]
  },
  {
   "cell_type": "markdown",
   "metadata": {},
   "source": [
    "_And now we are ready to train a Vectorizer with clean texts._"
   ]
  },
  {
   "cell_type": "code",
   "execution_count": 86,
   "metadata": {},
   "outputs": [
    {
     "data": {
      "text/plain": [
       "63528    product tried entire family everyone disliked ...\n",
       "63542    nice flavor would preferred slightly sweeter r...\n",
       "63544    found illy issimo caffe espresso flavored coff...\n",
       "63545    made usual morning coffee coffee maker like li...\n",
       "63546    strong coffee aggressively slightly sweet top ...\n",
       "Name: Text, dtype: object"
      ]
     },
     "execution_count": 86,
     "metadata": {},
     "output_type": "execute_result"
    }
   ],
   "source": [
    "df_filtered2['Text'].tail()"
   ]
  },
  {
   "cell_type": "code",
   "execution_count": 87,
   "metadata": {},
   "outputs": [],
   "source": [
    "X_train2,X_test2,y_train2,y_test2=train_test_split(df_filtered2['Text'],df_filtered2['Score'],\n",
    "                                               test_size=0.2,random_state=42)"
   ]
  },
  {
   "cell_type": "code",
   "execution_count": 88,
   "metadata": {},
   "outputs": [
    {
     "data": {
      "text/plain": [
       "(20000,)"
      ]
     },
     "execution_count": 88,
     "metadata": {},
     "output_type": "execute_result"
    }
   ],
   "source": [
    "X_train2.shape"
   ]
  },
  {
   "cell_type": "code",
   "execution_count": 89,
   "metadata": {},
   "outputs": [],
   "source": [
    "tokenizer2=Tokenizer()"
   ]
  },
  {
   "cell_type": "code",
   "execution_count": 90,
   "metadata": {},
   "outputs": [],
   "source": [
    "tokenizer2.fit_on_texts(X_train2)"
   ]
  },
  {
   "cell_type": "code",
   "execution_count": 91,
   "metadata": {},
   "outputs": [
    {
     "data": {
      "text/plain": [
       "word         object\n",
       "frequency     int64\n",
       "dtype: object"
      ]
     },
     "execution_count": 91,
     "metadata": {},
     "output_type": "execute_result"
    }
   ],
   "source": [
    "frequencies2=pd.DataFrame(zip(tokenizer2.index_word.values(),tokenizer2.word_counts.values()),\n",
    "                         columns=['word','frequency'])\n",
    "frequencies2.dtypes"
   ]
  },
  {
   "cell_type": "code",
   "execution_count": 92,
   "metadata": {},
   "outputs": [
    {
     "data": {
      "text/html": [
       "<div>\n",
       "<style scoped>\n",
       "    .dataframe tbody tr th:only-of-type {\n",
       "        vertical-align: middle;\n",
       "    }\n",
       "\n",
       "    .dataframe tbody tr th {\n",
       "        vertical-align: top;\n",
       "    }\n",
       "\n",
       "    .dataframe thead th {\n",
       "        text-align: right;\n",
       "    }\n",
       "</style>\n",
       "<table border=\"1\" class=\"dataframe\">\n",
       "  <thead>\n",
       "    <tr style=\"text-align: right;\">\n",
       "      <th></th>\n",
       "      <th>word</th>\n",
       "      <th>frequency</th>\n",
       "    </tr>\n",
       "  </thead>\n",
       "  <tbody>\n",
       "    <tr>\n",
       "      <th>63</th>\n",
       "      <td>give</td>\n",
       "      <td>26468</td>\n",
       "    </tr>\n",
       "    <tr>\n",
       "      <th>277</th>\n",
       "      <td>fact</td>\n",
       "      <td>11043</td>\n",
       "    </tr>\n",
       "    <tr>\n",
       "      <th>72</th>\n",
       "      <td>flavors</td>\n",
       "      <td>7692</td>\n",
       "    </tr>\n",
       "    <tr>\n",
       "      <th>3</th>\n",
       "      <td>good</td>\n",
       "      <td>7469</td>\n",
       "    </tr>\n",
       "    <tr>\n",
       "      <th>5</th>\n",
       "      <td>one</td>\n",
       "      <td>6939</td>\n",
       "    </tr>\n",
       "  </tbody>\n",
       "</table>\n",
       "</div>"
      ],
      "text/plain": [
       "        word  frequency\n",
       "63      give      26468\n",
       "277     fact      11043\n",
       "72   flavors       7692\n",
       "3       good       7469\n",
       "5        one       6939"
      ]
     },
     "execution_count": 92,
     "metadata": {},
     "output_type": "execute_result"
    }
   ],
   "source": [
    "frequencies2.sort_values(by='frequency',ascending=False,inplace=True)\n",
    "frequencies2.head()"
   ]
  },
  {
   "cell_type": "code",
   "execution_count": 93,
   "metadata": {},
   "outputs": [
    {
     "name": "stdout",
     "output_type": "stream",
     "text": [
      "The word frequency which represents the 80th percentile is 12.0\n"
     ]
    }
   ],
   "source": [
    "print(\"The word frequency which represents the 80th percentile is {}\".format(frequencies2.frequency.quantile(0.8)))"
   ]
  },
  {
   "cell_type": "code",
   "execution_count": 94,
   "metadata": {},
   "outputs": [],
   "source": [
    "my_num_words2=len(frequencies2[frequencies2.frequency>=14])+1"
   ]
  },
  {
   "cell_type": "code",
   "execution_count": 95,
   "metadata": {},
   "outputs": [
    {
     "data": {
      "text/plain": [
       "5203"
      ]
     },
     "execution_count": 95,
     "metadata": {},
     "output_type": "execute_result"
    }
   ],
   "source": [
    "my_num_words2"
   ]
  },
  {
   "cell_type": "code",
   "execution_count": 96,
   "metadata": {},
   "outputs": [],
   "source": [
    "#import numpy as np"
   ]
  },
  {
   "cell_type": "code",
   "execution_count": 97,
   "metadata": {},
   "outputs": [],
   "source": [
    "tokenizer=Tokenizer()"
   ]
  },
  {
   "cell_type": "code",
   "execution_count": 98,
   "metadata": {},
   "outputs": [],
   "source": [
    "tokenizer.fit_on_texts(X_train2)"
   ]
  },
  {
   "cell_type": "code",
   "execution_count": 99,
   "metadata": {},
   "outputs": [],
   "source": [
    "X_train_tokens2=tokenizer.texts_to_sequences(X_train2)"
   ]
  },
  {
   "cell_type": "code",
   "execution_count": 100,
   "metadata": {},
   "outputs": [
    {
     "name": "stdout",
     "output_type": "stream",
     "text": [
      "1018\n"
     ]
    }
   ],
   "source": [
    "my_max_len2=np.max([len(x) for x in X_train_tokens2])\n",
    "print(my_max_len2)"
   ]
  },
  {
   "cell_type": "code",
   "execution_count": 101,
   "metadata": {},
   "outputs": [],
   "source": [
    "tokenizer=Tokenizer(num_words=my_num_words2)"
   ]
  },
  {
   "cell_type": "code",
   "execution_count": 102,
   "metadata": {},
   "outputs": [],
   "source": [
    "tokenizer.fit_on_texts(X_train2)"
   ]
  },
  {
   "cell_type": "code",
   "execution_count": 103,
   "metadata": {},
   "outputs": [],
   "source": [
    "X_train_tokens2=tokenizer.texts_to_sequences(X_train2)"
   ]
  },
  {
   "cell_type": "code",
   "execution_count": 104,
   "metadata": {},
   "outputs": [],
   "source": [
    "train_sequences2=pad_sequences(X_train_tokens2,maxlen=my_max_len2)"
   ]
  },
  {
   "cell_type": "code",
   "execution_count": 105,
   "metadata": {},
   "outputs": [],
   "source": [
    "test_sequences2=pad_sequences(tokenizer.texts_to_sequences(X_test2),maxlen=my_max_len2)"
   ]
  },
  {
   "cell_type": "code",
   "execution_count": 106,
   "metadata": {},
   "outputs": [
    {
     "data": {
      "text/plain": [
       "(20000, 1018)"
      ]
     },
     "execution_count": 106,
     "metadata": {},
     "output_type": "execute_result"
    }
   ],
   "source": [
    "train_sequences2.shape"
   ]
  },
  {
   "cell_type": "code",
   "execution_count": 107,
   "metadata": {
    "scrolled": true
   },
   "outputs": [
    {
     "data": {
      "text/plain": [
       "(5000, 1018)"
      ]
     },
     "execution_count": 107,
     "metadata": {},
     "output_type": "execute_result"
    }
   ],
   "source": [
    "test_sequences2.shape"
   ]
  },
  {
   "cell_type": "code",
   "execution_count": 108,
   "metadata": {},
   "outputs": [],
   "source": [
    "train_labels2=y_train2\n",
    "test_labels2=y_test2"
   ]
  },
  {
   "cell_type": "code",
   "execution_count": 109,
   "metadata": {},
   "outputs": [
    {
     "data": {
      "text/plain": [
       "array([[   0,    0,    0, ...,   52,  158,  349],\n",
       "       [   0,    0,    0, ..., 1319,  666,   42],\n",
       "       [   0,    0,    0, ..., 1637,  369,   90],\n",
       "       ...,\n",
       "       [   0,    0,    0, ..., 1038,    3,   11],\n",
       "       [   0,    0,    0, ...,    1,    1,  744],\n",
       "       [   0,    0,    0, ..., 1095, 2170, 2960]], dtype=int32)"
      ]
     },
     "execution_count": 109,
     "metadata": {},
     "output_type": "execute_result"
    }
   ],
   "source": [
    "train_sequences2"
   ]
  },
  {
   "cell_type": "code",
   "execution_count": 110,
   "metadata": {},
   "outputs": [
    {
     "name": "stdout",
     "output_type": "stream",
     "text": [
      "Model: \"sequential_7\"\n",
      "_________________________________________________________________\n",
      "Layer (type)                 Output Shape              Param #   \n",
      "=================================================================\n",
      "embedding_7 (Embedding)      (None, 1018, 128)         665984    \n",
      "_________________________________________________________________\n",
      "dense_19 (Dense)             (None, 1018, 128)         16512     \n",
      "_________________________________________________________________\n",
      "dense_20 (Dense)             (None, 1018, 128)         16512     \n",
      "_________________________________________________________________\n",
      "global_max_pooling1d_7 (Glob (None, 128)               0         \n",
      "_________________________________________________________________\n",
      "dense_21 (Dense)             (None, 5)                 645       \n",
      "=================================================================\n",
      "Total params: 699,653\n",
      "Trainable params: 699,653\n",
      "Non-trainable params: 0\n",
      "_________________________________________________________________\n"
     ]
    },
    {
     "name": "stderr",
     "output_type": "stream",
     "text": [
      "/Users/ggoni/anaconda3/envs/extended_case_7/lib/python3.7/site-packages/keras/engine/sequential.py:111: UserWarning: `Sequential.model` is deprecated. `Sequential` is a subclass of `Model`, you can just use your `Sequential` instance directly.\n",
      "  warnings.warn('`Sequential.model` is deprecated. '\n"
     ]
    }
   ],
   "source": [
    "model_newData = Sequential()\n",
    "model_newData.add(Embedding(my_num_words2, 128, input_length=train_sequences2.shape[1]))\n",
    "model_newData.add(Dense(128, activation='relu'))\n",
    "model_newData.add(Dense(128, activation='relu'))\n",
    "model_newData.add(GlobalMaxPooling1D())\n",
    "model_newData.add(Dense(5, activation='softmax'))\n",
    "model_newData.compile(loss='sparse_categorical_crossentropy', optimizer='adam', metrics=['accuracy'])\n",
    "model_newData.model.summary()"
   ]
  },
  {
   "cell_type": "code",
   "execution_count": 111,
   "metadata": {},
   "outputs": [
    {
     "data": {
      "text/plain": [
       "(20000, 1018)"
      ]
     },
     "execution_count": 111,
     "metadata": {},
     "output_type": "execute_result"
    }
   ],
   "source": [
    "train_sequences2.shape"
   ]
  },
  {
   "cell_type": "code",
   "execution_count": 112,
   "metadata": {},
   "outputs": [
    {
     "data": {
      "text/plain": [
       "41917    2\n",
       "45537    2\n",
       "1576     4\n",
       "18359    3\n",
       "2388     4\n",
       "        ..\n",
       "19042    2\n",
       "4109     0\n",
       "1331     4\n",
       "13849    1\n",
       "45692    2\n",
       "Name: Score, Length: 20000, dtype: int64"
      ]
     },
     "execution_count": 112,
     "metadata": {},
     "output_type": "execute_result"
    }
   ],
   "source": [
    "train_labels2"
   ]
  },
  {
   "cell_type": "code",
   "execution_count": 113,
   "metadata": {},
   "outputs": [
    {
     "name": "stdout",
     "output_type": "stream",
     "text": [
      "Train on 16000 samples, validate on 4000 samples\n",
      "Epoch 1/10\n",
      "16000/16000 [==============================] - 72s 4ms/step - loss: 1.5947 - accuracy: 0.3035 - val_loss: 1.5755 - val_accuracy: 0.4030\n",
      "Epoch 2/10\n",
      "16000/16000 [==============================] - 69s 4ms/step - loss: 1.5375 - accuracy: 0.4642 - val_loss: 1.5098 - val_accuracy: 0.4155\n",
      "Epoch 3/10\n",
      "16000/16000 [==============================] - 69s 4ms/step - loss: 1.4336 - accuracy: 0.4654 - val_loss: 1.3993 - val_accuracy: 0.4218\n",
      "Epoch 4/10\n",
      "16000/16000 [==============================] - 71s 4ms/step - loss: 1.2887 - accuracy: 0.4941 - val_loss: 1.2805 - val_accuracy: 0.4572\n",
      "Epoch 5/10\n",
      "16000/16000 [==============================] - 71s 4ms/step - loss: 1.1587 - accuracy: 0.5372 - val_loss: 1.2188 - val_accuracy: 0.4770\n",
      "Epoch 6/10\n",
      "16000/16000 [==============================] - 82s 5ms/step - loss: 1.0553 - accuracy: 0.5805 - val_loss: 1.1946 - val_accuracy: 0.4845\n",
      "Epoch 7/10\n",
      "16000/16000 [==============================] - 79s 5ms/step - loss: 0.9637 - accuracy: 0.6274 - val_loss: 1.1822 - val_accuracy: 0.4988\n",
      "Epoch 8/10\n",
      "16000/16000 [==============================] - 69s 4ms/step - loss: 0.8797 - accuracy: 0.6699 - val_loss: 1.1855 - val_accuracy: 0.5013\n",
      "Epoch 9/10\n",
      "16000/16000 [==============================] - 69s 4ms/step - loss: 0.8021 - accuracy: 0.7072 - val_loss: 1.2138 - val_accuracy: 0.4960\n",
      "Epoch 10/10\n",
      "16000/16000 [==============================] - 69s 4ms/step - loss: 0.7288 - accuracy: 0.7420 - val_loss: 1.2305 - val_accuracy: 0.5042\n"
     ]
    }
   ],
   "source": [
    "history_newData = model_newData.fit(train_sequences2,train_labels2,\n",
    "                    epochs=10,\n",
    "                    batch_size=1000,\n",
    "                    validation_split=0.2)"
   ]
  },
  {
   "cell_type": "code",
   "execution_count": 114,
   "metadata": {},
   "outputs": [
    {
     "data": {
      "image/png": "[encoded data removed]",
      "text/plain": [
       "<Figure size 1008x432 with 2 Axes>"
      ]
     },
     "metadata": {},
     "output_type": "display_data"
    }
   ],
   "source": [
    "acc = history_newData.history['accuracy']\n",
    "val_acc = history_newData.history['val_accuracy'] \n",
    "loss = history_newData.history['loss'] \n",
    "val_loss = history_newData.history['val_loss']\n",
    "epochs = range(1, len(acc) + 1)\n",
    "\n",
    "\n",
    "\n",
    "fig, (ax0, ax1) = plt.subplots(nrows=1,ncols=2, sharey=False, figsize=(14,6))\n",
    "ax0.plot(epochs,acc,'b',label='Training',color='red')\n",
    "ax0.plot(epochs,val_acc,'bo',label='Validation',color='red')\n",
    "ax0.set(title='Training and Validation Accuracy', xlabel='Epoch', ylabel='Accuracy')\n",
    "ax0.legend(loc='right',facecolor='white')\n",
    "\n",
    "ax1.plot(epochs,loss,'b',label='Training ',color='red')\n",
    "ax1.plot(epochs,val_loss,'bo',label='Validation',color='red')\n",
    "ax1.set(title='Training and Validation Loss', xlabel='Epoch', ylabel='Loss')\n",
    "ax1.legend(loc='right',facecolor='white');"
   ]
  },
  {
   "cell_type": "markdown",
   "metadata": {},
   "source": [
    "_We have made a great effort to compute the best fit for 5X the original numbers of records. Note that the overfitting is not that evident. However, It seems that our number of epochs is excesive when trespassing a threshold. With more time and resources, I would keep on adding records and check if validation accuracy is improving at the margin._"
   ]
  },
  {
   "cell_type": "markdown",
   "metadata": {},
   "source": [
    "## Regularization through early stopping\n",
    "\n",
    "We have consistently seen that our neural network overfits at around the third epoch. Hence, another form of regularization is to end training early if validation loss starts increasing. (This is similar to the validation curves we used when constructing classification models.) Although the network will not have found an optimal function in the training data, the looser function that it has found will likely be more generalizable.\n",
    "\n",
    "You can do this manually by inspecting the data as we have done above and modifying the `epochs` argument in `fit()`, but Keras also allows you to easily do this automatically via an [`EarlyStopping` callback](https://www.tensorflow.org/api_docs/python/tf/keras/callbacks/EarlyStopping)."
   ]
  },
  {
   "cell_type": "markdown",
   "metadata": {},
   "source": [
    "### Exercise 7: (25 min)\n",
    "\n",
    "Experiment with the `EarlyStopping` callback and explain the results."
   ]
  },
  {
   "cell_type": "markdown",
   "metadata": {},
   "source": [
    "**Answer.**"
   ]
  },
  {
   "cell_type": "code",
   "execution_count": 115,
   "metadata": {},
   "outputs": [],
   "source": [
    "from keras.callbacks import EarlyStopping"
   ]
  },
  {
   "cell_type": "markdown",
   "metadata": {},
   "source": [
    "_We will enable:Early stop on validation accuracy, based on ```validation_loss``` and a 0.02 difference in the indicator to stop, if needed._"
   ]
  },
  {
   "cell_type": "code",
   "execution_count": 116,
   "metadata": {},
   "outputs": [],
   "source": [
    "from keras import callbacks\n",
    "callback = callbacks.EarlyStopping(monitor='val_loss',mode='min',min_delta=0.02)"
   ]
  },
  {
   "cell_type": "code",
   "execution_count": 117,
   "metadata": {},
   "outputs": [
    {
     "name": "stdout",
     "output_type": "stream",
     "text": [
      "Model: \"sequential_8\"\n",
      "_________________________________________________________________\n",
      "Layer (type)                 Output Shape              Param #   \n",
      "=================================================================\n",
      "embedding_8 (Embedding)      (None, 1018, 128)         665984    \n",
      "_________________________________________________________________\n",
      "dense_22 (Dense)             (None, 1018, 128)         16512     \n",
      "_________________________________________________________________\n",
      "dense_23 (Dense)             (None, 1018, 128)         16512     \n",
      "_________________________________________________________________\n",
      "global_max_pooling1d_8 (Glob (None, 128)               0         \n",
      "_________________________________________________________________\n",
      "dense_24 (Dense)             (None, 5)                 645       \n",
      "=================================================================\n",
      "Total params: 699,653\n",
      "Trainable params: 699,653\n",
      "Non-trainable params: 0\n",
      "_________________________________________________________________\n"
     ]
    }
   ],
   "source": [
    "model_newData2 = Sequential()\n",
    "model_newData2.add(Embedding(my_num_words2, 128, input_length=train_sequences2.shape[1]))\n",
    "model_newData2.add(Dense(128, activation='relu'))\n",
    "model_newData2.add(Dense(128, activation='relu'))\n",
    "model_newData2.add(GlobalMaxPooling1D())\n",
    "model_newData2.add(Dense(5, activation='softmax'))\n",
    "model_newData2.compile(loss='sparse_categorical_crossentropy', optimizer='adam', metrics=['accuracy'])\n",
    "model_newData2.model.summary()"
   ]
  },
  {
   "cell_type": "code",
   "execution_count": 118,
   "metadata": {},
   "outputs": [
    {
     "name": "stdout",
     "output_type": "stream",
     "text": [
      "Train on 16000 samples, validate on 4000 samples\n",
      "Epoch 1/10\n",
      "16000/16000 [==============================] - 63s 4ms/step - loss: 1.4609 - accuracy: 0.3724 - val_loss: 1.2737 - val_accuracy: 0.4527\n",
      "Epoch 2/10\n",
      "16000/16000 [==============================] - 63s 4ms/step - loss: 1.1677 - accuracy: 0.5098 - val_loss: 1.2001 - val_accuracy: 0.4915\n",
      "Epoch 3/10\n",
      "16000/16000 [==============================] - 66s 4ms/step - loss: 1.0015 - accuracy: 0.5966 - val_loss: 1.2084 - val_accuracy: 0.4938\n"
     ]
    }
   ],
   "source": [
    "history_newData = model_newData2.fit(train_sequences2,train_labels2,\n",
    "                    epochs=10,\n",
    "                    batch_size=100,\n",
    "                    validation_split=0.2,\n",
    "                    callbacks=[callback])"
   ]
  },
  {
   "cell_type": "markdown",
   "metadata": {},
   "source": [
    "## Evaluating our model"
   ]
  },
  {
   "cell_type": "markdown",
   "metadata": {},
   "source": [
    "Unlike in most previous cases, we used *three* splits of our data instead of two. All of our model tuning has been done on the validation set, and we have not even touched the test set that we split off right at the start.\n",
    "\n",
    "For experiments, it's very important that your model is only run **once** on your test set. As there is so much randomness at play, it's vital to not \"cherry-pick\" the best results, so optimize as much as you want on the validation set, but keep the test set until the end and all official results should be based on the single run of the test set (or whatever configuration was decided *before the experiment started*)."
   ]
  },
  {
   "cell_type": "markdown",
   "metadata": {},
   "source": [
    "### Exercise 8: (30 min)\n",
    "\n",
    "Let's take the model configuration that resulted in the highest validation accuracy and use that one as our final model. Evaluate this configuration on how well it performs on the test set, and furthermore diagnose *what kinds of mistakes it makes*. Explain whether these mistakes are expected or not. Given the mistakes the model made, how would you then go back and try to improve the model or optimize the tuning steps?\n",
    "\n",
    "*Hint: You can use the [`predict_classes`](https://www.tensorflow.org/api_docs/python/tf/keras/Sequential#predict_classes) method on your model to get the most probable class directly.*"
   ]
  },
  {
   "cell_type": "markdown",
   "metadata": {},
   "source": [
    "**Answer.**"
   ]
  },
  {
   "cell_type": "code",
   "execution_count": 119,
   "metadata": {},
   "outputs": [
    {
     "data": {
      "text/plain": [
       "89293"
      ]
     },
     "execution_count": 119,
     "metadata": {},
     "output_type": "execute_result"
    }
   ],
   "source": [
    "test_labels2.index.max()"
   ]
  },
  {
   "cell_type": "code",
   "execution_count": 120,
   "metadata": {},
   "outputs": [],
   "source": [
    "pred_def_test_labels2=pd.Series(history_newData.model.predict_classes(test_sequences2),index=test_labels2.index)"
   ]
  },
  {
   "cell_type": "code",
   "execution_count": 121,
   "metadata": {},
   "outputs": [
    {
     "data": {
      "text/plain": [
       "0.5072"
      ]
     },
     "execution_count": 121,
     "metadata": {},
     "output_type": "execute_result"
    }
   ],
   "source": [
    "accuracy_score(test_labels2,pred_def_test_labels2)"
   ]
  },
  {
   "cell_type": "code",
   "execution_count": 122,
   "metadata": {},
   "outputs": [],
   "source": [
    "df_diff=pd.concat([test_labels2,pred_def_test_labels2],axis=1)\n",
    "df_diff.columns=['real','predicted']"
   ]
  },
  {
   "cell_type": "code",
   "execution_count": 123,
   "metadata": {},
   "outputs": [],
   "source": [
    "df_diff['diff']=df_diff['real']-df_diff['predicted']"
   ]
  },
  {
   "cell_type": "code",
   "execution_count": 124,
   "metadata": {},
   "outputs": [],
   "source": [
    "indices=df_diff[df_diff['diff'].apply(abs)==4].sample(5,random_state=42).index"
   ]
  },
  {
   "cell_type": "code",
   "execution_count": 125,
   "metadata": {},
   "outputs": [
    {
     "data": {
      "text/html": [
       "<div>\n",
       "<style scoped>\n",
       "    .dataframe tbody tr th:only-of-type {\n",
       "        vertical-align: middle;\n",
       "    }\n",
       "\n",
       "    .dataframe tbody tr th {\n",
       "        vertical-align: top;\n",
       "    }\n",
       "\n",
       "    .dataframe thead th {\n",
       "        text-align: right;\n",
       "    }\n",
       "</style>\n",
       "<table border=\"1\" class=\"dataframe\">\n",
       "  <thead>\n",
       "    <tr style=\"text-align: right;\">\n",
       "      <th></th>\n",
       "      <th>real</th>\n",
       "      <th>predicted</th>\n",
       "      <th>diff</th>\n",
       "    </tr>\n",
       "  </thead>\n",
       "  <tbody>\n",
       "    <tr>\n",
       "      <th>27325</th>\n",
       "      <td>0</td>\n",
       "      <td>4</td>\n",
       "      <td>-4</td>\n",
       "    </tr>\n",
       "    <tr>\n",
       "      <th>14834</th>\n",
       "      <td>0</td>\n",
       "      <td>4</td>\n",
       "      <td>-4</td>\n",
       "    </tr>\n",
       "    <tr>\n",
       "      <th>6218</th>\n",
       "      <td>0</td>\n",
       "      <td>4</td>\n",
       "      <td>-4</td>\n",
       "    </tr>\n",
       "    <tr>\n",
       "      <th>25030</th>\n",
       "      <td>0</td>\n",
       "      <td>4</td>\n",
       "      <td>-4</td>\n",
       "    </tr>\n",
       "    <tr>\n",
       "      <th>7375</th>\n",
       "      <td>4</td>\n",
       "      <td>0</td>\n",
       "      <td>4</td>\n",
       "    </tr>\n",
       "  </tbody>\n",
       "</table>\n",
       "</div>"
      ],
      "text/plain": [
       "       real  predicted  diff\n",
       "27325     0          4    -4\n",
       "14834     0          4    -4\n",
       "6218      0          4    -4\n",
       "25030     0          4    -4\n",
       "7375      4          0     4"
      ]
     },
     "execution_count": 125,
     "metadata": {},
     "output_type": "execute_result"
    }
   ],
   "source": [
    "df_diff.loc[indices]"
   ]
  },
  {
   "cell_type": "code",
   "execution_count": 126,
   "metadata": {},
   "outputs": [
    {
     "data": {
      "text/plain": [
       "Int64Index([27325, 14834, 6218, 25030, 7375], dtype='int64')"
      ]
     },
     "execution_count": 126,
     "metadata": {},
     "output_type": "execute_result"
    }
   ],
   "source": [
    "indices"
   ]
  },
  {
   "cell_type": "code",
   "execution_count": 127,
   "metadata": {},
   "outputs": [
    {
     "name": "stdout",
     "output_type": "stream",
     "text": [
      "================================================================================================\n",
      "Review #27325\n",
      "great gift son wife many sleepless nights new baby new years day dinner brewed one blends pie aroma taste excellent\n",
      "================================================================================================\n",
      "================================================================================================\n",
      "Review #14834\n",
      "disapointed salt since truffle salt expected taste least hint truffle didnt want really good truffle flavored salt order fusion black truffle salt wonderfully strong aroma great flavor\n",
      "================================================================================================\n",
      "================================================================================================\n",
      "Review #6218\n",
      "tastes like jack links brand wild bill even texture totally different wild bill recommended\n",
      "================================================================================================\n",
      "================================================================================================\n",
      "Review #25030\n",
      "drinking chocolate raspberry truffle coffee quite recommending friends loved first conscious thought every morning would great tasting cup coffee yum happened last boxes absolutely tastless wonderful aroma either might well drinking hot water disappointment wonderful flavor memory sadly giving chocolate raspberry truffle purchase another flavor\n",
      "================================================================================================\n",
      "================================================================================================\n",
      "Review #7375\n",
      "nothing better huge baked sweet potato real butter splenda brown sugar totally covering butter sweet potato makes want fix one right\n",
      "================================================================================================\n"
     ]
    }
   ],
   "source": [
    "for _,index in enumerate(indices):\n",
    "    print(\"================================================================================================\")\n",
    "    print(\"Review #{}\".format(index))\n",
    "    print(df_filtered2.loc[index,'Text'])\n",
    "    print(\"================================================================================================\")"
   ]
  },
  {
   "cell_type": "markdown",
   "metadata": {},
   "source": [
    "_It seems that the use of some words with double meaning could make the clasiffier to get confused. Note that in review #27325, words like ```great``` and ```excellent```are written. In this case we predict a 5 (4+1), when the real review was 1. On the other hand, Review #7375 is very good (5), but the model predicted it as a 1. Note that some words are likely confusing words like ```nothing``` , ```fix``` and ```potato``` are used.\n",
    "If more time and resources were given, I would try to :\n",
    "\n",
    "_1. use n-grams_\n",
    "\n",
    "_2. some kind of embedding to check again (Like Glove, for instance.)_"
   ]
  }
 ],
 "metadata": {
  "anaconda-cloud": {},
  "kernelspec": {
   "display_name": "Python 3",
   "language": "python",
   "name": "python3"
  },
  "language_info": {
   "codemirror_mode": {
    "name": "ipython",
    "version": 3
   },
   "file_extension": ".py",
   "mimetype": "text/x-python",
   "name": "python",
   "nbconvert_exporter": "python",
   "pygments_lexer": "ipython3",
   "version": "3.7.6"
  }
 },
 "nbformat": 4,
 "nbformat_minor": 2
}
